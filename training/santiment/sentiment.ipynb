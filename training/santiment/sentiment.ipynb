{
 "cells": [
  {
   "cell_type": "code",
   "execution_count": 34,
   "metadata": {},
   "outputs": [],
   "source": [
    "import pandas as pd\n",
    "import nltk\n",
    "from nltk.corpus import stopwords as nltk_stopwords\n",
    "from sklearn.feature_extraction.text import TfidfVectorizer\n",
    "from sklearn.linear_model import LogisticRegression\n",
    "from sklearn.linear_model import LogisticRegressionCV\n",
    "from sklearn.model_selection import train_test_split\n",
    "from sklearn.metrics import accuracy_score"
   ]
  },
  {
   "cell_type": "code",
   "execution_count": 42,
   "metadata": {},
   "outputs": [
    {
     "data": {
      "text/html": [
       "<div>\n",
       "<style scoped>\n",
       "    .dataframe tbody tr th:only-of-type {\n",
       "        vertical-align: middle;\n",
       "    }\n",
       "\n",
       "    .dataframe tbody tr th {\n",
       "        vertical-align: top;\n",
       "    }\n",
       "\n",
       "    .dataframe thead th {\n",
       "        text-align: right;\n",
       "    }\n",
       "</style>\n",
       "<table border=\"1\" class=\"dataframe\">\n",
       "  <thead>\n",
       "    <tr style=\"text-align: right;\">\n",
       "      <th></th>\n",
       "      <th>text</th>\n",
       "      <th>positive</th>\n",
       "      <th>lemm_text</th>\n",
       "    </tr>\n",
       "  </thead>\n",
       "  <tbody>\n",
       "    <tr>\n",
       "      <th>0</th>\n",
       "      <td>@first_timee хоть я и школота, но поверь, у на...</td>\n",
       "      <td>1</td>\n",
       "      <td>хоть я и школотый но поверь у мы то же самый о...</td>\n",
       "    </tr>\n",
       "    <tr>\n",
       "      <th>1</th>\n",
       "      <td>Да, все-таки он немного похож на него. Но мой ...</td>\n",
       "      <td>1</td>\n",
       "      <td>да весь таки он немного похожий на он но мой м...</td>\n",
       "    </tr>\n",
       "    <tr>\n",
       "      <th>2</th>\n",
       "      <td>RT @KatiaCheh: Ну ты идиотка) я испугалась за ...</td>\n",
       "      <td>1</td>\n",
       "      <td>ну ты идиотка я испугаться за ты</td>\n",
       "    </tr>\n",
       "    <tr>\n",
       "      <th>3</th>\n",
       "      <td>RT @digger2912: \"Кто то в углу сидит и погибае...</td>\n",
       "      <td>1</td>\n",
       "      <td>кто то в угол сидеть и погибать от голод а мы ...</td>\n",
       "    </tr>\n",
       "    <tr>\n",
       "      <th>4</th>\n",
       "      <td>@irina_dyshkant Вот что значит страшилка :D\\r\\...</td>\n",
       "      <td>1</td>\n",
       "      <td>вот что значит страшилка но блин посмотреть ве...</td>\n",
       "    </tr>\n",
       "  </tbody>\n",
       "</table>\n",
       "</div>"
      ],
      "text/plain": [
       "                                                text  positive  \\\n",
       "0  @first_timee хоть я и школота, но поверь, у на...         1   \n",
       "1  Да, все-таки он немного похож на него. Но мой ...         1   \n",
       "2  RT @KatiaCheh: Ну ты идиотка) я испугалась за ...         1   \n",
       "3  RT @digger2912: \"Кто то в углу сидит и погибае...         1   \n",
       "4  @irina_dyshkant Вот что значит страшилка :D\\r\\...         1   \n",
       "\n",
       "                                           lemm_text  \n",
       "0  хоть я и школотый но поверь у мы то же самый о...  \n",
       "1  да весь таки он немного похожий на он но мой м...  \n",
       "2                  ну ты идиотка я испугаться за ты   \n",
       "3  кто то в угол сидеть и погибать от голод а мы ...  \n",
       "4  вот что значит страшилка но блин посмотреть ве...  "
      ]
     },
     "execution_count": 42,
     "metadata": {},
     "output_type": "execute_result"
    }
   ],
   "source": [
    "train_data = pd.read_csv('data/tweets_lemm_train.csv')\n",
    "train_data.head()"
   ]
  },
  {
   "cell_type": "code",
   "execution_count": 43,
   "metadata": {},
   "outputs": [
    {
     "data": {
      "text/html": [
       "<div>\n",
       "<style scoped>\n",
       "    .dataframe tbody tr th:only-of-type {\n",
       "        vertical-align: middle;\n",
       "    }\n",
       "\n",
       "    .dataframe tbody tr th {\n",
       "        vertical-align: top;\n",
       "    }\n",
       "\n",
       "    .dataframe thead th {\n",
       "        text-align: right;\n",
       "    }\n",
       "</style>\n",
       "<table border=\"1\" class=\"dataframe\">\n",
       "  <thead>\n",
       "    <tr style=\"text-align: right;\">\n",
       "      <th></th>\n",
       "      <th>text</th>\n",
       "      <th>lemm_text</th>\n",
       "    </tr>\n",
       "  </thead>\n",
       "  <tbody>\n",
       "    <tr>\n",
       "      <th>0</th>\n",
       "      <td>RT @tiredfennel: если криса так интересуют дет...</td>\n",
       "      <td>если крис так интересовать ребёнок то либо они...</td>\n",
       "    </tr>\n",
       "    <tr>\n",
       "      <th>1</th>\n",
       "      <td>@xsealord по 200 руб. в месяц можно разместить...</td>\n",
       "      <td>по рубль в месяц можно разместить ссылка на те...</td>\n",
       "    </tr>\n",
       "    <tr>\n",
       "      <th>2</th>\n",
       "      <td>@haosANDlaw @Etishkindyx учитывая, что сейчас ...</td>\n",
       "      <td>учитывать что сейчас преобладать один половина...</td>\n",
       "    </tr>\n",
       "    <tr>\n",
       "      <th>3</th>\n",
       "      <td>Товарищ    :) Но я никак не могу отдельно не о...</td>\n",
       "      <td>товарищ но я никак не мочь отдельно не отметит...</td>\n",
       "    </tr>\n",
       "    <tr>\n",
       "      <th>4</th>\n",
       "      <td>RT @BodyaNick: Квн был отличный !) Оооочень по...</td>\n",
       "      <td>квн быть отличный оооочень понравиться женский...</td>\n",
       "    </tr>\n",
       "  </tbody>\n",
       "</table>\n",
       "</div>"
      ],
      "text/plain": [
       "                                                text  \\\n",
       "0  RT @tiredfennel: если криса так интересуют дет...   \n",
       "1  @xsealord по 200 руб. в месяц можно разместить...   \n",
       "2  @haosANDlaw @Etishkindyx учитывая, что сейчас ...   \n",
       "3  Товарищ    :) Но я никак не могу отдельно не о...   \n",
       "4  RT @BodyaNick: Квн был отличный !) Оооочень по...   \n",
       "\n",
       "                                           lemm_text  \n",
       "0  если крис так интересовать ребёнок то либо они...  \n",
       "1  по рубль в месяц можно разместить ссылка на те...  \n",
       "2  учитывать что сейчас преобладать один половина...  \n",
       "3  товарищ но я никак не мочь отдельно не отметит...  \n",
       "4  квн быть отличный оооочень понравиться женский...  "
      ]
     },
     "execution_count": 43,
     "metadata": {},
     "output_type": "execute_result"
    }
   ],
   "source": [
    "valid_data = pd.read_csv('data/tweets_lemm_test.csv')\n",
    "valid_data.head()"
   ]
  },
  {
   "cell_type": "code",
   "execution_count": 64,
   "metadata": {},
   "outputs": [
    {
     "name": "stdout",
     "output_type": "stream",
     "text": [
      "Размер матрицы: (5000, 9737)\n"
     ]
    },
    {
     "name": "stderr",
     "output_type": "stream",
     "text": [
      "[nltk_data] Downloading package stopwords to /Users/mike/nltk_data...\n",
      "[nltk_data]   Package stopwords is already up-to-date!\n"
     ]
    }
   ],
   "source": [
    "corpus = train_data['lemm_text']\n",
    "\n",
    "nltk.download('stopwords')\n",
    "stopwords = set(nltk_stopwords.words('russian'))\n",
    "\n",
    "count_tfidf = TfidfVectorizer(stop_words=stopwords)\n",
    "features_tf_idf = count_tfidf.fit_transform(corpus)\n",
    "\n",
    "print(\"Размер матрицы:\", features_tf_idf.shape)"
   ]
  },
  {
   "cell_type": "code",
   "execution_count": 65,
   "metadata": {},
   "outputs": [],
   "source": [
    "target = train_data['positive']\n",
    "\n",
    "train_features, test_features, train_target, test_target = train_test_split(features_tf_idf, target,\n",
    "                                                                            test_size=0.2, random_state=42)"
   ]
  },
  {
   "cell_type": "code",
   "execution_count": 66,
   "metadata": {},
   "outputs": [
    {
     "name": "stdout",
     "output_type": "stream",
     "text": [
      "train 0.90825\n",
      "test 0.628\n"
     ]
    }
   ],
   "source": [
    "lg_model = LogisticRegression()\n",
    "lg_model.fit(train_features, train_target)\n",
    "\n",
    "train_predict = lg_model.predict(train_features)\n",
    "print('train', accuracy_score(train_target, train_predict))\n",
    "\n",
    "test_predict = lg_model.predict(test_features)\n",
    "print('test', accuracy_score(test_target, test_predict))"
   ]
  },
  {
   "cell_type": "code",
   "execution_count": 67,
   "metadata": {},
   "outputs": [
    {
     "name": "stdout",
     "output_type": "stream",
     "text": [
      "train 0.9505\n",
      "test 0.634\n"
     ]
    }
   ],
   "source": [
    "lg_CV_model = LogisticRegressionCV(cv=20, scoring='accuracy', max_iter=500)\n",
    "lg_CV_model.fit(train_features, train_target)\n",
    "\n",
    "train_predict = lg_CV_model.predict(train_features)\n",
    "print('train', accuracy_score(train_target, train_predict))\n",
    "\n",
    "test_predict = lg_CV_model.predict(test_features)\n",
    "print('test', accuracy_score(test_target, test_predict))"
   ]
  },
  {
   "cell_type": "code",
   "execution_count": 68,
   "metadata": {},
   "outputs": [
    {
     "data": {
      "text/plain": [
       "<1000x9737 sparse matrix of type '<class 'numpy.float64'>'\n",
       "\twith 6338 stored elements in Compressed Sparse Row format>"
      ]
     },
     "execution_count": 68,
     "metadata": {},
     "output_type": "execute_result"
    }
   ],
   "source": [
    "test_features"
   ]
  },
  {
   "cell_type": "code",
   "execution_count": 69,
   "metadata": {},
   "outputs": [
    {
     "name": "stdout",
     "output_type": "stream",
     "text": [
      "Размер матрицы: (3000, 9737)\n"
     ]
    }
   ],
   "source": [
    "valid_corpus = valid_data['lemm_text']\n",
    "\n",
    "# nltk.download('stopwords')\n",
    "# stopwords = set(nltk_stopwords.words('russian'))\n",
    "\n",
    "# count_tfidf = TfidfVectorizer(stop_words=stopwords)\n",
    "valid_features_tf_idf = count_tfidf.transform(valid_corpus)\n",
    "print(\"Размер матрицы:\", valid_features_tf_idf.shape)"
   ]
  },
  {
   "cell_type": "code",
   "execution_count": 70,
   "metadata": {},
   "outputs": [
    {
     "data": {
      "text/plain": [
       "array([0, 1, 0, ..., 0, 0, 1])"
      ]
     },
     "execution_count": 70,
     "metadata": {},
     "output_type": "execute_result"
    }
   ],
   "source": [
    "lg_CV_model.predict(valid_features_tf_idf)"
   ]
  },
  {
   "cell_type": "code",
   "execution_count": 72,
   "metadata": {},
   "outputs": [],
   "source": [
    "valid_data['positive'] = lg_CV_model.predict(valid_features_tf_idf)\n",
    "\n",
    "valid_data.to_csv('result')"
   ]
  },
  {
   "cell_type": "code",
   "execution_count": null,
   "metadata": {},
   "outputs": [],
   "source": []
  }
 ],
 "metadata": {
  "language_info": {
   "name": "python"
  },
  "orig_nbformat": 4
 },
 "nbformat": 4,
 "nbformat_minor": 2
}
