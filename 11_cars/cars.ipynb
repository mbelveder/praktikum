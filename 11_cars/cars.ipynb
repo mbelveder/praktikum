{
 "cells": [
  {
   "cell_type": "markdown",
   "metadata": {},
   "source": [
    "# Определение стоимости автомобилей"
   ]
  },
  {
   "cell_type": "markdown",
   "metadata": {},
   "source": [
    "Сервис по продаже автомобилей с пробегом «Не бит, не крашен» разрабатывает приложение для привлечения новых клиентов. В нём можно быстро узнать рыночную стоимость своего автомобиля. В вашем распоряжении исторические данные: технические характеристики, комплектации и цены автомобилей. Вам нужно построить модель для определения стоимости. \n",
    "\n",
    "Заказчику важны:\n",
    "\n",
    "- качество предсказания;\n",
    "- скорость предсказания;\n",
    "- время обучения."
   ]
  },
  {
   "cell_type": "code",
   "execution_count": 1,
   "metadata": {},
   "outputs": [],
   "source": [
    "import os\n",
    "\n",
    "import numpy as np\n",
    "\n",
    "import pandas as pd\n",
    "import matplotlib.pyplot as plt\n",
    "plt.rcParams['figure.figsize'] = (10, 6)\n",
    "\n",
    "import seaborn as sns\n",
    "sns.set_context('notebook', font_scale=1.5)\n",
    "sns.set_style('darkgrid', rc={'ytick.left':True, 'ytick.direction':'in',\n",
    "                              'xtick.bottom':True, 'xtick.direction':'in'})\n",
    "\n",
    "from pandas_profiling import ProfileReport"
   ]
  },
  {
   "cell_type": "code",
   "execution_count": 2,
   "metadata": {},
   "outputs": [],
   "source": [
    "# import lightgbm as lgb\n",
    "from lightgbm import LGBMRegressor\n",
    "from sklearn.model_selection import train_test_split\n",
    "from sklearn.metrics import mean_squared_error as mse\n",
    "from sklearn.linear_model import LinearRegression\n",
    "from sklearn.preprocessing import StandardScaler"
   ]
  },
  {
   "cell_type": "code",
   "execution_count": 3,
   "metadata": {},
   "outputs": [],
   "source": [
    "def get_data(filename):\n",
    "    \n",
    "    \"\"\"\n",
    "    Reads the data from the given path.\n",
    "    \"\"\"\n",
    "\n",
    "    pth1 = f'/datasets/{filename}'\n",
    "    pth2 = f'data/{filename}'\n",
    "\n",
    "    if os.path.exists(pth1):\n",
    "        df = pd.read_csv(pth1)\n",
    "        print(f'Reading {pth1}...')\n",
    "    elif os.path.exists(pth2):\n",
    "        df = pd.read_csv(pth2)\n",
    "        print(f'Reading {pth2}...')\n",
    "    else:\n",
    "        print('Check the file path')\n",
    "\n",
    "    return df"
   ]
  },
  {
   "cell_type": "markdown",
   "metadata": {},
   "source": [
    "## Подготовка данных"
   ]
  },
  {
   "cell_type": "markdown",
   "metadata": {},
   "source": [
    "`DateCrawled` — дата скачивания анкеты из базы\n",
    "\n",
    "`VehicleType` — тип автомобильного кузова\n",
    "\n",
    "`RegistrationYear` — год регистрации автомобиля\n",
    "\n",
    "`Gearbox` — тип коробки передач\n",
    "\n",
    "`Power` — мощность (л. с.)\n",
    "\n",
    "`Model` — модель автомобиля\n",
    "\n",
    "`Kilometer` — пробег (км)\n",
    "\n",
    "`RegistrationMonth` — месяц регистрации автомобиля\n",
    "\n",
    "`FuelType` — тип топлива\n",
    "\n",
    "`Brand` — марка автомобиля\n",
    "\n",
    "`NotRepaired` — была машина в ремонте или нет\n",
    "\n",
    "`DateCreated` — дата создания анкеты\n",
    "\n",
    "`NumberOfPictures` — количество фотографий автомобиля\n",
    "\n",
    "`PostalCode` — почтовый индекс владельца анкеты (пользователя)\n",
    "\n",
    "`LastSeen` — дата последней активности пользователя\n"
   ]
  },
  {
   "cell_type": "code",
   "execution_count": 4,
   "metadata": {},
   "outputs": [
    {
     "name": "stdout",
     "output_type": "stream",
     "text": [
      "Reading data/autos.csv...\n",
      "Reading data/autos.csv...\n"
     ]
    },
    {
     "data": {
      "text/html": [
       "<div>\n",
       "<style scoped>\n",
       "    .dataframe tbody tr th:only-of-type {\n",
       "        vertical-align: middle;\n",
       "    }\n",
       "\n",
       "    .dataframe tbody tr th {\n",
       "        vertical-align: top;\n",
       "    }\n",
       "\n",
       "    .dataframe thead th {\n",
       "        text-align: right;\n",
       "    }\n",
       "</style>\n",
       "<table border=\"1\" class=\"dataframe\">\n",
       "  <thead>\n",
       "    <tr style=\"text-align: right;\">\n",
       "      <th></th>\n",
       "      <th>DateCrawled</th>\n",
       "      <th>Price</th>\n",
       "      <th>VehicleType</th>\n",
       "      <th>RegistrationYear</th>\n",
       "      <th>Gearbox</th>\n",
       "      <th>Power</th>\n",
       "      <th>Model</th>\n",
       "      <th>Kilometer</th>\n",
       "      <th>RegistrationMonth</th>\n",
       "      <th>FuelType</th>\n",
       "      <th>Brand</th>\n",
       "      <th>NotRepaired</th>\n",
       "      <th>DateCreated</th>\n",
       "      <th>NumberOfPictures</th>\n",
       "      <th>PostalCode</th>\n",
       "      <th>LastSeen</th>\n",
       "    </tr>\n",
       "  </thead>\n",
       "  <tbody>\n",
       "    <tr>\n",
       "      <th>0</th>\n",
       "      <td>2016-03-24 11:52:17</td>\n",
       "      <td>480</td>\n",
       "      <td>NaN</td>\n",
       "      <td>1993</td>\n",
       "      <td>manual</td>\n",
       "      <td>0</td>\n",
       "      <td>golf</td>\n",
       "      <td>150000</td>\n",
       "      <td>0</td>\n",
       "      <td>petrol</td>\n",
       "      <td>volkswagen</td>\n",
       "      <td>NaN</td>\n",
       "      <td>2016-03-24 00:00:00</td>\n",
       "      <td>0</td>\n",
       "      <td>70435</td>\n",
       "      <td>2016-04-07 03:16:57</td>\n",
       "    </tr>\n",
       "    <tr>\n",
       "      <th>1</th>\n",
       "      <td>2016-03-24 10:58:45</td>\n",
       "      <td>18300</td>\n",
       "      <td>coupe</td>\n",
       "      <td>2011</td>\n",
       "      <td>manual</td>\n",
       "      <td>190</td>\n",
       "      <td>NaN</td>\n",
       "      <td>125000</td>\n",
       "      <td>5</td>\n",
       "      <td>gasoline</td>\n",
       "      <td>audi</td>\n",
       "      <td>yes</td>\n",
       "      <td>2016-03-24 00:00:00</td>\n",
       "      <td>0</td>\n",
       "      <td>66954</td>\n",
       "      <td>2016-04-07 01:46:50</td>\n",
       "    </tr>\n",
       "    <tr>\n",
       "      <th>2</th>\n",
       "      <td>2016-03-14 12:52:21</td>\n",
       "      <td>9800</td>\n",
       "      <td>suv</td>\n",
       "      <td>2004</td>\n",
       "      <td>auto</td>\n",
       "      <td>163</td>\n",
       "      <td>grand</td>\n",
       "      <td>125000</td>\n",
       "      <td>8</td>\n",
       "      <td>gasoline</td>\n",
       "      <td>jeep</td>\n",
       "      <td>NaN</td>\n",
       "      <td>2016-03-14 00:00:00</td>\n",
       "      <td>0</td>\n",
       "      <td>90480</td>\n",
       "      <td>2016-04-05 12:47:46</td>\n",
       "    </tr>\n",
       "    <tr>\n",
       "      <th>3</th>\n",
       "      <td>2016-03-17 16:54:04</td>\n",
       "      <td>1500</td>\n",
       "      <td>small</td>\n",
       "      <td>2001</td>\n",
       "      <td>manual</td>\n",
       "      <td>75</td>\n",
       "      <td>golf</td>\n",
       "      <td>150000</td>\n",
       "      <td>6</td>\n",
       "      <td>petrol</td>\n",
       "      <td>volkswagen</td>\n",
       "      <td>no</td>\n",
       "      <td>2016-03-17 00:00:00</td>\n",
       "      <td>0</td>\n",
       "      <td>91074</td>\n",
       "      <td>2016-03-17 17:40:17</td>\n",
       "    </tr>\n",
       "    <tr>\n",
       "      <th>4</th>\n",
       "      <td>2016-03-31 17:25:20</td>\n",
       "      <td>3600</td>\n",
       "      <td>small</td>\n",
       "      <td>2008</td>\n",
       "      <td>manual</td>\n",
       "      <td>69</td>\n",
       "      <td>fabia</td>\n",
       "      <td>90000</td>\n",
       "      <td>7</td>\n",
       "      <td>gasoline</td>\n",
       "      <td>skoda</td>\n",
       "      <td>no</td>\n",
       "      <td>2016-03-31 00:00:00</td>\n",
       "      <td>0</td>\n",
       "      <td>60437</td>\n",
       "      <td>2016-04-06 10:17:21</td>\n",
       "    </tr>\n",
       "  </tbody>\n",
       "</table>\n",
       "</div>"
      ],
      "text/plain": [
       "           DateCrawled  Price VehicleType  RegistrationYear Gearbox  Power  \\\n",
       "0  2016-03-24 11:52:17    480         NaN              1993  manual      0   \n",
       "1  2016-03-24 10:58:45  18300       coupe              2011  manual    190   \n",
       "2  2016-03-14 12:52:21   9800         suv              2004    auto    163   \n",
       "3  2016-03-17 16:54:04   1500       small              2001  manual     75   \n",
       "4  2016-03-31 17:25:20   3600       small              2008  manual     69   \n",
       "\n",
       "   Model  Kilometer  RegistrationMonth  FuelType       Brand NotRepaired  \\\n",
       "0   golf     150000                  0    petrol  volkswagen         NaN   \n",
       "1    NaN     125000                  5  gasoline        audi         yes   \n",
       "2  grand     125000                  8  gasoline        jeep         NaN   \n",
       "3   golf     150000                  6    petrol  volkswagen          no   \n",
       "4  fabia      90000                  7  gasoline       skoda          no   \n",
       "\n",
       "           DateCreated  NumberOfPictures  PostalCode             LastSeen  \n",
       "0  2016-03-24 00:00:00                 0       70435  2016-04-07 03:16:57  \n",
       "1  2016-03-24 00:00:00                 0       66954  2016-04-07 01:46:50  \n",
       "2  2016-03-14 00:00:00                 0       90480  2016-04-05 12:47:46  \n",
       "3  2016-03-17 00:00:00                 0       91074  2016-03-17 17:40:17  \n",
       "4  2016-03-31 00:00:00                 0       60437  2016-04-06 10:17:21  "
      ]
     },
     "execution_count": 4,
     "metadata": {},
     "output_type": "execute_result"
    }
   ],
   "source": [
    "file_name = 'autos.csv'\n",
    "\n",
    "init_df = get_data(file_name)\n",
    "df = get_data(file_name)\n",
    "\n",
    "df.head()"
   ]
  },
  {
   "cell_type": "code",
   "execution_count": 5,
   "metadata": {},
   "outputs": [
    {
     "data": {
      "image/png": "[encoded data removed]",
      "text/plain": [
       "<Figure size 720x432 with 1 Axes>"
      ]
     },
     "metadata": {},
     "output_type": "display_data"
    }
   ],
   "source": [
    "df['Price'].hist(bins=50)\n",
    "\n",
    "plt.xlabel('Price')\n",
    "\n",
    "plt.show()"
   ]
  },
  {
   "cell_type": "markdown",
   "metadata": {},
   "source": [
    "> Довольно много нереалисично малых значений, заменю их на медианное (посчитанное после исключения малых)"
   ]
  },
  {
   "cell_type": "code",
   "execution_count": 6,
   "metadata": {},
   "outputs": [],
   "source": [
    "# # Машины дешевле этого порога ниже себестоимости материалов, из которых они сделаны\n",
    "# realistic_price_threshold = 300\n",
    "\n",
    "# realistic_price_median = df['Price'][df['Price'] > realistic_price_threshold].median()\n",
    "\n",
    "# df['Price'] = (df['Price']\n",
    "#                 .where(df['Price'] > realistic_price_threshold, realistic_price_median)\n",
    "#                 .astype('int'))"
   ]
  },
  {
   "cell_type": "code",
   "execution_count": 7,
   "metadata": {},
   "outputs": [
    {
     "data": {
      "image/png": "[encoded data removed]",
      "text/plain": [
       "<Figure size 720x432 with 1 Axes>"
      ]
     },
     "metadata": {},
     "output_type": "display_data"
    }
   ],
   "source": [
    "df['Price'].hist(bins=50)\n",
    "\n",
    "plt.xlabel('Price')\n",
    "\n",
    "plt.show()"
   ]
  },
  {
   "cell_type": "code",
   "execution_count": 8,
   "metadata": {},
   "outputs": [
    {
     "data": {
      "image/png": "[encoded data removed]",
      "text/plain": [
       "<Figure size 720x576 with 1 Axes>"
      ]
     },
     "metadata": {},
     "output_type": "display_data"
    }
   ],
   "source": [
    "fig, ax = plt.subplots(figsize=(10, 8))\n",
    "\n",
    "sns.boxplot(data=df, x='Kilometer', y='Price', ax=ax)\n",
    "\n",
    "ax.set_xticklabels(ax.get_xticklabels(), rotation=90)\n",
    "\n",
    "plt.show()"
   ]
  },
  {
   "cell_type": "code",
   "execution_count": 9,
   "metadata": {},
   "outputs": [
    {
     "data": {
      "image/png": "[encoded data removed]",
      "text/plain": [
       "<Figure size 720x576 with 1 Axes>"
      ]
     },
     "metadata": {},
     "output_type": "display_data"
    }
   ],
   "source": [
    "fig, ax = plt.subplots(figsize=(10, 8))\n",
    "\n",
    "sns.boxplot(data=df, x='Kilometer', y='Power', ax=ax)\n",
    "\n",
    "ax.set_xticklabels(ax.get_xticklabels(), rotation=90)\n",
    "\n",
    "# ax.set_yscale('log')\n",
    "ax.set_ylim(-50, 400)\n",
    "\n",
    "plt.show()"
   ]
  },
  {
   "cell_type": "code",
   "execution_count": 10,
   "metadata": {},
   "outputs": [],
   "source": [
    "# profile = ProfileReport(df_5000_km, title=\"Pandas Profiling Report\")\n",
    "\n",
    "# profile"
   ]
  },
  {
   "cell_type": "code",
   "execution_count": 11,
   "metadata": {},
   "outputs": [],
   "source": [
    "def get_cmap(n, name='hsv'):\n",
    "    '''Returns a function that maps each index in 0, 1, ..., n-1 to a distinct \n",
    "    RGB color; the keyword argument name must be a standard mpl colormap name.'''\n",
    "    return plt.cm.get_cmap(name, n)"
   ]
  },
  {
   "cell_type": "code",
   "execution_count": 12,
   "metadata": {},
   "outputs": [
    {
     "data": {
      "image/png": "[encoded data removed]",
      "text/plain": [
       "<Figure size 720x432 with 1 Axes>"
      ]
     },
     "metadata": {},
     "output_type": "display_data"
    }
   ],
   "source": [
    "fig, ax = plt.subplots(figsize=(10, 6))\n",
    "\n",
    "km_list = np.sort(df['Kilometer'].unique())\n",
    "\n",
    "cmap = get_cmap(10, name='jet')\n",
    "i = 0 # color iterator\n",
    "\n",
    "for km in km_list:\n",
    "\n",
    "    km_df = df[df['Kilometer']==km]\n",
    "\n",
    "    isna_stat_km = km_df.isna().sum() / km_df.shape[0]\n",
    "\n",
    "    isna_stat_km[isna_stat_km!=0].plot(kind='bar',\n",
    "                                       color='None',\n",
    "                                       lw=3,\n",
    "                                       ax=ax,\n",
    "                                       edgecolor=cmap(i),\n",
    "                                       label=f'{km}')\n",
    "    ax.set_title(f'{km} km')\n",
    "    ax.set_ylim(0, 1)\n",
    "    ax.legend(loc='center left', bbox_to_anchor=(1, 0.5),\n",
    "              title='Kilometer')\n",
    "    i+=1\n",
    "\n",
    "ax.set_title('Missing values per Kilometer category')\n",
    "ax.set_ylabel('fraction')\n",
    "plt.show()"
   ]
  },
  {
   "cell_type": "code",
   "execution_count": 13,
   "metadata": {},
   "outputs": [
    {
     "data": {
      "image/png": "[encoded data removed]",
      "text/plain": [
       "<Figure size 720x432 with 1 Axes>"
      ]
     },
     "metadata": {},
     "output_type": "display_data"
    }
   ],
   "source": [
    "fig, ax = plt.subplots(figsize=(10, 6))\n",
    "\n",
    "km_list = np.sort(df['Kilometer'].unique())\n",
    "\n",
    "cmap = get_cmap(10, name='jet')\n",
    "i = 0 # color iterator\n",
    "\n",
    "median_prices = []\n",
    "\n",
    "for km in km_list:\n",
    "\n",
    "    km_df = df[df['Kilometer']==km]\n",
    "\n",
    "    iszero_stat_km = (km_df == 0).sum() / km_df.shape[0]\n",
    "\n",
    "    iszero_stat_km[iszero_stat_km!=0].plot(kind='bar',\n",
    "                                           color='None',\n",
    "                                           lw=3,\n",
    "                                           ax=ax,\n",
    "                                           edgecolor=cmap(i),\n",
    "                                           label=f'{km}')\n",
    "    ax.set_title(f'{km} km')\n",
    "    ax.set_ylim(0, 1)\n",
    "    ax.legend(loc='center left', bbox_to_anchor=(1, 0.5),\n",
    "              title='Kilometer')\n",
    "    i+=1\n",
    "\n",
    "ax.set_title('Zero values per Kilometer category')\n",
    "ax.set_ylabel('fraction')\n",
    "\n",
    "plt.show()"
   ]
  },
  {
   "cell_type": "markdown",
   "metadata": {},
   "source": [
    "<div class=\"alert alert-block alert-warning\">\n",
    "<b> Комментарий студента</b>\n",
    "    \n",
    "Существенная доля данных для машин с пробегом 5000 км пропущена (в колонках VehicleType, Gearbox, Model, FuelType, NotRepaired) или равна нулю (в колонках Price, Power, RegistrationMonth, NumberOfPictures). Распределение цены для этих машин выпадает из общего тренда (меньше пробег - дороже машина). Попробую удалить эту категорию из датасета, а все пропуски в цене заменить на медианное значение по всему датафрейму.\n",
    "\n",
    "</div>"
   ]
  },
  {
   "cell_type": "code",
   "execution_count": 14,
   "metadata": {},
   "outputs": [],
   "source": [
    "df = df[df['Kilometer']!=5000]\n",
    "\n",
    "df['Price'] = df['Price'].replace(0, df['Price'].median())"
   ]
  },
  {
   "cell_type": "code",
   "execution_count": 72,
   "metadata": {},
   "outputs": [
    {
     "data": {
      "image/png": "[encoded data removed]",
      "text/plain": [
       "<Figure size 720x576 with 1 Axes>"
      ]
     },
     "metadata": {},
     "output_type": "display_data"
    }
   ],
   "source": [
    "fig, ax = plt.subplots(figsize=(10, 8))\n",
    "\n",
    "sns.boxplot(data=df, x='Kilometer', y='Price', ax=ax)\n",
    "\n",
    "ax.set_xticklabels(ax.get_xticklabels(), rotation=90)\n",
    "\n",
    "plt.show()"
   ]
  },
  {
   "cell_type": "code",
   "execution_count": 15,
   "metadata": {},
   "outputs": [
    {
     "data": {
      "image/png": "[encoded data removed]",
      "text/plain": [
       "<Figure size 720x432 with 1 Axes>"
      ]
     },
     "metadata": {},
     "output_type": "display_data"
    }
   ],
   "source": [
    "df['Price'].hist(bins=30)\n",
    "\n",
    "plt.xlabel('Price')\n",
    "\n",
    "plt.show()"
   ]
  },
  {
   "cell_type": "code",
   "execution_count": 16,
   "metadata": {},
   "outputs": [],
   "source": [
    "# profile = ProfileReport(init_df, title=\"Pandas Profiling Report\")\n",
    "\n",
    "# profile"
   ]
  },
  {
   "cell_type": "code",
   "execution_count": 17,
   "metadata": {},
   "outputs": [
    {
     "name": "stdout",
     "output_type": "stream",
     "text": [
      "<class 'pandas.core.frame.DataFrame'>\n",
      "Int64Index: 347972 entries, 0 to 354368\n",
      "Data columns (total 16 columns):\n",
      " #   Column             Non-Null Count   Dtype \n",
      "---  ------             --------------   ----- \n",
      " 0   DateCrawled        347972 non-null  object\n",
      " 1   Price              347972 non-null  int64 \n",
      " 2   VehicleType        312930 non-null  object\n",
      " 3   RegistrationYear   347972 non-null  int64 \n",
      " 4   Gearbox            330243 non-null  object\n",
      " 5   Power              347972 non-null  int64 \n",
      " 6   Model              329777 non-null  object\n",
      " 7   Kilometer          347972 non-null  int64 \n",
      " 8   RegistrationMonth  347972 non-null  int64 \n",
      " 9   FuelType           317445 non-null  object\n",
      " 10  Brand              347972 non-null  object\n",
      " 11  NotRepaired        280249 non-null  object\n",
      " 12  DateCreated        347972 non-null  object\n",
      " 13  NumberOfPictures   347972 non-null  int64 \n",
      " 14  PostalCode         347972 non-null  int64 \n",
      " 15  LastSeen           347972 non-null  object\n",
      "dtypes: int64(7), object(9)\n",
      "memory usage: 45.1+ MB\n"
     ]
    }
   ],
   "source": [
    "df.info()"
   ]
  },
  {
   "cell_type": "code",
   "execution_count": 18,
   "metadata": {},
   "outputs": [],
   "source": [
    "# profile = ProfileReport(df, title=\"Pandas Profiling Report\")\n",
    "\n",
    "# profile"
   ]
  },
  {
   "cell_type": "markdown",
   "metadata": {},
   "source": [
    "### Предобработка и заполнение пропусков"
   ]
  },
  {
   "cell_type": "code",
   "execution_count": 19,
   "metadata": {},
   "outputs": [
    {
     "data": {
      "text/plain": [
       "Index(['DateCrawled', 'Price', 'VehicleType', 'RegistrationYear', 'Gearbox',\n",
       "       'Power', 'Model', 'Kilometer', 'RegistrationMonth', 'FuelType', 'Brand',\n",
       "       'NotRepaired', 'DateCreated', 'NumberOfPictures', 'PostalCode',\n",
       "       'LastSeen'],\n",
       "      dtype='object')"
      ]
     },
     "execution_count": 19,
     "metadata": {},
     "output_type": "execute_result"
    }
   ],
   "source": [
    "df.columns"
   ]
  },
  {
   "cell_type": "code",
   "execution_count": 20,
   "metadata": {},
   "outputs": [
    {
     "data": {
      "text/plain": [
       "Index(['Price', 'VehicleType', 'RegistrationYear', 'Gearbox', 'Power', 'Model',\n",
       "       'Kilometer', 'RegistrationMonth', 'FuelType', 'Brand', 'NotRepaired',\n",
       "       'CreationYear', 'CreationMonth', 'CreationDay'],\n",
       "      dtype='object')"
      ]
     },
     "execution_count": 20,
     "metadata": {},
     "output_type": "execute_result"
    }
   ],
   "source": [
    "# Допускаю, что цена на авто может зависеть от даты создания объявления: ситуация на рынке \n",
    "# вторичных автомобилей изменчива\n",
    "creation_date = pd.to_datetime(df['DateCreated'])\n",
    "\n",
    "df['CreationYear'] = creation_date.dt.year\n",
    "df['CreationMonth'] = creation_date.dt.month\n",
    "df['CreationDay'] = creation_date.dt.day\n",
    "\n",
    "# А вот даты 'DateCrawled' и 'LastSeen', а также почтовый код не вижу смысла оставлять среди признаков.\n",
    "# Колонка 'NumberOfPictures' заполнена нулями, ее ждет та же судьба\n",
    "df = df.drop(columns=['DateCreated', 'DateCrawled', 'LastSeen',\n",
    "                      'PostalCode', 'NumberOfPictures'])\n",
    "\n",
    "df.columns"
   ]
  },
  {
   "cell_type": "code",
   "execution_count": 21,
   "metadata": {},
   "outputs": [
    {
     "data": {
      "text/plain": [
       "petrol      0.980198\n",
       "lpg         0.016570\n",
       "cng         0.001748\n",
       "hybrid      0.000725\n",
       "other       0.000504\n",
       "electric    0.000255\n",
       "Name: FuelType, dtype: float64"
      ]
     },
     "execution_count": 21,
     "metadata": {},
     "output_type": "execute_result"
    }
   ],
   "source": [
    "# 'gasoline' и 'petrol' обозначают одно и то же -- бензин\n",
    "df['FuelType'] = df['FuelType'].replace('gasoline', 'petrol')\n",
    "\n",
    "df['FuelType'].value_counts(normalize=True)"
   ]
  },
  {
   "cell_type": "code",
   "execution_count": 22,
   "metadata": {},
   "outputs": [
    {
     "data": {
      "text/plain": [
       "VehicleType    35042\n",
       "Gearbox        17729\n",
       "Model          18195\n",
       "FuelType       30527\n",
       "NotRepaired    67723\n",
       "dtype: int64"
      ]
     },
     "execution_count": 22,
     "metadata": {},
     "output_type": "execute_result"
    }
   ],
   "source": [
    "df.isna().sum()[df.isna().sum()!=0]"
   ]
  },
  {
   "cell_type": "code",
   "execution_count": 23,
   "metadata": {},
   "outputs": [],
   "source": [
    "# Случайный автомобиль с вероятностью 75% будет с ручной коробкой передач\n",
    "df['Gearbox'] = df['Gearbox'].fillna('manual')\n",
    "# Случайный автомобиль с вероятностью 98% будет работать на бензине\n",
    "df['FuelType'] = df['FuelType'].fillna('petrol')\n",
    "# Случайный автомобиль с вероятностью 70% побывал в ремонте\n",
    "df['NotRepaired'] = df['NotRepaired'].fillna('no')"
   ]
  },
  {
   "cell_type": "markdown",
   "metadata": {},
   "source": [
    "<!-- `VehicleType` придется заменить, а вот `Model` просто уберу из признаков: слишком много различных значений для формулирования адекватного способа заполнения пропусков. -->"
   ]
  },
  {
   "cell_type": "code",
   "execution_count": 24,
   "metadata": {},
   "outputs": [
    {
     "name": "stdout",
     "output_type": "stream",
     "text": [
      "<class 'pandas.core.frame.DataFrame'>\n",
      "Int64Index: 347972 entries, 0 to 354368\n",
      "Data columns (total 14 columns):\n",
      " #   Column             Non-Null Count   Dtype \n",
      "---  ------             --------------   ----- \n",
      " 0   Price              347972 non-null  int64 \n",
      " 1   VehicleType        312930 non-null  object\n",
      " 2   RegistrationYear   347972 non-null  int64 \n",
      " 3   Gearbox            347972 non-null  object\n",
      " 4   Power              347972 non-null  int64 \n",
      " 5   Model              329777 non-null  object\n",
      " 6   Kilometer          347972 non-null  int64 \n",
      " 7   RegistrationMonth  347972 non-null  int64 \n",
      " 8   FuelType           347972 non-null  object\n",
      " 9   Brand              347972 non-null  object\n",
      " 10  NotRepaired        347972 non-null  object\n",
      " 11  CreationYear       347972 non-null  int64 \n",
      " 12  CreationMonth      347972 non-null  int64 \n",
      " 13  CreationDay        347972 non-null  int64 \n",
      "dtypes: int64(8), object(6)\n",
      "memory usage: 39.8+ MB\n"
     ]
    }
   ],
   "source": [
    "df.info()"
   ]
  },
  {
   "cell_type": "code",
   "execution_count": 25,
   "metadata": {},
   "outputs": [
    {
     "name": "stdout",
     "output_type": "stream",
     "text": [
      "<class 'pandas.core.frame.DataFrame'>\n",
      "Int64Index: 347972 entries, 0 to 354368\n",
      "Data columns (total 14 columns):\n",
      " #   Column             Non-Null Count   Dtype   \n",
      "---  ------             --------------   -----   \n",
      " 0   Price              347972 non-null  int64   \n",
      " 1   VehicleType        312930 non-null  category\n",
      " 2   RegistrationYear   347972 non-null  int64   \n",
      " 3   Gearbox            347972 non-null  category\n",
      " 4   Power              347972 non-null  int64   \n",
      " 5   Model              329777 non-null  category\n",
      " 6   Kilometer          347972 non-null  int64   \n",
      " 7   RegistrationMonth  347972 non-null  int64   \n",
      " 8   FuelType           347972 non-null  category\n",
      " 9   Brand              347972 non-null  category\n",
      " 10  NotRepaired        347972 non-null  category\n",
      " 11  CreationYear       347972 non-null  int64   \n",
      " 12  CreationMonth      347972 non-null  int64   \n",
      " 13  CreationDay        347972 non-null  int64   \n",
      "dtypes: category(6), int64(8)\n",
      "memory usage: 26.2 MB\n"
     ]
    }
   ],
   "source": [
    "# Изменю тип данных 'object' на 'category' для совместимости с lightGBM\n",
    "for column in df.select_dtypes(include=['object']).columns:\n",
    "    df[column] = df[column].astype('category')\n",
    "\n",
    "df.info()"
   ]
  },
  {
   "cell_type": "markdown",
   "metadata": {},
   "source": [
    "## Обучение моделей"
   ]
  },
  {
   "cell_type": "markdown",
   "metadata": {},
   "source": [
    "### LightGBM"
   ]
  },
  {
   "cell_type": "code",
   "execution_count": 26,
   "metadata": {},
   "outputs": [
    {
     "data": {
      "text/plain": [
       "['VehicleType', 'Gearbox', 'Model', 'FuelType', 'Brand', 'NotRepaired']"
      ]
     },
     "execution_count": 26,
     "metadata": {},
     "output_type": "execute_result"
    }
   ],
   "source": [
    "X = df.drop(columns=['Price'])\n",
    "y = df['Price']\n",
    "\n",
    "X_train, X_test, y_train, y_test = train_test_split(X, y, test_size=0.2, random_state=42)\n",
    "\n",
    "catetory_columns = list(X.select_dtypes(include=['category']).columns)\n",
    "\n",
    "catetory_columns"
   ]
  },
  {
   "cell_type": "code",
   "execution_count": 27,
   "metadata": {},
   "outputs": [],
   "source": [
    "lgbm_model = LGBMRegressor(random_state=42, metric='rmse')"
   ]
  },
  {
   "cell_type": "code",
   "execution_count": 28,
   "metadata": {},
   "outputs": [
    {
     "name": "stderr",
     "output_type": "stream",
     "text": [
      "/Users/mike/opt/anaconda3/envs/practicum_new/lib/python3.10/site-packages/lightgbm/basic.py:1702: UserWarning: Using categorical_feature in Dataset.\n",
      "  _log_warning('Using categorical_feature in Dataset.')\n"
     ]
    },
    {
     "name": "stdout",
     "output_type": "stream",
     "text": [
      "CPU times: user 4.67 s, sys: 652 ms, total: 5.32 s\n",
      "Wall time: 930 ms\n"
     ]
    },
    {
     "data": {
      "text/plain": [
       "LGBMRegressor(metric='rmse', random_state=42)"
      ]
     },
     "execution_count": 28,
     "metadata": {},
     "output_type": "execute_result"
    }
   ],
   "source": [
    "%%time\n",
    "lgbm_model.fit(X_train, y_train, categorical_feature=catetory_columns)"
   ]
  },
  {
   "cell_type": "code",
   "execution_count": 29,
   "metadata": {},
   "outputs": [
    {
     "name": "stdout",
     "output_type": "stream",
     "text": [
      "LightGBM RMSE: 1717\n"
     ]
    }
   ],
   "source": [
    "lgbm_predictions = lgbm_model.predict(X_test)\n",
    "\n",
    "lgbm_rmse = mse(y_test, lgbm_predictions) ** 0.5\n",
    "\n",
    "print(f'LightGBM RMSE: {lgbm_rmse:.0f}')"
   ]
  },
  {
   "cell_type": "code",
   "execution_count": 30,
   "metadata": {},
   "outputs": [],
   "source": [
    "from sklearn.model_selection import RandomizedSearchCV"
   ]
  },
  {
   "cell_type": "code",
   "execution_count": 31,
   "metadata": {},
   "outputs": [],
   "source": [
    "param_grid = {\n",
    "    'num_leaves': np.arange(500, 1200, 20),\n",
    "    'min_data_in_leaf': [30, 40, 50, 80]\n",
    "    }"
   ]
  },
  {
   "cell_type": "code",
   "execution_count": 32,
   "metadata": {},
   "outputs": [],
   "source": [
    "random_search_lgbm = RandomizedSearchCV(\n",
    "    estimator=lgbm_model,\n",
    "    param_distributions=param_grid,\n",
    "    n_iter=10,\n",
    "    cv=3,\n",
    "    scoring='neg_root_mean_squared_error',\n",
    "    verbose=50,\n",
    "    random_state=42\n",
    ")"
   ]
  },
  {
   "cell_type": "code",
   "execution_count": 33,
   "metadata": {},
   "outputs": [
    {
     "name": "stdout",
     "output_type": "stream",
     "text": [
      "Fitting 3 folds for each of 10 candidates, totalling 30 fits\n",
      "[CV 1/3; 1/10] START min_data_in_leaf=80, num_leaves=560........................\n",
      "[LightGBM] [Warning] min_data_in_leaf is set=80, min_child_samples=20 will be ignored. Current value: min_data_in_leaf=80\n",
      "[CV 1/3; 1/10] END min_data_in_leaf=80, num_leaves=560;, score=-1643.660 total time=   5.0s\n",
      "[CV 2/3; 1/10] START min_data_in_leaf=80, num_leaves=560........................\n",
      "[LightGBM] [Warning] min_data_in_leaf is set=80, min_child_samples=20 will be ignored. Current value: min_data_in_leaf=80\n",
      "[CV 2/3; 1/10] END min_data_in_leaf=80, num_leaves=560;, score=-1657.528 total time=   5.1s\n",
      "[CV 3/3; 1/10] START min_data_in_leaf=80, num_leaves=560........................\n",
      "[LightGBM] [Warning] min_data_in_leaf is set=80, min_child_samples=20 will be ignored. Current value: min_data_in_leaf=80\n",
      "[CV 3/3; 1/10] END min_data_in_leaf=80, num_leaves=560;, score=-1645.512 total time=   4.7s\n",
      "[CV 1/3; 2/10] START min_data_in_leaf=40, num_leaves=1140.......................\n",
      "[LightGBM] [Warning] min_data_in_leaf is set=40, min_child_samples=20 will be ignored. Current value: min_data_in_leaf=40\n",
      "[CV 1/3; 2/10] END min_data_in_leaf=40, num_leaves=1140;, score=-1639.813 total time=  11.1s\n",
      "[CV 2/3; 2/10] START min_data_in_leaf=40, num_leaves=1140.......................\n",
      "[LightGBM] [Warning] min_data_in_leaf is set=40, min_child_samples=20 will be ignored. Current value: min_data_in_leaf=40\n",
      "[CV 2/3; 2/10] END min_data_in_leaf=40, num_leaves=1140;, score=-1649.398 total time=  11.3s\n",
      "[CV 3/3; 2/10] START min_data_in_leaf=40, num_leaves=1140.......................\n",
      "[LightGBM] [Warning] min_data_in_leaf is set=40, min_child_samples=20 will be ignored. Current value: min_data_in_leaf=40\n",
      "[CV 3/3; 2/10] END min_data_in_leaf=40, num_leaves=1140;, score=-1642.181 total time=  11.5s\n",
      "[CV 1/3; 3/10] START min_data_in_leaf=30, num_leaves=1120.......................\n",
      "[LightGBM] [Warning] min_data_in_leaf is set=30, min_child_samples=20 will be ignored. Current value: min_data_in_leaf=30\n",
      "[CV 1/3; 3/10] END min_data_in_leaf=30, num_leaves=1120;, score=-1643.889 total time=  11.6s\n",
      "[CV 2/3; 3/10] START min_data_in_leaf=30, num_leaves=1120.......................\n",
      "[LightGBM] [Warning] min_data_in_leaf is set=30, min_child_samples=20 will be ignored. Current value: min_data_in_leaf=30\n",
      "[CV 2/3; 3/10] END min_data_in_leaf=30, num_leaves=1120;, score=-1652.575 total time=  13.8s\n",
      "[CV 3/3; 3/10] START min_data_in_leaf=30, num_leaves=1120.......................\n",
      "[LightGBM] [Warning] min_data_in_leaf is set=30, min_child_samples=20 will be ignored. Current value: min_data_in_leaf=30\n",
      "[CV 3/3; 3/10] END min_data_in_leaf=30, num_leaves=1120;, score=-1642.703 total time=  12.2s\n",
      "[CV 1/3; 4/10] START min_data_in_leaf=80, num_leaves=780........................\n",
      "[LightGBM] [Warning] min_data_in_leaf is set=80, min_child_samples=20 will be ignored. Current value: min_data_in_leaf=80\n",
      "[CV 1/3; 4/10] END min_data_in_leaf=80, num_leaves=780;, score=-1642.274 total time=   7.3s\n",
      "[CV 2/3; 4/10] START min_data_in_leaf=80, num_leaves=780........................\n",
      "[LightGBM] [Warning] min_data_in_leaf is set=80, min_child_samples=20 will be ignored. Current value: min_data_in_leaf=80\n",
      "[CV 2/3; 4/10] END min_data_in_leaf=80, num_leaves=780;, score=-1656.197 total time=   7.3s\n",
      "[CV 3/3; 4/10] START min_data_in_leaf=80, num_leaves=780........................\n",
      "[LightGBM] [Warning] min_data_in_leaf is set=80, min_child_samples=20 will be ignored. Current value: min_data_in_leaf=80\n",
      "[CV 3/3; 4/10] END min_data_in_leaf=80, num_leaves=780;, score=-1644.342 total time=   8.0s\n",
      "[CV 1/3; 5/10] START min_data_in_leaf=40, num_leaves=640........................\n",
      "[LightGBM] [Warning] min_data_in_leaf is set=40, min_child_samples=20 will be ignored. Current value: min_data_in_leaf=40\n",
      "[CV 1/3; 5/10] END min_data_in_leaf=40, num_leaves=640;, score=-1640.199 total time=   7.2s\n",
      "[CV 2/3; 5/10] START min_data_in_leaf=40, num_leaves=640........................\n",
      "[LightGBM] [Warning] min_data_in_leaf is set=40, min_child_samples=20 will be ignored. Current value: min_data_in_leaf=40\n",
      "[CV 2/3; 5/10] END min_data_in_leaf=40, num_leaves=640;, score=-1649.893 total time=   7.6s\n",
      "[CV 3/3; 5/10] START min_data_in_leaf=40, num_leaves=640........................\n",
      "[LightGBM] [Warning] min_data_in_leaf is set=40, min_child_samples=20 will be ignored. Current value: min_data_in_leaf=40\n",
      "[CV 3/3; 5/10] END min_data_in_leaf=40, num_leaves=640;, score=-1643.242 total time=   8.0s\n",
      "[CV 1/3; 6/10] START min_data_in_leaf=30, num_leaves=740........................\n",
      "[LightGBM] [Warning] min_data_in_leaf is set=30, min_child_samples=20 will be ignored. Current value: min_data_in_leaf=30\n",
      "[CV 1/3; 6/10] END min_data_in_leaf=30, num_leaves=740;, score=-1642.738 total time=   7.0s\n",
      "[CV 2/3; 6/10] START min_data_in_leaf=30, num_leaves=740........................\n",
      "[LightGBM] [Warning] min_data_in_leaf is set=30, min_child_samples=20 will be ignored. Current value: min_data_in_leaf=30\n",
      "[CV 2/3; 6/10] END min_data_in_leaf=30, num_leaves=740;, score=-1651.227 total time=   7.5s\n",
      "[CV 3/3; 6/10] START min_data_in_leaf=30, num_leaves=740........................\n",
      "[LightGBM] [Warning] min_data_in_leaf is set=30, min_child_samples=20 will be ignored. Current value: min_data_in_leaf=30\n",
      "[CV 3/3; 6/10] END min_data_in_leaf=30, num_leaves=740;, score=-1642.108 total time=   6.7s\n",
      "[CV 1/3; 7/10] START min_data_in_leaf=50, num_leaves=720........................\n",
      "[LightGBM] [Warning] min_data_in_leaf is set=50, min_child_samples=20 will be ignored. Current value: min_data_in_leaf=50\n",
      "[CV 1/3; 7/10] END min_data_in_leaf=50, num_leaves=720;, score=-1642.021 total time=   6.5s\n",
      "[CV 2/3; 7/10] START min_data_in_leaf=50, num_leaves=720........................\n",
      "[LightGBM] [Warning] min_data_in_leaf is set=50, min_child_samples=20 will be ignored. Current value: min_data_in_leaf=50\n",
      "[CV 2/3; 7/10] END min_data_in_leaf=50, num_leaves=720;, score=-1649.794 total time=   6.8s\n",
      "[CV 3/3; 7/10] START min_data_in_leaf=50, num_leaves=720........................\n",
      "[LightGBM] [Warning] min_data_in_leaf is set=50, min_child_samples=20 will be ignored. Current value: min_data_in_leaf=50\n",
      "[CV 3/3; 7/10] END min_data_in_leaf=50, num_leaves=720;, score=-1641.049 total time=   6.7s\n",
      "[CV 1/3; 8/10] START min_data_in_leaf=40, num_leaves=1180.......................\n",
      "[LightGBM] [Warning] min_data_in_leaf is set=40, min_child_samples=20 will be ignored. Current value: min_data_in_leaf=40\n",
      "[CV 1/3; 8/10] END min_data_in_leaf=40, num_leaves=1180;, score=-1640.688 total time=  15.7s\n",
      "[CV 2/3; 8/10] START min_data_in_leaf=40, num_leaves=1180.......................\n",
      "[LightGBM] [Warning] min_data_in_leaf is set=40, min_child_samples=20 will be ignored. Current value: min_data_in_leaf=40\n",
      "[CV 2/3; 8/10] END min_data_in_leaf=40, num_leaves=1180;, score=-1653.845 total time=  15.7s\n",
      "[CV 3/3; 8/10] START min_data_in_leaf=40, num_leaves=1180.......................\n",
      "[LightGBM] [Warning] min_data_in_leaf is set=40, min_child_samples=20 will be ignored. Current value: min_data_in_leaf=40\n",
      "[CV 3/3; 8/10] END min_data_in_leaf=40, num_leaves=1180;, score=-1640.361 total time=  12.4s\n",
      "[CV 1/3; 9/10] START min_data_in_leaf=50, num_leaves=1180.......................\n",
      "[LightGBM] [Warning] min_data_in_leaf is set=50, min_child_samples=20 will be ignored. Current value: min_data_in_leaf=50\n",
      "[CV 1/3; 9/10] END min_data_in_leaf=50, num_leaves=1180;, score=-1643.466 total time=  13.4s\n",
      "[CV 2/3; 9/10] START min_data_in_leaf=50, num_leaves=1180.......................\n",
      "[LightGBM] [Warning] min_data_in_leaf is set=50, min_child_samples=20 will be ignored. Current value: min_data_in_leaf=50\n",
      "[CV 2/3; 9/10] END min_data_in_leaf=50, num_leaves=1180;, score=-1652.544 total time=  13.4s\n",
      "[CV 3/3; 9/10] START min_data_in_leaf=50, num_leaves=1180.......................\n",
      "[LightGBM] [Warning] min_data_in_leaf is set=50, min_child_samples=20 will be ignored. Current value: min_data_in_leaf=50\n",
      "[CV 3/3; 9/10] END min_data_in_leaf=50, num_leaves=1180;, score=-1642.552 total time=  12.5s\n",
      "[CV 1/3; 10/10] START min_data_in_leaf=80, num_leaves=580.......................\n",
      "[LightGBM] [Warning] min_data_in_leaf is set=80, min_child_samples=20 will be ignored. Current value: min_data_in_leaf=80\n",
      "[CV 1/3; 10/10] END min_data_in_leaf=80, num_leaves=580;, score=-1643.889 total time=   5.5s\n",
      "[CV 2/3; 10/10] START min_data_in_leaf=80, num_leaves=580.......................\n",
      "[LightGBM] [Warning] min_data_in_leaf is set=80, min_child_samples=20 will be ignored. Current value: min_data_in_leaf=80\n",
      "[CV 2/3; 10/10] END min_data_in_leaf=80, num_leaves=580;, score=-1655.644 total time=   5.3s\n",
      "[CV 3/3; 10/10] START min_data_in_leaf=80, num_leaves=580.......................\n",
      "[LightGBM] [Warning] min_data_in_leaf is set=80, min_child_samples=20 will be ignored. Current value: min_data_in_leaf=80\n",
      "[CV 3/3; 10/10] END min_data_in_leaf=80, num_leaves=580;, score=-1642.967 total time=   5.4s\n",
      "[LightGBM] [Warning] min_data_in_leaf is set=40, min_child_samples=20 will be ignored. Current value: min_data_in_leaf=40\n",
      "CPU times: user 22min, sys: 4min 51s, total: 26min 51s\n",
      "Wall time: 4min 44s\n"
     ]
    },
    {
     "data": {
      "text/plain": [
       "RandomizedSearchCV(cv=3,\n",
       "                   estimator=LGBMRegressor(metric='rmse', random_state=42),\n",
       "                   param_distributions={'min_data_in_leaf': [30, 40, 50, 80],\n",
       "                                        'num_leaves': array([ 500,  520,  540,  560,  580,  600,  620,  640,  660,  680,  700,\n",
       "        720,  740,  760,  780,  800,  820,  840,  860,  880,  900,  920,\n",
       "        940,  960,  980, 1000, 1020, 1040, 1060, 1080, 1100, 1120, 1140,\n",
       "       1160, 1180])},\n",
       "                   random_state=42, scoring='neg_root_mean_squared_error',\n",
       "                   verbose=50)"
      ]
     },
     "execution_count": 33,
     "metadata": {},
     "output_type": "execute_result"
    }
   ],
   "source": [
    "%%time\n",
    "random_search_lgbm.fit(X_train, y_train)"
   ]
  },
  {
   "cell_type": "code",
   "execution_count": 34,
   "metadata": {},
   "outputs": [
    {
     "data": {
      "text/plain": [
       "1643.7972784114818"
      ]
     },
     "execution_count": 34,
     "metadata": {},
     "output_type": "execute_result"
    }
   ],
   "source": [
    "-random_search_lgbm.best_score_"
   ]
  },
  {
   "cell_type": "code",
   "execution_count": 35,
   "metadata": {},
   "outputs": [
    {
     "data": {
      "text/plain": [
       "{'num_leaves': 1140, 'min_data_in_leaf': 40}"
      ]
     },
     "execution_count": 35,
     "metadata": {},
     "output_type": "execute_result"
    }
   ],
   "source": [
    "random_search_lgbm.best_params_"
   ]
  },
  {
   "cell_type": "code",
   "execution_count": 36,
   "metadata": {},
   "outputs": [
    {
     "name": "stdout",
     "output_type": "stream",
     "text": [
      "LightGBM RMSE: 1606.63\n"
     ]
    }
   ],
   "source": [
    "random_lgbm_predictions = random_search_lgbm.predict(X_test)\n",
    "\n",
    "lgbm_rmse = mse(y_test, random_lgbm_predictions) ** 0.5\n",
    "\n",
    "print(f'LightGBM RMSE: {lgbm_rmse:.2f}')"
   ]
  },
  {
   "cell_type": "markdown",
   "metadata": {},
   "source": [
    "### Тесты на сторонних данных"
   ]
  },
  {
   "cell_type": "code",
   "execution_count": 37,
   "metadata": {},
   "outputs": [
    {
     "data": {
      "text/html": [
       "<div>\n",
       "<style scoped>\n",
       "    .dataframe tbody tr th:only-of-type {\n",
       "        vertical-align: middle;\n",
       "    }\n",
       "\n",
       "    .dataframe tbody tr th {\n",
       "        vertical-align: top;\n",
       "    }\n",
       "\n",
       "    .dataframe thead th {\n",
       "        text-align: right;\n",
       "    }\n",
       "</style>\n",
       "<table border=\"1\" class=\"dataframe\">\n",
       "  <thead>\n",
       "    <tr style=\"text-align: right;\">\n",
       "      <th></th>\n",
       "      <th>VehicleType</th>\n",
       "      <th>RegistrationYear</th>\n",
       "      <th>Gearbox</th>\n",
       "      <th>Power</th>\n",
       "      <th>Model</th>\n",
       "      <th>Kilometer</th>\n",
       "      <th>RegistrationMonth</th>\n",
       "      <th>FuelType</th>\n",
       "      <th>Brand</th>\n",
       "      <th>NotRepaired</th>\n",
       "      <th>CreationYear</th>\n",
       "      <th>CreationMonth</th>\n",
       "      <th>CreationDay</th>\n",
       "    </tr>\n",
       "  </thead>\n",
       "  <tbody>\n",
       "    <tr>\n",
       "      <th>0</th>\n",
       "      <td>small</td>\n",
       "      <td>2006</td>\n",
       "      <td>manual</td>\n",
       "      <td>83</td>\n",
       "      <td>fit</td>\n",
       "      <td>95000</td>\n",
       "      <td>1</td>\n",
       "      <td>petrol</td>\n",
       "      <td>honda</td>\n",
       "      <td>no</td>\n",
       "      <td>2016</td>\n",
       "      <td>6</td>\n",
       "      <td>6</td>\n",
       "    </tr>\n",
       "  </tbody>\n",
       "</table>\n",
       "</div>"
      ],
      "text/plain": [
       "  VehicleType RegistrationYear Gearbox Power Model Kilometer  \\\n",
       "0       small             2006  manual    83   fit     95000   \n",
       "\n",
       "  RegistrationMonth FuelType  Brand NotRepaired CreationYear CreationMonth  \\\n",
       "0                 1   petrol  honda          no         2016             6   \n",
       "\n",
       "  CreationDay  \n",
       "0           6  "
      ]
     },
     "execution_count": 37,
     "metadata": {},
     "output_type": "execute_result"
    }
   ],
   "source": [
    "honda_test_df = pd.Series(\n",
    "          {'VehicleType': 'small',\n",
    "          'RegistrationYear': 2006,\n",
    "          'Gearbox': 'manual',\n",
    "          'Power': 83,\n",
    "          'Model': 'fit',\n",
    "          'Kilometer': 95000,\n",
    "          'RegistrationMonth': 1,\n",
    "          'FuelType': 'petrol',\n",
    "          'Brand': 'honda',\n",
    "          'NotRepaired': 'no',\n",
    "          'CreationYear': 2016,\n",
    "          'CreationMonth': 6,\n",
    "          'CreationDay': 6})\n",
    "\n",
    "honda_test_df = pd.DataFrame(honda_test_df).T\n",
    "\n",
    "honda_test_df"
   ]
  },
  {
   "cell_type": "code",
   "execution_count": 38,
   "metadata": {},
   "outputs": [
    {
     "data": {
      "text/html": [
       "<div>\n",
       "<style scoped>\n",
       "    .dataframe tbody tr th:only-of-type {\n",
       "        vertical-align: middle;\n",
       "    }\n",
       "\n",
       "    .dataframe tbody tr th {\n",
       "        vertical-align: top;\n",
       "    }\n",
       "\n",
       "    .dataframe thead th {\n",
       "        text-align: right;\n",
       "    }\n",
       "</style>\n",
       "<table border=\"1\" class=\"dataframe\">\n",
       "  <thead>\n",
       "    <tr style=\"text-align: right;\">\n",
       "      <th></th>\n",
       "      <th>VehicleType</th>\n",
       "      <th>RegistrationYear</th>\n",
       "      <th>Gearbox</th>\n",
       "      <th>Power</th>\n",
       "      <th>Model</th>\n",
       "      <th>Kilometer</th>\n",
       "      <th>RegistrationMonth</th>\n",
       "      <th>FuelType</th>\n",
       "      <th>Brand</th>\n",
       "      <th>NotRepaired</th>\n",
       "      <th>CreationYear</th>\n",
       "      <th>CreationMonth</th>\n",
       "      <th>CreationDay</th>\n",
       "    </tr>\n",
       "  </thead>\n",
       "  <tbody>\n",
       "    <tr>\n",
       "      <th>0</th>\n",
       "      <td>small</td>\n",
       "      <td>2006</td>\n",
       "      <td>manual</td>\n",
       "      <td>83</td>\n",
       "      <td>fit</td>\n",
       "      <td>5000</td>\n",
       "      <td>1</td>\n",
       "      <td>petrol</td>\n",
       "      <td>honda</td>\n",
       "      <td>no</td>\n",
       "      <td>2016</td>\n",
       "      <td>6</td>\n",
       "      <td>6</td>\n",
       "    </tr>\n",
       "  </tbody>\n",
       "</table>\n",
       "</div>"
      ],
      "text/plain": [
       "  VehicleType RegistrationYear Gearbox Power Model Kilometer  \\\n",
       "0       small             2006  manual    83   fit      5000   \n",
       "\n",
       "  RegistrationMonth FuelType  Brand NotRepaired CreationYear CreationMonth  \\\n",
       "0                 1   petrol  honda          no         2016             6   \n",
       "\n",
       "  CreationDay  \n",
       "0           6  "
      ]
     },
     "execution_count": 38,
     "metadata": {},
     "output_type": "execute_result"
    }
   ],
   "source": [
    "honda_test_less_km_df = pd.Series(\n",
    "          {'VehicleType': 'small',\n",
    "          'RegistrationYear': 2006,\n",
    "          'Gearbox': 'manual',\n",
    "          'Power': 83,\n",
    "          'Model': 'fit',\n",
    "          'Kilometer': 5000,\n",
    "          'RegistrationMonth': 1,\n",
    "          'FuelType': 'petrol',\n",
    "          'Brand': 'honda',\n",
    "          'NotRepaired': 'no',\n",
    "          'CreationYear': 2016,\n",
    "          'CreationMonth': 6,\n",
    "          'CreationDay': 6})\n",
    "\n",
    "honda_test_less_km_df = pd.DataFrame(honda_test_less_km_df).T\n",
    "\n",
    "honda_test_less_km_df"
   ]
  },
  {
   "cell_type": "code",
   "execution_count": 39,
   "metadata": {},
   "outputs": [
    {
     "data": {
      "text/html": [
       "<div>\n",
       "<style scoped>\n",
       "    .dataframe tbody tr th:only-of-type {\n",
       "        vertical-align: middle;\n",
       "    }\n",
       "\n",
       "    .dataframe tbody tr th {\n",
       "        vertical-align: top;\n",
       "    }\n",
       "\n",
       "    .dataframe thead th {\n",
       "        text-align: right;\n",
       "    }\n",
       "</style>\n",
       "<table border=\"1\" class=\"dataframe\">\n",
       "  <thead>\n",
       "    <tr style=\"text-align: right;\">\n",
       "      <th></th>\n",
       "      <th>VehicleType</th>\n",
       "      <th>RegistrationYear</th>\n",
       "      <th>Gearbox</th>\n",
       "      <th>Power</th>\n",
       "      <th>Model</th>\n",
       "      <th>Kilometer</th>\n",
       "      <th>RegistrationMonth</th>\n",
       "      <th>FuelType</th>\n",
       "      <th>Brand</th>\n",
       "      <th>NotRepaired</th>\n",
       "      <th>CreationYear</th>\n",
       "      <th>CreationMonth</th>\n",
       "      <th>CreationDay</th>\n",
       "    </tr>\n",
       "  </thead>\n",
       "  <tbody>\n",
       "    <tr>\n",
       "      <th>0</th>\n",
       "      <td>crossover</td>\n",
       "      <td>2016</td>\n",
       "      <td>auto</td>\n",
       "      <td>190</td>\n",
       "      <td>XC60</td>\n",
       "      <td>135000</td>\n",
       "      <td>1</td>\n",
       "      <td>disel</td>\n",
       "      <td>volvo</td>\n",
       "      <td>no</td>\n",
       "      <td>2016</td>\n",
       "      <td>6</td>\n",
       "      <td>6</td>\n",
       "    </tr>\n",
       "  </tbody>\n",
       "</table>\n",
       "</div>"
      ],
      "text/plain": [
       "  VehicleType RegistrationYear Gearbox Power Model Kilometer  \\\n",
       "0   crossover             2016    auto   190  XC60    135000   \n",
       "\n",
       "  RegistrationMonth FuelType  Brand NotRepaired CreationYear CreationMonth  \\\n",
       "0                 1    disel  volvo          no         2016             6   \n",
       "\n",
       "  CreationDay  \n",
       "0           6  "
      ]
     },
     "execution_count": 39,
     "metadata": {},
     "output_type": "execute_result"
    }
   ],
   "source": [
    "volvo_test_df = pd.Series(\n",
    "          {'VehicleType': 'crossover',\n",
    "          'RegistrationYear': 2016,\n",
    "          'Gearbox': 'auto',\n",
    "          'Power': 190,\n",
    "          'Model': 'XC60',\n",
    "          'Kilometer': 135000,\n",
    "          'RegistrationMonth': 1,\n",
    "          'FuelType': 'disel',\n",
    "          'Brand': 'volvo',\n",
    "          'NotRepaired': 'no',\n",
    "          'CreationYear': 2016,\n",
    "          'CreationMonth': 6,\n",
    "          'CreationDay': 6})\n",
    "\n",
    "volvo_test_df = pd.DataFrame(volvo_test_df).T\n",
    "\n",
    "volvo_test_df"
   ]
  },
  {
   "cell_type": "code",
   "execution_count": 73,
   "metadata": {},
   "outputs": [
    {
     "data": {
      "text/html": [
       "<div>\n",
       "<style scoped>\n",
       "    .dataframe tbody tr th:only-of-type {\n",
       "        vertical-align: middle;\n",
       "    }\n",
       "\n",
       "    .dataframe tbody tr th {\n",
       "        vertical-align: top;\n",
       "    }\n",
       "\n",
       "    .dataframe thead th {\n",
       "        text-align: right;\n",
       "    }\n",
       "</style>\n",
       "<table border=\"1\" class=\"dataframe\">\n",
       "  <thead>\n",
       "    <tr style=\"text-align: right;\">\n",
       "      <th></th>\n",
       "      <th>VehicleType</th>\n",
       "      <th>RegistrationYear</th>\n",
       "      <th>Gearbox</th>\n",
       "      <th>Power</th>\n",
       "      <th>Model</th>\n",
       "      <th>Kilometer</th>\n",
       "      <th>RegistrationMonth</th>\n",
       "      <th>FuelType</th>\n",
       "      <th>Brand</th>\n",
       "      <th>NotRepaired</th>\n",
       "      <th>CreationYear</th>\n",
       "      <th>CreationMonth</th>\n",
       "      <th>CreationDay</th>\n",
       "    </tr>\n",
       "  </thead>\n",
       "  <tbody>\n",
       "    <tr>\n",
       "      <th>0</th>\n",
       "      <td>crossover</td>\n",
       "      <td>2016</td>\n",
       "      <td>auto</td>\n",
       "      <td>190</td>\n",
       "      <td>XC60</td>\n",
       "      <td>35000</td>\n",
       "      <td>1</td>\n",
       "      <td>disel</td>\n",
       "      <td>volvo</td>\n",
       "      <td>no</td>\n",
       "      <td>2016</td>\n",
       "      <td>6</td>\n",
       "      <td>6</td>\n",
       "    </tr>\n",
       "  </tbody>\n",
       "</table>\n",
       "</div>"
      ],
      "text/plain": [
       "  VehicleType RegistrationYear Gearbox Power Model Kilometer  \\\n",
       "0   crossover             2016    auto   190  XC60     35000   \n",
       "\n",
       "  RegistrationMonth FuelType  Brand NotRepaired CreationYear CreationMonth  \\\n",
       "0                 1    disel  volvo          no         2016             6   \n",
       "\n",
       "  CreationDay  \n",
       "0           6  "
      ]
     },
     "execution_count": 73,
     "metadata": {},
     "output_type": "execute_result"
    }
   ],
   "source": [
    "volvo_test_less_km_df = pd.Series(\n",
    "          {'VehicleType': 'crossover',\n",
    "          'RegistrationYear': 2016,\n",
    "          'Gearbox': 'auto',\n",
    "          'Power': 190,\n",
    "          'Model': 'XC60',\n",
    "          'Kilometer': 35000,\n",
    "          'RegistrationMonth': 1,\n",
    "          'FuelType': 'disel',\n",
    "          'Brand': 'volvo',\n",
    "          'NotRepaired': 'no',\n",
    "          'CreationYear': 2016,\n",
    "          'CreationMonth': 6,\n",
    "          'CreationDay': 6})\n",
    "\n",
    "volvo_test_less_km_df = pd.DataFrame(volvo_test_less_km_df).T\n",
    "\n",
    "volvo_test_less_km_df"
   ]
  },
  {
   "cell_type": "code",
   "execution_count": 74,
   "metadata": {},
   "outputs": [],
   "source": [
    "def prepare_test(sila_df):\n",
    "\n",
    "    for column in catetory_columns:\n",
    "        sila_df[column] = sila_df[column].astype('category')\n",
    "\n",
    "    # Изменю тип данных 'object' на 'category' для совместимости с lightGBM\n",
    "    for column in sila_df.select_dtypes(include=['object']).columns:\n",
    "        sila_df[column] = sila_df[column].astype('int64')\n",
    "\n",
    "    return sila_df"
   ]
  },
  {
   "cell_type": "code",
   "execution_count": 75,
   "metadata": {},
   "outputs": [
    {
     "data": {
      "text/html": [
       "<div>\n",
       "<style scoped>\n",
       "    .dataframe tbody tr th:only-of-type {\n",
       "        vertical-align: middle;\n",
       "    }\n",
       "\n",
       "    .dataframe tbody tr th {\n",
       "        vertical-align: top;\n",
       "    }\n",
       "\n",
       "    .dataframe thead th {\n",
       "        text-align: right;\n",
       "    }\n",
       "</style>\n",
       "<table border=\"1\" class=\"dataframe\">\n",
       "  <thead>\n",
       "    <tr style=\"text-align: right;\">\n",
       "      <th></th>\n",
       "      <th>VehicleType</th>\n",
       "      <th>RegistrationYear</th>\n",
       "      <th>Gearbox</th>\n",
       "      <th>Power</th>\n",
       "      <th>Model</th>\n",
       "      <th>Kilometer</th>\n",
       "      <th>RegistrationMonth</th>\n",
       "      <th>FuelType</th>\n",
       "      <th>Brand</th>\n",
       "      <th>NotRepaired</th>\n",
       "      <th>CreationYear</th>\n",
       "      <th>CreationMonth</th>\n",
       "      <th>CreationDay</th>\n",
       "    </tr>\n",
       "  </thead>\n",
       "  <tbody>\n",
       "    <tr>\n",
       "      <th>0</th>\n",
       "      <td>crossover</td>\n",
       "      <td>2016</td>\n",
       "      <td>auto</td>\n",
       "      <td>190</td>\n",
       "      <td>XC60</td>\n",
       "      <td>35000</td>\n",
       "      <td>1</td>\n",
       "      <td>disel</td>\n",
       "      <td>volvo</td>\n",
       "      <td>no</td>\n",
       "      <td>2016</td>\n",
       "      <td>6</td>\n",
       "      <td>6</td>\n",
       "    </tr>\n",
       "  </tbody>\n",
       "</table>\n",
       "</div>"
      ],
      "text/plain": [
       "  VehicleType RegistrationYear Gearbox Power Model Kilometer  \\\n",
       "0   crossover             2016    auto   190  XC60     35000   \n",
       "\n",
       "  RegistrationMonth FuelType  Brand NotRepaired CreationYear CreationMonth  \\\n",
       "0                 1    disel  volvo          no         2016             6   \n",
       "\n",
       "  CreationDay  \n",
       "0           6  "
      ]
     },
     "execution_count": 75,
     "metadata": {},
     "output_type": "execute_result"
    }
   ],
   "source": [
    "volvo_test_less_km_df"
   ]
  },
  {
   "cell_type": "code",
   "execution_count": 76,
   "metadata": {},
   "outputs": [],
   "source": [
    "volvo_test_df = prepare_test(volvo_test_df)\n",
    "volvo_test_less_km_df = prepare_test(volvo_test_less_km_df)\n",
    "honda_test_df = prepare_test(honda_test_df)\n",
    "honda_test_less_km_df = prepare_test(honda_test_less_km_df)"
   ]
  },
  {
   "cell_type": "markdown",
   "metadata": {},
   "source": [
    "__При уменьшении пробега цена падает:__\n",
    "\n",
    "🤔"
   ]
  },
  {
   "cell_type": "code",
   "execution_count": 77,
   "metadata": {},
   "outputs": [
    {
     "data": {
      "text/plain": [
       "(8907.188136667288, 6610.8291791026295)"
      ]
     },
     "execution_count": 77,
     "metadata": {},
     "output_type": "execute_result"
    }
   ],
   "source": [
    "random_search_lgbm.predict(volvo_test_df)[0], random_search_lgbm.predict(volvo_test_less_km_df)[0]"
   ]
  },
  {
   "cell_type": "code",
   "execution_count": 78,
   "metadata": {},
   "outputs": [
    {
     "data": {
      "text/plain": [
       "(4019.5719320606045, 4837.686358956837)"
      ]
     },
     "execution_count": 78,
     "metadata": {},
     "output_type": "execute_result"
    }
   ],
   "source": [
    "random_search_lgbm.predict(honda_test_df)[0], random_search_lgbm.predict(honda_test_less_km_df)[0]"
   ]
  },
  {
   "cell_type": "markdown",
   "metadata": {},
   "source": [
    "<div class=\"alert alert-block alert-warning\">\n",
    "<b> Комментарий студента</b>\n",
    "    \n",
    "Это может быть показателем того, что модель обучена неверно?\n",
    "\n",
    "Или, например, проблемы с данными?\n",
    "\n",
    "</div>"
   ]
  },
  {
   "cell_type": "markdown",
   "metadata": {},
   "source": [
    "### Linear regression"
   ]
  },
  {
   "cell_type": "code",
   "execution_count": 46,
   "metadata": {},
   "outputs": [],
   "source": [
    "# Encoding\n",
    "X_train_ohe = X_train.drop(columns=['Brand', 'Model'])\n",
    "X_train_ohe = pd.get_dummies(X_train_ohe)\n",
    "\n",
    "X_test_ohe = X_test.drop(columns=['Brand', 'Model'])\n",
    "X_test_ohe = pd.get_dummies(X_test_ohe)"
   ]
  },
  {
   "cell_type": "code",
   "execution_count": 47,
   "metadata": {},
   "outputs": [
    {
     "data": {
      "text/plain": [
       "['RegistrationYear',\n",
       " 'Power',\n",
       " 'Kilometer',\n",
       " 'RegistrationMonth',\n",
       " 'CreationYear',\n",
       " 'CreationMonth',\n",
       " 'CreationDay']"
      ]
     },
     "execution_count": 47,
     "metadata": {},
     "output_type": "execute_result"
    }
   ],
   "source": [
    "numerical_columns = list(X_train_ohe.select_dtypes(include=['int64']).columns)\n",
    "\n",
    "numerical_columns"
   ]
  },
  {
   "cell_type": "code",
   "execution_count": 48,
   "metadata": {},
   "outputs": [],
   "source": [
    "# Scaling\n",
    "scaler = StandardScaler()\n",
    "scaler.fit(X_train_ohe[numerical_columns])\n",
    "\n",
    "X_train_ohe[numerical_columns] = scaler.transform(X_train_ohe[numerical_columns])\n",
    "X_test_ohe[numerical_columns] = scaler.transform(X_test_ohe[numerical_columns])"
   ]
  },
  {
   "cell_type": "code",
   "execution_count": 49,
   "metadata": {},
   "outputs": [],
   "source": [
    "linear_model = LinearRegression()"
   ]
  },
  {
   "cell_type": "code",
   "execution_count": 50,
   "metadata": {},
   "outputs": [
    {
     "name": "stdout",
     "output_type": "stream",
     "text": [
      "CPU times: user 1 µs, sys: 1e+03 ns, total: 2 µs\n",
      "Wall time: 3.1 µs\n"
     ]
    },
    {
     "data": {
      "text/plain": [
       "LinearRegression()"
      ]
     },
     "execution_count": 50,
     "metadata": {},
     "output_type": "execute_result"
    }
   ],
   "source": [
    "%time\n",
    "linear_model.fit(X_train_ohe, y_train)"
   ]
  },
  {
   "cell_type": "code",
   "execution_count": 51,
   "metadata": {},
   "outputs": [
    {
     "name": "stdout",
     "output_type": "stream",
     "text": [
      "Linear RMSE: 3562\n"
     ]
    }
   ],
   "source": [
    "\n",
    "linear_predictions = linear_model.predict(X_test_ohe)\n",
    "linear_rmse = mse(y_test, linear_predictions) ** 0.5\n",
    "\n",
    "print(f'Linear RMSE: {linear_rmse:.0f}')"
   ]
  },
  {
   "cell_type": "markdown",
   "metadata": {},
   "source": [
    "## Анализ моделей"
   ]
  },
  {
   "cell_type": "markdown",
   "metadata": {},
   "source": [
    "Простая линейная модель обучается очень быстро (микросекунды), но в ее предсказаниях присутствуют большие ошибки (метрика RMSE составляет 3687. Подбор гиперпараметров и обучение модели градиентного бустинга LightGBM занимает гораздо больше времени (около 3 минут), но при этом ошибка RMSE сокращается более чем на 50% (до 1644)."
   ]
  },
  {
   "cell_type": "markdown",
   "metadata": {},
   "source": [
    "## Чек-лист проверки"
   ]
  },
  {
   "cell_type": "markdown",
   "metadata": {},
   "source": [
    "Поставьте 'x' в выполненных пунктах. Далее нажмите Shift+Enter."
   ]
  },
  {
   "cell_type": "markdown",
   "metadata": {},
   "source": [
    "- [x]  Jupyter Notebook открыт\n",
    "- [x]  Весь код выполняется без ошибок\n",
    "- [x]  Ячейки с кодом расположены в порядке исполнения\n",
    "- [x]  Выполнена загрузка и подготовка данных\n",
    "- [x]  Выполнено обучение моделей\n",
    "- [x]  Есть анализ скорости работы и качества моделей"
   ]
  },
  {
   "cell_type": "markdown",
   "metadata": {},
   "source": []
  }
 ],
 "metadata": {
  "kernelspec": {
   "display_name": "Python 3 (ipykernel)",
   "language": "python",
   "name": "python3"
  },
  "language_info": {
   "codemirror_mode": {
    "name": "ipython",
    "version": 3
   },
   "file_extension": ".py",
   "mimetype": "text/x-python",
   "name": "python",
   "nbconvert_exporter": "python",
   "pygments_lexer": "ipython3",
   "version": "3.9.7"
  },
  "toc": {
   "base_numbering": 1,
   "nav_menu": {},
   "number_sections": true,
   "sideBar": true,
   "skip_h1_title": true,
   "title_cell": "Table of Contents",
   "title_sidebar": "Contents",
   "toc_cell": false,
   "toc_position": {},
   "toc_section_display": true,
   "toc_window_display": false
  }
 },
 "nbformat": 4,
 "nbformat_minor": 2
}
