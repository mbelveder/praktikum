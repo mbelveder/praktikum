{
 "cells": [
  {
   "cell_type": "markdown",
   "metadata": {},
   "source": [
    "<img src=\"http://s3.amazonaws.com/pix.iemoji.com/images/emoji/apple/ios-12/256/waving-hand.png\" align=left width=44, heigth=44>\n",
    "<div class=\"alert alert-info\">\n",
    "<b> Комментарий ревьюера</b>\n",
    "\n",
    "\n",
    "Привет. Михаил! Давай знакомиться! Меня зовут Дмитрий Махортов, и я буду проверять твой проект. Сразу предлагаю общение на \"ты\" 🙂, но если тебе это не комфортно, то дай знать, и мы перейдем на \"вы\". \n",
    "\n",
    "Моя основная цель — не указать на совершенные тобою ошибки, а поделиться своим опытом и помочь тебе погрузиться в увлекательный мир работы с данными и вырасти в крепкого профи. Это отдаленная цель. А ближайшая - сделать твою работу еще лучше )).\n",
    "\n",
    "\n",
    "Вижу, что ты очень старался, делая проект. Все ключевые этапы в работе выполнены, и в целом с проектом ты справился. \n",
    "    \n",
    "Расскажу как обычно проходит проверка:    \n",
    "Бывают моменты, которые требуют пристального внимания. Комментарии по ним выделены <span style='background-color:#F7B3A4'> красным цветом </span> и обозначены значком 🛑. После их доработки проект будет принят.  🙂\n",
    "\n",
    "<span style='background-color:#F9EDA6'>Жёлтым цветом </span> и значком ⚠️ выделено то, что в следующий раз можно сделать по-другому. Можно учесть эти комментарии при выполнении будущих заданий или доработать текущий проект (однако это не обязательно). \n",
    "\n",
    "<span style='background-color:#B7EBA7'> Зеленым цветом </span> и значком ✅ отмечены удачные и элегантные решения, на которые можно опираться в будущих проектах. Или советы \"со звездочкой\", которые помогут в будущем.\n",
    "\n",
    "    \n",
    "Давай работать над проектом в диалоге: **если ты что-то меняешь в проекте по моим рекомендациям — пиши об этом**. Выбери для своих комментариев какой-то заметный цвет, так мне будет легче отследить изменения. Пожалуйста, **не перемещай, не изменяй и не удаляй мои комментарии**. Всё это поможет выполнить повторную проверку твоего проекта оперативнее».\n",
    "</div>"
   ]
  },
  {
   "cell_type": "markdown",
   "metadata": {},
   "source": [
    "# Рекомендация тарифов"
   ]
  },
  {
   "cell_type": "markdown",
   "metadata": {},
   "source": [
    "В вашем распоряжении данные о поведении клиентов, которые уже перешли на эти тарифы (из проекта курса «Статистический анализ данных»). Нужно построить модель для задачи классификации, которая выберет подходящий тариф. Предобработка данных не понадобится — вы её уже сделали.\n",
    "\n",
    "Постройте модель с максимально большим значением *accuracy*. Чтобы сдать проект успешно, нужно довести долю правильных ответов по крайней мере до 0.75. Проверьте *accuracy* на тестовой выборке самостоятельно."
   ]
  },
  {
   "cell_type": "markdown",
   "metadata": {},
   "source": [
    "***"
   ]
  },
  {
   "cell_type": "code",
   "execution_count": 86,
   "metadata": {},
   "outputs": [],
   "source": [
    "import os\n",
    "import pandas as pd\n",
    "import numpy as np\n",
    "\n",
    "from sklearn.tree import DecisionTreeClassifier\n",
    "from sklearn.model_selection import train_test_split\n",
    "from sklearn.metrics import accuracy_score\n",
    "from sklearn.ensemble import RandomForestClassifier\n",
    "from sklearn.linear_model import LogisticRegression"
   ]
  },
  {
   "cell_type": "markdown",
   "metadata": {},
   "source": [
    "<img src=\"https://emojigraph.org/media/apple/check-mark-button_2705.png\" align=left width=33, heigth=33>\n",
    "<div class=\"alert alert-success\">\n",
    "Отлично, все нужные библиотеки импортированы в начале ноутбука.Это хорошая практика.</div>"
   ]
  },
  {
   "cell_type": "markdown",
   "metadata": {},
   "source": [
    "<div class=\"alert alert-info\">\n",
    "<b> Комментарий студента</b>\n",
    "    \n",
    "    \n",
    "В родном окружении Практикума при выполнении кода я получаю довольно много сообщений DeprecationWarning:\n",
    "\n",
    "    \n",
    "```\n",
    "/Users/mike/opt/anaconda3/envs/praktikum/lib/python3.7/site-packages/sklearn/ensemble/forest.py:489: DeprecationWarning: `np.int` is a deprecated alias for the builtin `int`. To silence this warning, use `int` by itself.\n",
    "    \n",
    "/Users/mike/opt/anaconda3/envs/praktikum/lib/python3.7/site-packages/sklearn/ensemble/gradient_boosting.py:32: DeprecationWarning: `np.bool` is a deprecated alias for the builtin `bool`. To silence this warning, use `bool` by itself.\n",
    "```\n",
    "    \n",
    "У тебя тоже так?\n",
    "    \n",
    "</div>"
   ]
  },
  {
   "cell_type": "markdown",
   "metadata": {},
   "source": [
    "<img src=\"http://s3.amazonaws.com/pix.iemoji.com/images/emoji/apple/ios-12/256/waving-hand.png\" align=left width=44, heigth=44>\n",
    "<div class=\"alert alert-info\">\n",
    "<b> Комментарий ревьюера</b>\n",
    "\n",
    "Да, я видел DeprecationWarning которые ты получил при импорте. Когда я перезапустил ячейки у меня их не было. Думаю это связано с версиями библиотек, которые были установлены в окружении практикума. Надеюсь что сейчас все будет ок.\n",
    "</div>"
   ]
  },
  {
   "cell_type": "markdown",
   "metadata": {},
   "source": [
    "***"
   ]
  },
  {
   "cell_type": "markdown",
   "metadata": {},
   "source": [
    "## Откройте и изучите файл"
   ]
  },
  {
   "cell_type": "markdown",
   "metadata": {},
   "source": [
    "- `сalls` — количество звонков\n",
    "\n",
    "- `minutes` — суммарная длительность звонков в минутах\n",
    "\n",
    "- `messages` — количество sms-сообщений\n",
    "\n",
    "- `mb_used` — израсходованный интернет-трафик в Мб\n",
    "\n",
    "- `is_ultra` — каким тарифом пользовался в течение месяца («Ультра» — 1, «Смарт» — 0)\n"
   ]
  },
  {
   "cell_type": "code",
   "execution_count": 2,
   "metadata": {},
   "outputs": [],
   "source": [
    "pth1 = '/datasets/users_behavior.csv'\n",
    "pth2 = 'data/users_behavior.csv'\n",
    "\n",
    "if os.path.exists(pth1):\n",
    "    df = pd.read_csv(pth1)\n",
    "elif os.path.exists(pth2):\n",
    "    df = pd.read_csv(pth2)\n",
    "else:\n",
    "    print('Check file path')"
   ]
  },
  {
   "cell_type": "code",
   "execution_count": 3,
   "metadata": {},
   "outputs": [
    {
     "data": {
      "text/html": [
       "<div>\n",
       "<style scoped>\n",
       "    .dataframe tbody tr th:only-of-type {\n",
       "        vertical-align: middle;\n",
       "    }\n",
       "\n",
       "    .dataframe tbody tr th {\n",
       "        vertical-align: top;\n",
       "    }\n",
       "\n",
       "    .dataframe thead th {\n",
       "        text-align: right;\n",
       "    }\n",
       "</style>\n",
       "<table border=\"1\" class=\"dataframe\">\n",
       "  <thead>\n",
       "    <tr style=\"text-align: right;\">\n",
       "      <th></th>\n",
       "      <th>calls</th>\n",
       "      <th>minutes</th>\n",
       "      <th>messages</th>\n",
       "      <th>mb_used</th>\n",
       "      <th>is_ultra</th>\n",
       "    </tr>\n",
       "  </thead>\n",
       "  <tbody>\n",
       "    <tr>\n",
       "      <th>0</th>\n",
       "      <td>40.0</td>\n",
       "      <td>311.90</td>\n",
       "      <td>83.0</td>\n",
       "      <td>19915.42</td>\n",
       "      <td>0</td>\n",
       "    </tr>\n",
       "    <tr>\n",
       "      <th>1</th>\n",
       "      <td>85.0</td>\n",
       "      <td>516.75</td>\n",
       "      <td>56.0</td>\n",
       "      <td>22696.96</td>\n",
       "      <td>0</td>\n",
       "    </tr>\n",
       "    <tr>\n",
       "      <th>2</th>\n",
       "      <td>77.0</td>\n",
       "      <td>467.66</td>\n",
       "      <td>86.0</td>\n",
       "      <td>21060.45</td>\n",
       "      <td>0</td>\n",
       "    </tr>\n",
       "    <tr>\n",
       "      <th>3</th>\n",
       "      <td>106.0</td>\n",
       "      <td>745.53</td>\n",
       "      <td>81.0</td>\n",
       "      <td>8437.39</td>\n",
       "      <td>1</td>\n",
       "    </tr>\n",
       "    <tr>\n",
       "      <th>4</th>\n",
       "      <td>66.0</td>\n",
       "      <td>418.74</td>\n",
       "      <td>1.0</td>\n",
       "      <td>14502.75</td>\n",
       "      <td>0</td>\n",
       "    </tr>\n",
       "  </tbody>\n",
       "</table>\n",
       "</div>"
      ],
      "text/plain": [
       "   calls  minutes  messages   mb_used  is_ultra\n",
       "0   40.0   311.90      83.0  19915.42         0\n",
       "1   85.0   516.75      56.0  22696.96         0\n",
       "2   77.0   467.66      86.0  21060.45         0\n",
       "3  106.0   745.53      81.0   8437.39         1\n",
       "4   66.0   418.74       1.0  14502.75         0"
      ]
     },
     "execution_count": 3,
     "metadata": {},
     "output_type": "execute_result"
    }
   ],
   "source": [
    "df.head()"
   ]
  },
  {
   "cell_type": "markdown",
   "metadata": {},
   "source": [
    "<img src=\"https://upload.wikimedia.org/wikipedia/commons/thumb/8/81/Stop_sign.png/240px-Stop_sign.png\" align=left width=35, heigth=35>\n",
    "<div class=\"alert alert-danger\">\n",
    "\n",
    "Кажется, работа над проектом велась локально и пути к файлам не были изменены на общедоступные. Стоит переписать код таким образом, что бы он запускался и в jupiter hub, и локально без внесения дополнительных правок. Этого можно добиться многими способами. Например, использовать конструкцию  try-except для путей файлов: try - пути на локальном компьютере, except - пути на сервере. \n",
    "\n",
    "Или применить библиотеку os:\n",
    "\n",
    "    import os\n",
    "\n",
    "    pth1 = '/folder_1/data.csv'\n",
    "    pth2 = '/folder_2/data.csv'\n",
    "\n",
    "    if os.path.exists(pth1):\n",
    "        query_1 = pd.read_csv(pth1)\n",
    "    elif os.path.exists(pth2):\n",
    "        query_1 = pd.read_csv(pth2)\n",
    "    else:\n",
    "        print('Something is wrong)\n",
    "\n",
    "\n",
    "\n",
    "</div>"
   ]
  },
  {
   "cell_type": "markdown",
   "metadata": {},
   "source": [
    "<div class=\"alert alert-info\">\n",
    "<b> Комментарий студента</b>\n",
    "    \n",
    "Реализовал твое решение\n",
    "</div>"
   ]
  },
  {
   "cell_type": "code",
   "execution_count": 4,
   "metadata": {},
   "outputs": [
    {
     "data": {
      "text/plain": [
       "(3214, 5)"
      ]
     },
     "execution_count": 4,
     "metadata": {},
     "output_type": "execute_result"
    }
   ],
   "source": [
    "df.shape"
   ]
  },
  {
   "cell_type": "code",
   "execution_count": 5,
   "metadata": {},
   "outputs": [
    {
     "name": "stdout",
     "output_type": "stream",
     "text": [
      "<class 'pandas.core.frame.DataFrame'>\n",
      "RangeIndex: 3214 entries, 0 to 3213\n",
      "Data columns (total 5 columns):\n",
      " #   Column    Non-Null Count  Dtype  \n",
      "---  ------    --------------  -----  \n",
      " 0   calls     3214 non-null   float64\n",
      " 1   minutes   3214 non-null   float64\n",
      " 2   messages  3214 non-null   float64\n",
      " 3   mb_used   3214 non-null   float64\n",
      " 4   is_ultra  3214 non-null   int64  \n",
      "dtypes: float64(4), int64(1)\n",
      "memory usage: 125.7 KB\n"
     ]
    }
   ],
   "source": [
    "df.info()"
   ]
  },
  {
   "cell_type": "markdown",
   "metadata": {},
   "source": [
    "- Пропуски отсутствуют, типы данных корректные"
   ]
  },
  {
   "cell_type": "code",
   "execution_count": 6,
   "metadata": {
    "scrolled": true
   },
   "outputs": [
    {
     "data": {
      "text/plain": [
       "0"
      ]
     },
     "execution_count": 6,
     "metadata": {},
     "output_type": "execute_result"
    }
   ],
   "source": [
    "df.duplicated().sum()"
   ]
  },
  {
   "cell_type": "markdown",
   "metadata": {},
   "source": [
    "- Дубликаты отсутствуют"
   ]
  },
  {
   "cell_type": "markdown",
   "metadata": {},
   "source": [
    "<img src=\"https://emojigraph.org/media/apple/check-mark-button_2705.png\" align=left width=33, heigth=33>\n",
    "<div class=\"alert alert-success\">\n",
    "Данные загружены и исследованы.</div>"
   ]
  },
  {
   "cell_type": "markdown",
   "metadata": {},
   "source": [
    "## Разбейте данные на выборки"
   ]
  },
  {
   "cell_type": "code",
   "execution_count": 7,
   "metadata": {},
   "outputs": [],
   "source": [
    "features = df.drop(columns=['is_ultra'])\n",
    "target = df['is_ultra']"
   ]
  },
  {
   "cell_type": "code",
   "execution_count": 8,
   "metadata": {},
   "outputs": [],
   "source": [
    "# Разделяю исходную выборку (60% данных на обучение, 40% на тесты и валидацию)\n",
    "features_train, features_valid, target_train, target_valid = train_test_split(\n",
    "    features, target, test_size=.4, random_state=42\n",
    ")\n",
    "\n",
    "# Разделяю тестовую и валидационную выборку (в соотношении 1:1)\n",
    "features_valid, features_test, target_valid, target_test = train_test_split(\n",
    "    features_valid, target_valid, test_size=.5, random_state=42\n",
    ")"
   ]
  },
  {
   "cell_type": "code",
   "execution_count": 9,
   "metadata": {},
   "outputs": [
    {
     "name": "stdout",
     "output_type": "stream",
     "text": [
      "Обучающая выборка содержит 60% исходных данных\n",
      "Валидационная выборка содержит 20% исходных данных\n",
      "Тестовая выборка содержит 20% исходных данных\n"
     ]
    }
   ],
   "source": [
    "# Проверка\n",
    "print(f'Обучающая выборка содержит {len(features_train) / len(df):.0%} исходных данных')\n",
    "print(f'Валидационная выборка содержит {len(features_valid) / len(df):.0%} исходных данных')\n",
    "print(f'Тестовая выборка содержит {len(features_test) / len(df):.0%} исходных данных')"
   ]
  },
  {
   "cell_type": "markdown",
   "metadata": {},
   "source": [
    "<img src=\"https://emojigraph.org/media/apple/check-mark-button_2705.png\" align=left width=33, heigth=33>\n",
    "<div class=\"alert alert-success\">\n",
    "Данные разбиты на выборки, соблюдены рекомендованные пропорции 60%-20%-20% (обучающая, валидационная, тестовая)</div>"
   ]
  },
  {
   "cell_type": "markdown",
   "metadata": {},
   "source": [
    "## Исследуйте модели"
   ]
  },
  {
   "cell_type": "markdown",
   "metadata": {},
   "source": [
    "#### Решающее дерево"
   ]
  },
  {
   "cell_type": "code",
   "execution_count": 46,
   "metadata": {},
   "outputs": [
    {
     "name": "stdout",
     "output_type": "stream",
     "text": [
      "decision tree accuracy\n",
      "\n",
      "train | valid |  depth\n",
      "-----------------------\n",
      " 75%  |  73%  |  1\n",
      " 78%  |  78%  |  2\n",
      " 80%  |  79%  |  3\n",
      " 81%  |  78%  |  4\n",
      " 82%  |  77%  |  5\n",
      " 82%  |  78%  |  6\n",
      " 84%  |  78%  |  7\n",
      " 85%  |  80%  |  8\n",
      " 86%  |  78%  |  9\n",
      " 88%  |  79%  |  10\n",
      "\n",
      "**********\n",
      "best dt valid accuracy: 80%, best depth: 8\n",
      "**********\n"
     ]
    }
   ],
   "source": [
    "best_dt_model = None\n",
    "best_dt_accuracy = 0\n",
    "\n",
    "print('decision tree accuracy')\n",
    "print()\n",
    "print('train | valid |  depth')\n",
    "print('-----------------------')\n",
    "for depth in range(1, 11):\n",
    "\n",
    "    #Обучение модели\n",
    "    model_dt = DecisionTreeClassifier(max_depth=depth, random_state=42)\n",
    "    model_dt.fit(features_train, target_train)\n",
    "    predictions_valid_dt = model_dt.predict(features_valid)\n",
    "    predictions_train_dt = model_dt.predict(features_train)\n",
    "\n",
    "    #Качество модели\n",
    "    accuracy_valid_dt = accuracy_score(target_valid, predictions_valid_dt)\n",
    "    accuracy_train_dt = accuracy_score(target_train, predictions_train_dt)\n",
    "    print(f' {accuracy_train_dt:.0%}  |  {accuracy_valid_dt:.0%}  |  {depth}')\n",
    "\n",
    "    if accuracy_valid_dt > best_dt_accuracy:\n",
    "        best_dt_model = model_dt\n",
    "        best_dt_accuracy = accuracy_valid_dt\n",
    "        best_depth = depth\n",
    "\n",
    "print()\n",
    "print('*' * 10)\n",
    "print(f'best dt valid accuracy: {best_dt_accuracy:.0%}, best depth: {best_depth}')\n",
    "print('*' * 10)"
   ]
  },
  {
   "cell_type": "markdown",
   "metadata": {},
   "source": [
    "<img src=\"https://emojigraph.org/media/apple/check-mark-button_2705.png\" align=left width=33, heigth=33>\n",
    "<div class=\"alert alert-success\">\n",
    "Отлично:\n",
    "    \n",
    " - исследовано более 5 значений гиперпараметров\n",
    " - модель обучена, на обучающем наборе\n",
    " - перебор гиперпараметров осуществляется в цикле\n",
    "</div>"
   ]
  },
  {
   "cell_type": "markdown",
   "metadata": {},
   "source": [
    "<img src=\"https://upload.wikimedia.org/wikipedia/commons/b/ba/Warning_sign_4.0.png\" align=left width=44, heigth=33>\n",
    "<div class=\"alert alert-warning\">\n",
    "Стоит выводить оценки качества модели для обучающего и валидационного наборов\n",
    "</div>"
   ]
  },
  {
   "cell_type": "markdown",
   "metadata": {},
   "source": [
    "<div class=\"alert alert-info\">\n",
    "<b> Комментарий студента</b>\n",
    "    \n",
    "Добавил метрики для обучающего набора\n",
    "</div>"
   ]
  },
  {
   "cell_type": "markdown",
   "metadata": {},
   "source": [
    "#### Случайный лес"
   ]
  },
  {
   "cell_type": "code",
   "execution_count": 47,
   "metadata": {},
   "outputs": [
    {
     "name": "stdout",
     "output_type": "stream",
     "text": [
      "random forest accuracy\n",
      "\n",
      "train | valid | n est\n",
      "-----------------------\n",
      " 90%  |  72%  |  1\n",
      " 90%  |  77%  |  2\n",
      " 94%  |  76%  |  3\n",
      " 94%  |  79%  |  4\n",
      " 96%  |  77%  |  5\n",
      " 96%  |  79%  |  6\n",
      " 97%  |  79%  |  7\n",
      " 97%  |  79%  |  8\n",
      " 98%  |  79%  |  9\n",
      " 98%  |  79%  |  10\n",
      "\n",
      "**********\n",
      "best rf valid accuracy: 79%, best n est: 4\n",
      "**********\n"
     ]
    }
   ],
   "source": [
    "best_rf_model = None\n",
    "best_rf_accuracy = 0\n",
    "\n",
    "print('random forest accuracy')\n",
    "print()\n",
    "print('train | valid | n est')\n",
    "print('-----------------------')\n",
    "for est in range(1, 11):\n",
    "\n",
    "    #Обучение модели\n",
    "    model_rf = RandomForestClassifier(n_estimators=est, random_state=42)\n",
    "    model_rf.fit(features_train, target_train)\n",
    "    predictions_valid_rf = model_rf.predict(features_valid)\n",
    "    predictions_train_rf = model_rf.predict(features_train)\n",
    "\n",
    "    #Качество модели\n",
    "    accuracy_valid_rf = accuracy_score(target_valid, predictions_valid_rf)\n",
    "    accuracy_train_rf = accuracy_score(target_train, predictions_train_rf)\n",
    "    print(f' {accuracy_train_rf:.0%}  |  {accuracy_valid_rf:.0%}  |  {est}')\n",
    "\n",
    "    if accuracy_valid_rf > best_rf_accuracy:\n",
    "        best_rf_model = model_rf\n",
    "        best_rf_accuracy = accuracy_valid_rf\n",
    "        best_n_est = est\n",
    "\n",
    "print()\n",
    "print('*' * 10)\n",
    "print(f'best rf valid accuracy: {best_rf_accuracy:.0%}, best n est: {best_n_est}')\n",
    "print('*' * 10)"
   ]
  },
  {
   "cell_type": "markdown",
   "metadata": {},
   "source": [
    "<img src=\"https://emojigraph.org/media/apple/check-mark-button_2705.png\" align=left width=33, heigth=33>\n",
    "<div class=\"alert alert-success\">\n",
    "Отлично:\n",
    "    \n",
    " - исследовано более 5 значений гиперпараметров\n",
    " - модель обучена, на обучающем наборе\n",
    " - перебор гиперпараметров осуществляется в цикле\n",
    "</div>"
   ]
  },
  {
   "cell_type": "markdown",
   "metadata": {},
   "source": [
    "<img src=\"https://upload.wikimedia.org/wikipedia/commons/b/ba/Warning_sign_4.0.png\" align=left width=44, heigth=33>\n",
    "<div class=\"alert alert-warning\">\n",
    "Стоит выводить оценки качества модели для обучающего и валидационного наборов\n",
    "</div>"
   ]
  },
  {
   "cell_type": "markdown",
   "metadata": {},
   "source": [
    "<div class=\"alert alert-info\">\n",
    "<b> Комментарий студента</b>\n",
    "    \n",
    "Добавил метрики для обучающего набора\n",
    "</div>"
   ]
  },
  {
   "cell_type": "markdown",
   "metadata": {},
   "source": [
    "#### Логистическая регрессия"
   ]
  },
  {
   "cell_type": "code",
   "execution_count": 53,
   "metadata": {},
   "outputs": [
    {
     "name": "stdout",
     "output_type": "stream",
     "text": [
      "logistic regression accuracy\n",
      "\n",
      "train 74.33%, valid 74.03%\n"
     ]
    }
   ],
   "source": [
    "lr_model = LogisticRegression(random_state=42, solver='lbfgs', max_iter=1000)\n",
    "\n",
    "#Обучение модели\n",
    "lr_model.fit(features_train, target_train)\n",
    "lr_predictions = lr_model.predict(features_valid)\n",
    "\n",
    "#Качество модели\n",
    "lr_valid_accuracy = lr_model.score(features_valid, target_valid)\n",
    "lr_train_accuracy = lr_model.score(features_train, target_train)\n",
    "\n",
    "print('logistic regression accuracy')\n",
    "print()\n",
    "print(f'train {lr_train_accuracy:.2%}, valid {lr_valid_accuracy:.2%}')"
   ]
  },
  {
   "cell_type": "markdown",
   "metadata": {},
   "source": [
    "<img src=\"https://upload.wikimedia.org/wikipedia/commons/b/ba/Warning_sign_4.0.png\" align=left width=44, heigth=33>\n",
    "<div class=\"alert alert-warning\">\n",
    "Стоит выводить оценки качества модели для обучающего и валидационного наборов\n",
    "</div>"
   ]
  },
  {
   "cell_type": "markdown",
   "metadata": {},
   "source": [
    "<div class=\"alert alert-info\">\n",
    "<b> Комментарий студента</b>\n",
    "    \n",
    "Добавил метрики для обучающего набора\n",
    "</div>"
   ]
  },
  {
   "cell_type": "markdown",
   "metadata": {},
   "source": [
    "#### Сводная таблица"
   ]
  },
  {
   "cell_type": "code",
   "execution_count": 13,
   "metadata": {},
   "outputs": [
    {
     "data": {
      "text/html": [
       "<div>\n",
       "<style scoped>\n",
       "    .dataframe tbody tr th:only-of-type {\n",
       "        vertical-align: middle;\n",
       "    }\n",
       "\n",
       "    .dataframe tbody tr th {\n",
       "        vertical-align: top;\n",
       "    }\n",
       "\n",
       "    .dataframe thead th {\n",
       "        text-align: right;\n",
       "    }\n",
       "</style>\n",
       "<table border=\"1\" class=\"dataframe\">\n",
       "  <thead>\n",
       "    <tr style=\"text-align: right;\">\n",
       "      <th></th>\n",
       "      <th>accuracy_valid</th>\n",
       "    </tr>\n",
       "  </thead>\n",
       "  <tbody>\n",
       "    <tr>\n",
       "      <th>decision_tree</th>\n",
       "      <td>0.80</td>\n",
       "    </tr>\n",
       "    <tr>\n",
       "      <th>random_forest</th>\n",
       "      <td>0.79</td>\n",
       "    </tr>\n",
       "    <tr>\n",
       "      <th>logistic_regression</th>\n",
       "      <td>0.74</td>\n",
       "    </tr>\n",
       "  </tbody>\n",
       "</table>\n",
       "</div>"
      ],
      "text/plain": [
       "                     accuracy_valid\n",
       "decision_tree                  0.80\n",
       "random_forest                  0.79\n",
       "logistic_regression            0.74"
      ]
     },
     "execution_count": 13,
     "metadata": {},
     "output_type": "execute_result"
    }
   ],
   "source": [
    "pd.set_option(\"display.precision\", 2)\n",
    "\n",
    "pd.DataFrame([best_dt_accuracy, best_rf_accuracy, lr_accuracy],\n",
    "              columns=['accuracy_valid'],\n",
    "              index=['decision_tree', 'random_forest', 'logistic_regression'])"
   ]
  },
  {
   "cell_type": "markdown",
   "metadata": {},
   "source": [
    "- На валидационной выборке лучший результат показывает решающее дерево (accuracy `80%`) при глубине, равной 8\n",
    "\n",
    "- Сравнимый результат (долю правильных ответов) показывает случайный лес (`79%`, количество деревьев: 4)\n",
    "\n",
    "- Хуже всего справляется логистическая модель (`74%`)"
   ]
  },
  {
   "cell_type": "markdown",
   "metadata": {},
   "source": [
    "<img src=\"https://emojigraph.org/media/apple/check-mark-button_2705.png\" align=left width=33, heigth=33>\n",
    "<div class=\"alert alert-success\">\n",
    "Рассмотрены все три изученных алгоритма (решающее дерево, случайный лес, логистическая регрессия)\n",
    "</div>\n"
   ]
  },
  {
   "cell_type": "markdown",
   "metadata": {},
   "source": [
    "<img src=\"https://emojigraph.org/media/apple/check-mark-button_2705.png\" align=left width=33, heigth=33>\n",
    "<div class=\"alert alert-success\">\n",
    "Есть выводы, по результатам исследований, выбрана лучшая модель.\n",
    "</div>\n"
   ]
  },
  {
   "cell_type": "markdown",
   "metadata": {},
   "source": [
    "## Проверьте модель на тестовой выборке"
   ]
  },
  {
   "cell_type": "markdown",
   "metadata": {},
   "source": [
    "<img src=\"https://upload.wikimedia.org/wikipedia/commons/b/ba/Warning_sign_4.0.png\" align=left width=44, heigth=33>\n",
    "<div class=\"alert alert-warning\">\n",
    "К этому этапу есть смысл выбрать одну модель по результатам исследования и тестировать уже её.\n",
    "</div>"
   ]
  },
  {
   "cell_type": "markdown",
   "metadata": {},
   "source": [
    "<div class=\"alert alert-info\">\n",
    "<b> Комментарий студента</b>\n",
    "    \n",
    "Для тестирования выберу случайный лес: результат на валидационной выборке сравним с деревом решений, но при этом меньше шанс переобучиться\n",
    "</div>"
   ]
  },
  {
   "cell_type": "markdown",
   "metadata": {},
   "source": [
    "> Дообучу модель на дополненной выборке (обучающая + валидационная)"
   ]
  },
  {
   "cell_type": "code",
   "execution_count": 64,
   "metadata": {},
   "outputs": [
    {
     "name": "stdout",
     "output_type": "stream",
     "text": [
      "Дополненная обучающая выборка содержит 80% от всех объектов\n"
     ]
    }
   ],
   "source": [
    "# Объединяю обучающаю и валидационную выборку\n",
    "features_joined = pd.concat([features_train, features_valid])\n",
    "target_joined = pd.concat([target_train, target_valid])\n",
    "\n",
    "print(f'Дополненная обучающая выборка содержит {len(features_joined) / len(df):.0%} от всех объектов')"
   ]
  },
  {
   "cell_type": "code",
   "execution_count": 78,
   "metadata": {},
   "outputs": [
    {
     "name": "stdout",
     "output_type": "stream",
     "text": [
      "random forest accuracy\n",
      "\n",
      " train  |  test   | n est\n",
      "-------------------------\n",
      " 94.5%  |  80.7%  |  4\n"
     ]
    }
   ],
   "source": [
    "# Дообучаю случайны лес\n",
    "\n",
    "print('random forest accuracy')\n",
    "print()\n",
    "print(' train  |  test   | n est')\n",
    "print('-------------------------')\n",
    "\n",
    "#Обучение модели\n",
    "\n",
    "# Наилучшее значение гиперпараметра (определено выше)\n",
    "EST = 4\n",
    "\n",
    "model_joined_rf = RandomForestClassifier(n_estimators=EST, random_state=42)\n",
    "model_joined_rf.fit(features_joined, target_joined)\n",
    "\n",
    "predictions_test_joined_rf = model_joined_rf.predict(features_test)\n",
    "predictions_train_joined_rf = model_joined_rf.predict(features_joined)\n",
    "\n",
    "#Качество модели\n",
    "accuracy_test_joined_rf = accuracy_score(target_test, predictions_test_joined_rf)\n",
    "accuracy_train_joined_rf = accuracy_score(target_joined, predictions_train_joined_rf)\n",
    "print(f' {accuracy_train_joined_rf:.1%}  |  {accuracy_test_joined_rf:.1%}  |  {EST}')"
   ]
  },
  {
   "cell_type": "code",
   "execution_count": 81,
   "metadata": {},
   "outputs": [
    {
     "name": "stdout",
     "output_type": "stream",
     "text": [
      "accuracy для случайного леса при обучении на 60% объектов: 80.1%\n"
     ]
    }
   ],
   "source": [
    "predictions_test_rf = best_rf_model.predict(features_test)\n",
    "\n",
    "accuracy_test_rf = accuracy_score(target_test, predictions_test_rf)\n",
    "\n",
    "print(f'Точность для случайного леса при обучении на 60% объектов: {accuracy_test_rf:.1%}')"
   ]
  },
  {
   "cell_type": "markdown",
   "metadata": {},
   "source": [
    "> Объединение обучающей и валидационной выборки позволило немного повысить точность модели"
   ]
  },
  {
   "cell_type": "markdown",
   "metadata": {},
   "source": [
    "<div class=\"alert alert-info\">\n",
    "<b> Комментарий студента</b>\n",
    "    \n",
    "Улучшение достигнуто небольшое (0.6%). Можно ли провести какой-нибудь статтест, чтобы определить его значимость? Что если это флуктуация в пределах ошибки?\n",
    "</div>"
   ]
  },
  {
   "cell_type": "markdown",
   "metadata": {},
   "source": [
    "<img src=\"https://emojigraph.org/media/apple/check-mark-button_2705.png\" align=left width=33, heigth=33>\n",
    "<div class=\"alert alert-success\">\n",
    "Отлично: \n",
    "    \n",
    "  - тестирование произведено корректно \n",
    "  - достигнута хорошая точность на тестовой выборке\n",
    "</div>\n"
   ]
  },
  {
   "cell_type": "markdown",
   "metadata": {},
   "source": [
    "<img src=\"https://upload.wikimedia.org/wikipedia/commons/b/ba/Warning_sign_4.0.png\" align=left width=44, heigth=33>\n",
    "<div class=\"alert alert-warning\">\n",
    "Я вижу что ты обучаешь модель на только на обучающей выборке. Сейчас, когда гиперпараметры подобраны и валидационная выборка нам не нужна, мы можем обучить модель на большой выборке (обучающая + валидационная), а тестирование новой модели произвести уже на тестовой выборке.\n",
    "</div>"
   ]
  },
  {
   "cell_type": "markdown",
   "metadata": {},
   "source": [
    "## (бонус) Проверьте модели на адекватность"
   ]
  },
  {
   "cell_type": "markdown",
   "metadata": {},
   "source": [
    "<img src=\"https://upload.wikimedia.org/wikipedia/commons/b/ba/Warning_sign_4.0.png\" align=left width=44, heigth=33>\n",
    "<div class=\"alert alert-warning\">\n",
    "Один из возможных способов проверки моделей на адекватность - это создать примитивную модель (например, константную, всегда предсказывающую 0) и сравнить точность константной модели с точностями обученных нами моделей.\n",
    "</div>"
   ]
  },
  {
   "cell_type": "code",
   "execution_count": 94,
   "metadata": {},
   "outputs": [
    {
     "name": "stdout",
     "output_type": "stream",
     "text": [
      "Точность для константной модели: 70%\n"
     ]
    }
   ],
   "source": [
    "dummy_predictions = np.zeros(len(target_test))\n",
    "\n",
    "print(f'Точность для константной модели: {accuracy_score(target_test, dummy_predictions):.0%}')"
   ]
  },
  {
   "cell_type": "markdown",
   "metadata": {},
   "source": [
    "`Случайный лес дает прирост качества в ~10% по сравнению с примитивной моделью`\n",
    "\n",
    "> Модели будет трудно проходить проверку на адекватность, если в тестовых данных наблюдается силиный дисбаланс классов"
   ]
  },
  {
   "cell_type": "markdown",
   "metadata": {},
   "source": [
    "## Чек-лист готовности проекта"
   ]
  },
  {
   "cell_type": "markdown",
   "metadata": {},
   "source": [
    "Поставьте 'x' в выполненных пунктах. Далее нажмите Shift+Enter."
   ]
  },
  {
   "cell_type": "markdown",
   "metadata": {},
   "source": [
    "- [x] Jupyter Notebook открыт\n",
    "- [x] Весь код исполняется без ошибок\n",
    "- [x] Ячейки с кодом расположены в порядке исполнения\n",
    "- [x] Выполнено задание 1: данные загружены и изучены\n",
    "- [x] Выполнено задание 2: данные разбиты на три выборки\n",
    "- [x] Выполнено задание 3: проведено исследование моделей\n",
    "    - [x] Рассмотрено больше одной модели\n",
    "    - [x] Рассмотрено хотя бы 3 значения гипепараметров для какой-нибудь модели\n",
    "    - [x] Написаны выводы по результатам исследования\n",
    "- [x] Выполнено задание 3: Проведено тестирование\n",
    "- [x] Удалось достичь accuracy не меньше 0.75\n"
   ]
  },
  {
   "cell_type": "markdown",
   "metadata": {},
   "source": [
    "<img src=\"http://s3.amazonaws.com/pix.iemoji.com/images/emoji/apple/ios-12/256/waving-hand.png\" align=left width=44, heigth=44>\n",
    "<div class=\"alert alert-info\">\n",
    "<b> Заключительный комментарий</b>\n",
    "\n",
    "Привет. Твоя  работа мне очень понравилось - все четко, по полочкам, сделано все нужное и практически ничего лишнего. В целом с проектом ты справился, есть одно \"красное\" замечание, но оно чисто техническое, нужно поправить пути к датасету.\n",
    "    \n",
    "Также посмотри желтые комментарии, но это на твое усмотрение.\n",
    "    \n",
    "Что касается проверки на адекватность - это бонусный, не обязателный раздел. Но намек, как действовать я тебе дал.\n",
    "   \n",
    "Жду твоих исправлений :)\n",
    "</div>"
   ]
  }
 ],
 "metadata": {
  "ExecuteTimeLog": [
   {
    "duration": 1365,
    "start_time": "2022-04-05T17:09:30.607Z"
   },
   {
    "duration": 537,
    "start_time": "2022-04-05T17:12:23.300Z"
   },
   {
    "duration": 3,
    "start_time": "2022-04-05T17:12:23.841Z"
   },
   {
    "duration": 490,
    "start_time": "2022-04-05T17:12:23.847Z"
   },
   {
    "duration": 0,
    "start_time": "2022-04-05T17:12:24.341Z"
   },
   {
    "duration": 0,
    "start_time": "2022-04-05T17:12:24.344Z"
   },
   {
    "duration": 0,
    "start_time": "2022-04-05T17:12:24.347Z"
   },
   {
    "duration": 0,
    "start_time": "2022-04-05T17:12:24.363Z"
   },
   {
    "duration": 0,
    "start_time": "2022-04-05T17:12:24.366Z"
   },
   {
    "duration": 0,
    "start_time": "2022-04-05T17:12:24.368Z"
   },
   {
    "duration": 0,
    "start_time": "2022-04-05T17:12:24.372Z"
   },
   {
    "duration": 0,
    "start_time": "2022-04-05T17:12:24.375Z"
   },
   {
    "duration": 0,
    "start_time": "2022-04-05T17:12:24.377Z"
   },
   {
    "duration": 0,
    "start_time": "2022-04-05T17:12:24.380Z"
   },
   {
    "duration": 0,
    "start_time": "2022-04-05T17:12:24.381Z"
   },
   {
    "duration": 0,
    "start_time": "2022-04-05T17:12:24.382Z"
   },
   {
    "duration": 0,
    "start_time": "2022-04-05T17:12:24.383Z"
   },
   {
    "duration": 0,
    "start_time": "2022-04-05T17:12:24.384Z"
   },
   {
    "duration": 0,
    "start_time": "2022-04-05T17:12:24.385Z"
   },
   {
    "duration": 0,
    "start_time": "2022-04-05T17:12:24.386Z"
   },
   {
    "duration": 0,
    "start_time": "2022-04-05T17:12:24.387Z"
   },
   {
    "duration": 0,
    "start_time": "2022-04-05T17:12:24.388Z"
   },
   {
    "duration": 0,
    "start_time": "2022-04-05T17:12:24.389Z"
   },
   {
    "duration": 0,
    "start_time": "2022-04-05T17:12:24.389Z"
   },
   {
    "duration": 82,
    "start_time": "2022-04-05T17:14:39.982Z"
   },
   {
    "duration": 144,
    "start_time": "2022-04-05T17:15:07.476Z"
   },
   {
    "duration": 108,
    "start_time": "2022-04-05T17:15:52.834Z"
   },
   {
    "duration": 4,
    "start_time": "2022-04-05T17:15:55.177Z"
   },
   {
    "duration": 11,
    "start_time": "2022-04-05T17:15:55.642Z"
   },
   {
    "duration": 7,
    "start_time": "2022-04-05T17:15:59.095Z"
   },
   {
    "duration": 4,
    "start_time": "2022-04-05T17:16:02.660Z"
   },
   {
    "duration": 6,
    "start_time": "2022-04-05T17:16:03.005Z"
   },
   {
    "duration": 4,
    "start_time": "2022-04-05T17:16:03.353Z"
   },
   {
    "duration": 71,
    "start_time": "2022-04-05T17:16:21.906Z"
   },
   {
    "duration": 260,
    "start_time": "2022-04-05T17:16:25.090Z"
   },
   {
    "duration": 38,
    "start_time": "2022-04-05T17:16:27.864Z"
   },
   {
    "duration": 8,
    "start_time": "2022-04-05T17:16:30.101Z"
   },
   {
    "duration": 7,
    "start_time": "2022-04-05T17:16:40.463Z"
   },
   {
    "duration": 9,
    "start_time": "2022-04-05T17:16:41.100Z"
   },
   {
    "duration": 8,
    "start_time": "2022-04-05T17:16:41.624Z"
   },
   {
    "duration": 8,
    "start_time": "2022-04-05T17:16:45.318Z"
   },
   {
    "duration": 15,
    "start_time": "2022-04-05T17:16:48.946Z"
   },
   {
    "duration": 12,
    "start_time": "2022-04-05T17:16:49.319Z"
   },
   {
    "duration": 8,
    "start_time": "2022-04-05T17:16:53.002Z"
   },
   {
    "duration": 6,
    "start_time": "2022-04-05T17:16:59.839Z"
   },
   {
    "duration": 9,
    "start_time": "2022-04-05T17:16:59.847Z"
   },
   {
    "duration": 6,
    "start_time": "2022-04-05T17:17:00.338Z"
   },
   {
    "duration": 117,
    "start_time": "2022-04-05T17:21:11.233Z"
   },
   {
    "duration": 1353,
    "start_time": "2022-04-06T07:08:09.303Z"
   },
   {
    "duration": 295,
    "start_time": "2022-04-06T07:08:12.338Z"
   },
   {
    "duration": 167,
    "start_time": "2022-04-06T07:08:21.715Z"
   },
   {
    "duration": 27,
    "start_time": "2022-04-06T07:08:29.694Z"
   },
   {
    "duration": 68,
    "start_time": "2022-04-06T07:08:34.491Z"
   },
   {
    "duration": 6,
    "start_time": "2022-04-06T07:10:14.469Z"
   },
   {
    "duration": 609,
    "start_time": "2022-04-06T07:10:18.299Z"
   },
   {
    "duration": 76,
    "start_time": "2022-04-06T07:11:58.940Z"
   },
   {
    "duration": 45,
    "start_time": "2022-04-06T07:14:08.684Z"
   },
   {
    "duration": 13,
    "start_time": "2022-04-06T07:16:04.775Z"
   },
   {
    "duration": 5,
    "start_time": "2022-04-06T07:16:07.630Z"
   },
   {
    "duration": 14,
    "start_time": "2022-04-06T07:16:08.764Z"
   },
   {
    "duration": 10,
    "start_time": "2022-04-06T07:16:26.573Z"
   },
   {
    "duration": 1055,
    "start_time": "2022-04-06T07:16:37.173Z"
   },
   {
    "duration": 279,
    "start_time": "2022-04-06T07:16:38.230Z"
   },
   {
    "duration": 16,
    "start_time": "2022-04-06T07:16:41.000Z"
   },
   {
    "duration": 14,
    "start_time": "2022-04-06T07:16:45.598Z"
   },
   {
    "duration": 3,
    "start_time": "2022-04-06T07:19:21.539Z"
   },
   {
    "duration": 1147,
    "start_time": "2022-04-06T07:20:10.441Z"
   },
   {
    "duration": 15,
    "start_time": "2022-04-06T07:20:11.590Z"
   },
   {
    "duration": 17,
    "start_time": "2022-04-06T07:20:11.606Z"
   },
   {
    "duration": 13,
    "start_time": "2022-04-06T07:20:11.624Z"
   },
   {
    "duration": 12,
    "start_time": "2022-04-06T07:20:11.639Z"
   },
   {
    "duration": 9,
    "start_time": "2022-04-06T07:20:11.652Z"
   },
   {
    "duration": 5,
    "start_time": "2022-04-06T07:20:11.663Z"
   },
   {
    "duration": 13,
    "start_time": "2022-04-06T07:20:11.669Z"
   },
   {
    "duration": 5,
    "start_time": "2022-04-06T07:20:11.684Z"
   },
   {
    "duration": 91,
    "start_time": "2022-04-06T07:20:11.691Z"
   },
   {
    "duration": 280,
    "start_time": "2022-04-06T07:20:11.784Z"
   },
   {
    "duration": 40,
    "start_time": "2022-04-06T07:20:12.066Z"
   },
   {
    "duration": 8,
    "start_time": "2022-04-06T07:20:12.108Z"
   },
   {
    "duration": 7,
    "start_time": "2022-04-06T07:20:12.139Z"
   },
   {
    "duration": 13,
    "start_time": "2022-04-06T07:20:12.147Z"
   },
   {
    "duration": 6,
    "start_time": "2022-04-06T07:20:12.162Z"
   },
   {
    "duration": 14,
    "start_time": "2022-04-06T07:20:12.170Z"
   },
   {
    "duration": 15,
    "start_time": "2022-04-06T07:20:12.186Z"
   },
   {
    "duration": 37,
    "start_time": "2022-04-06T07:20:12.202Z"
   },
   {
    "duration": 9,
    "start_time": "2022-04-06T07:20:12.240Z"
   },
   {
    "duration": 7,
    "start_time": "2022-04-06T07:20:12.250Z"
   },
   {
    "duration": 9,
    "start_time": "2022-04-06T07:20:12.259Z"
   },
   {
    "duration": 9,
    "start_time": "2022-04-06T07:20:12.269Z"
   },
   {
    "duration": 78,
    "start_time": "2022-04-06T07:26:34.574Z"
   },
   {
    "duration": 81,
    "start_time": "2022-04-06T07:28:53.929Z"
   },
   {
    "duration": 83,
    "start_time": "2022-04-06T07:29:03.952Z"
   },
   {
    "duration": 116,
    "start_time": "2022-04-06T07:30:07.334Z"
   },
   {
    "duration": 291,
    "start_time": "2022-04-06T07:33:56.837Z"
   },
   {
    "duration": 79,
    "start_time": "2022-04-06T07:34:13.466Z"
   },
   {
    "duration": 294,
    "start_time": "2022-04-06T07:34:19.245Z"
   },
   {
    "duration": 289,
    "start_time": "2022-04-06T07:43:15.075Z"
   },
   {
    "duration": 87,
    "start_time": "2022-04-06T07:44:08.157Z"
   },
   {
    "duration": 83,
    "start_time": "2022-04-06T07:44:31.683Z"
   },
   {
    "duration": 86,
    "start_time": "2022-04-06T07:46:00.752Z"
   },
   {
    "duration": 84,
    "start_time": "2022-04-06T07:46:11.406Z"
   },
   {
    "duration": 81,
    "start_time": "2022-04-06T07:46:26.427Z"
   },
   {
    "duration": 85,
    "start_time": "2022-04-06T07:47:16.173Z"
   },
   {
    "duration": 81,
    "start_time": "2022-04-06T07:47:30.390Z"
   },
   {
    "duration": 86,
    "start_time": "2022-04-06T07:47:44.731Z"
   },
   {
    "duration": 82,
    "start_time": "2022-04-06T07:47:49.820Z"
   },
   {
    "duration": 82,
    "start_time": "2022-04-06T07:48:24.488Z"
   },
   {
    "duration": 86,
    "start_time": "2022-04-06T07:48:33.079Z"
   },
   {
    "duration": 80,
    "start_time": "2022-04-06T07:48:51.134Z"
   },
   {
    "duration": 98,
    "start_time": "2022-04-06T07:48:58.589Z"
   },
   {
    "duration": 83,
    "start_time": "2022-04-06T07:49:05.310Z"
   },
   {
    "duration": 84,
    "start_time": "2022-04-06T07:49:36.221Z"
   },
   {
    "duration": 294,
    "start_time": "2022-04-06T07:51:09.060Z"
   },
   {
    "duration": 51,
    "start_time": "2022-04-06T07:54:12.468Z"
   },
   {
    "duration": 42,
    "start_time": "2022-04-06T07:54:25.356Z"
   },
   {
    "duration": 44,
    "start_time": "2022-04-06T07:54:44.508Z"
   },
   {
    "duration": 42,
    "start_time": "2022-04-06T07:54:57.943Z"
   },
   {
    "duration": 41,
    "start_time": "2022-04-06T07:55:11.041Z"
   },
   {
    "duration": 42,
    "start_time": "2022-04-06T07:55:20.064Z"
   },
   {
    "duration": 116,
    "start_time": "2022-04-06T08:00:49.881Z"
   },
   {
    "duration": 98,
    "start_time": "2022-04-06T08:04:46.906Z"
   },
   {
    "duration": 11,
    "start_time": "2022-04-06T08:05:13.937Z"
   },
   {
    "duration": 12,
    "start_time": "2022-04-06T08:05:25.608Z"
   },
   {
    "duration": 6,
    "start_time": "2022-04-06T08:05:38.244Z"
   },
   {
    "duration": 6,
    "start_time": "2022-04-06T08:05:56.805Z"
   },
   {
    "duration": 136,
    "start_time": "2022-04-06T08:06:24.700Z"
   },
   {
    "duration": 5,
    "start_time": "2022-04-06T08:06:58.708Z"
   },
   {
    "duration": 6,
    "start_time": "2022-04-06T08:08:12.244Z"
   },
   {
    "duration": 5,
    "start_time": "2022-04-06T08:08:36.343Z"
   },
   {
    "duration": 4,
    "start_time": "2022-04-06T08:10:39.495Z"
   },
   {
    "duration": 33,
    "start_time": "2022-04-06T08:19:42.142Z"
   },
   {
    "duration": 9,
    "start_time": "2022-04-06T08:19:50.062Z"
   },
   {
    "duration": 34,
    "start_time": "2022-04-06T08:20:18.966Z"
   },
   {
    "duration": 35,
    "start_time": "2022-04-06T08:20:45.064Z"
   },
   {
    "duration": 109,
    "start_time": "2022-04-06T08:21:07.746Z"
   },
   {
    "duration": 8,
    "start_time": "2022-04-06T08:21:15.287Z"
   },
   {
    "duration": 7,
    "start_time": "2022-04-06T08:21:21.809Z"
   },
   {
    "duration": 36,
    "start_time": "2022-04-06T08:21:31.192Z"
   },
   {
    "duration": 7,
    "start_time": "2022-04-06T08:21:35.852Z"
   },
   {
    "duration": 34,
    "start_time": "2022-04-06T08:21:54.569Z"
   },
   {
    "duration": 35,
    "start_time": "2022-04-06T08:22:01.158Z"
   },
   {
    "duration": 8,
    "start_time": "2022-04-06T08:22:31.869Z"
   },
   {
    "duration": 33,
    "start_time": "2022-04-06T08:22:51.692Z"
   },
   {
    "duration": 35,
    "start_time": "2022-04-06T08:22:57.176Z"
   },
   {
    "duration": 7,
    "start_time": "2022-04-06T08:23:10.386Z"
   },
   {
    "duration": 10,
    "start_time": "2022-04-06T08:24:39.800Z"
   },
   {
    "duration": 7,
    "start_time": "2022-04-06T08:25:21.521Z"
   },
   {
    "duration": 7,
    "start_time": "2022-04-06T08:29:25.606Z"
   },
   {
    "duration": 8,
    "start_time": "2022-04-06T08:29:26.762Z"
   },
   {
    "duration": 4,
    "start_time": "2022-04-06T08:32:38.235Z"
   },
   {
    "duration": 4,
    "start_time": "2022-04-06T08:32:50.125Z"
   },
   {
    "duration": 3,
    "start_time": "2022-04-06T08:33:04.848Z"
   },
   {
    "duration": 11,
    "start_time": "2022-04-06T08:33:28.914Z"
   },
   {
    "duration": 3,
    "start_time": "2022-04-06T08:33:41.923Z"
   },
   {
    "duration": 9,
    "start_time": "2022-04-06T08:34:53.120Z"
   },
   {
    "duration": 3,
    "start_time": "2022-04-06T08:34:56.115Z"
   },
   {
    "duration": 5,
    "start_time": "2022-04-06T08:34:56.442Z"
   },
   {
    "duration": 5,
    "start_time": "2022-04-06T08:35:54.799Z"
   },
   {
    "duration": 5,
    "start_time": "2022-04-06T08:36:19.369Z"
   },
   {
    "duration": 5,
    "start_time": "2022-04-06T08:36:39.517Z"
   },
   {
    "duration": 113,
    "start_time": "2022-04-06T08:38:23.012Z"
   }
  ],
  "kernelspec": {
   "display_name": "Python 3 (ipykernel)",
   "language": "python",
   "name": "python3"
  },
  "language_info": {
   "codemirror_mode": {
    "name": "ipython",
    "version": 3
   },
   "file_extension": ".py",
   "mimetype": "text/x-python",
   "name": "python",
   "nbconvert_exporter": "python",
   "pygments_lexer": "ipython3",
   "version": "3.9.5"
  },
  "toc": {
   "base_numbering": 1,
   "nav_menu": {},
   "number_sections": true,
   "sideBar": true,
   "skip_h1_title": true,
   "title_cell": "Table of Contents",
   "title_sidebar": "Contents",
   "toc_cell": false,
   "toc_position": {},
   "toc_section_display": true,
   "toc_window_display": false
  }
 },
 "nbformat": 4,
 "nbformat_minor": 4
}
