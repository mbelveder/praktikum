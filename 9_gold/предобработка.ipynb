{
 "cells": [
  {
   "cell_type": "code",
   "execution_count": 1,
   "metadata": {},
   "outputs": [],
   "source": [
    "import pandas as pd\n",
    "from sklearn.metrics import make_scorer\n",
    "import pandas as pd\n",
    "import numpy as np\n",
    "import seaborn as sns\n",
    "import matplotlib.pyplot as plt\n",
    "from sklearn.metrics import make_scorer\n",
    "from sklearn.tree import DecisionTreeRegressor\n",
    "from sklearn.model_selection import GridSearchCV\n"
   ]
  },
  {
   "cell_type": "code",
   "execution_count": 2,
   "metadata": {},
   "outputs": [],
   "source": [
    "data_train = pd.read_csv('https://code.s3.yandex.net/datasets/gold_recovery_train_new.csv', index_col='date',parse_dates=True)\n",
    "data_test = pd.read_csv('https://code.s3.yandex.net/datasets/gold_recovery_test_new.csv', index_col='date',parse_dates=True)\n",
    "data_full = pd.read_csv('https://code.s3.yandex.net/datasets/gold_recovery_full_new.csv', index_col='date',parse_dates=True)"
   ]
  },
  {
   "cell_type": "code",
   "execution_count": 3,
   "metadata": {},
   "outputs": [
    {
     "data": {
      "text/plain": [
       "{'final.output.concentrate_ag',\n",
       " 'final.output.concentrate_au',\n",
       " 'final.output.concentrate_pb',\n",
       " 'final.output.concentrate_sol',\n",
       " 'final.output.recovery',\n",
       " 'final.output.tail_ag',\n",
       " 'final.output.tail_au',\n",
       " 'final.output.tail_pb',\n",
       " 'final.output.tail_sol',\n",
       " 'primary_cleaner.output.concentrate_ag',\n",
       " 'primary_cleaner.output.concentrate_au',\n",
       " 'primary_cleaner.output.concentrate_pb',\n",
       " 'primary_cleaner.output.concentrate_sol',\n",
       " 'primary_cleaner.output.tail_ag',\n",
       " 'primary_cleaner.output.tail_au',\n",
       " 'primary_cleaner.output.tail_pb',\n",
       " 'primary_cleaner.output.tail_sol',\n",
       " 'rougher.calculation.au_pb_ratio',\n",
       " 'rougher.calculation.floatbank10_sulfate_to_au_feed',\n",
       " 'rougher.calculation.floatbank11_sulfate_to_au_feed',\n",
       " 'rougher.calculation.sulfate_to_au_concentrate',\n",
       " 'rougher.output.concentrate_ag',\n",
       " 'rougher.output.concentrate_au',\n",
       " 'rougher.output.concentrate_pb',\n",
       " 'rougher.output.concentrate_sol',\n",
       " 'rougher.output.recovery',\n",
       " 'rougher.output.tail_ag',\n",
       " 'rougher.output.tail_au',\n",
       " 'rougher.output.tail_pb',\n",
       " 'rougher.output.tail_sol',\n",
       " 'secondary_cleaner.output.tail_ag',\n",
       " 'secondary_cleaner.output.tail_au',\n",
       " 'secondary_cleaner.output.tail_pb',\n",
       " 'secondary_cleaner.output.tail_sol'}"
      ]
     },
     "execution_count": 3,
     "metadata": {},
     "output_type": "execute_result"
    }
   ],
   "source": [
    "missed_test_columns = set(list(data_train.columns.values))-set(list(data_test.columns.values))\n",
    "missed_test_columns"
   ]
  },
  {
   "cell_type": "code",
   "execution_count": 4,
   "metadata": {},
   "outputs": [],
   "source": [
    "data_train = data_train.fillna(method='ffill')\n",
    "data_test = data_test.fillna(method='ffill')\n",
    "data_full = data_full.fillna(method='ffill')"
   ]
  },
  {
   "cell_type": "code",
   "execution_count": 5,
   "metadata": {},
   "outputs": [],
   "source": [
    "data_full_merged = data_full[[\"rougher.output.recovery\", \"final.output.recovery\", \"rougher.output.concentrate_au\", \"rougher.output.concentrate_ag\", \"rougher.output.concentrate_pb\", \"rougher.output.concentrate_sol\", \"final.output.concentrate_au\", \"final.output.concentrate_ag\", \"final.output.concentrate_pb\", \"final.output.concentrate_sol\"]]\n",
    "data_test = data_test.merge(data_full_merged, on=\"date\", how=\"left\")"
   ]
  },
  {
   "cell_type": "code",
   "execution_count": 6,
   "metadata": {},
   "outputs": [],
   "source": [
    "def calculate_smape(target_actual, target_predictions):\n",
    "    numerator = np.abs(target_actual - target_predictions)\n",
    "    denominator = (np.abs(target_actual) + np.abs(target_predictions)) / 2 \n",
    "    return 1 / len(target_actual) * np.sum(numerator / denominator) * 100 \n",
    "  \n",
    "def calculate_final_smape(target_actual, target_predictions):\n",
    "    target_actual_rougher = target_actual['rougher.output.recovery']\n",
    "    target_actual_final = target_actual['final.output.recovery']\n",
    "    target_predictions_rougher = target_predictions[:, 0]\n",
    "    target_predictions_final = target_predictions[:, 1]\n",
    "    return 0.25 * calculate_smape(target_actual_rougher, target_predictions_rougher) + 0.75 * calculate_smape(target_actual_rougher, target_predictions_rougher)\n",
    "\n",
    "smape_scorer = make_scorer(calculate_final_smape, greater_is_better=False)\n"
   ]
  },
  {
   "cell_type": "code",
   "execution_count": 7,
   "metadata": {},
   "outputs": [
    {
     "data": {
      "text/plain": [
       "(5290, 62)"
      ]
     },
     "metadata": {},
     "output_type": "display_data"
    },
    {
     "data": {
      "text/plain": [
       "(14149, 86)"
      ]
     },
     "metadata": {},
     "output_type": "display_data"
    },
    {
     "name": "stderr",
     "output_type": "stream",
     "text": [
      "/var/folders/nc/53ydtkz56jj83586jxv6mvlm0000gn/T/ipykernel_56354/250994860.py:31: UserWarning: Boolean Series key will be reindexed to match DataFrame index.\n",
      "  data_test = data_test[data_full[features_final_concentrate].sum(1) > 0]\n"
     ]
    },
    {
     "data": {
      "text/plain": [
       "(5154, 62)"
      ]
     },
     "metadata": {},
     "output_type": "display_data"
    },
    {
     "data": {
      "text/plain": [
       "(13795, 86)"
      ]
     },
     "metadata": {},
     "output_type": "display_data"
    }
   ],
   "source": [
    "features_rough_concentrate = [\n",
    "    'rougher.output.concentrate_au',\n",
    "    'rougher.output.concentrate_ag',\n",
    "    'rougher.output.concentrate_pb',\n",
    "    'rougher.output.concentrate_sol',\n",
    "]\n",
    "\n",
    "features_input_concentrate = [\n",
    "    'rougher.input.feed_au',\n",
    "    'rougher.input.feed_ag',\n",
    "    'rougher.input.feed_pb',\n",
    "    'rougher.input.feed_sol',\n",
    "]\n",
    "features_final_concentrate = [\n",
    "    'final.output.concentrate_au',\n",
    "    'final.output.concentrate_ag',\n",
    "    'final.output.concentrate_pb',\n",
    "    'final.output.concentrate_sol',\n",
    "]\n",
    "\n",
    "display(data_test.shape)\n",
    "display(data_train.shape)\n",
    "\n",
    "data_train = data_train[data_train[features_input_concentrate].sum(1) > 0]\n",
    "data_train = data_train[data_train[features_rough_concentrate].sum(1) > 0]\n",
    "data_train = data_train[data_train[features_final_concentrate].sum(1) > 0]\n",
    "\n",
    "data_full = data_full.loc[data_test.index]\n",
    "data_test = data_test[data_full[features_input_concentrate].sum(1) > 0]\n",
    "data_test = data_test[data_full[features_rough_concentrate].sum(1) > 0]\n",
    "data_test = data_test[data_full[features_final_concentrate].sum(1) > 0]\n",
    "display(data_test.shape)\n",
    "display(data_train.shape)"
   ]
  },
  {
   "cell_type": "code",
   "execution_count": 8,
   "metadata": {},
   "outputs": [],
   "source": [
    "features_train = data_train.drop(columns=[\"rougher.output.recovery\", \"final.output.recovery\"], axis=1)\n",
    "target_train = data_train[[\"rougher.output.recovery\", \"final.output.recovery\"]]\n",
    "\n",
    "features_test = data_test.drop(columns=[\"rougher.output.recovery\", \"final.output.recovery\"], axis=1)\n",
    "target_test = data_test[[\"rougher.output.recovery\", \"final.output.recovery\"]]"
   ]
  },
  {
   "cell_type": "code",
   "execution_count": 9,
   "metadata": {},
   "outputs": [
    {
     "name": "stdout",
     "output_type": "stream",
     "text": [
      "Лучшее значение smape для дерева решений: 5.8711978698020015 при значениях гиперпараметров: {'max_depth': 2}\n"
     ]
    }
   ],
   "source": [
    "param_grid = {'max_depth': range(2, 3)}\n",
    "model = DecisionTreeRegressor(random_state=12345)\n",
    "search = GridSearchCV(model, param_grid, cv=5, scoring=smape_scorer)\n",
    "search.fit(features_train, target_train)\n",
    "print('Лучшее значение smape для дерева решений: {} при значениях гиперпараметров: {}'.format(-search.best_score_, search.best_params_))\n",
    "best_dtr = -search.best_score_"
   ]
  },
  {
   "cell_type": "code",
   "execution_count": null,
   "metadata": {},
   "outputs": [],
   "source": []
  }
 ],
 "metadata": {
  "kernelspec": {
   "display_name": "Python 3 (ipykernel)",
   "language": "python",
   "name": "python3"
  },
  "language_info": {
   "codemirror_mode": {
    "name": "ipython",
    "version": 3
   },
   "file_extension": ".py",
   "mimetype": "text/x-python",
   "name": "python",
   "nbconvert_exporter": "python",
   "pygments_lexer": "ipython3",
   "version": "3.8.13"
  },
  "toc": {
   "base_numbering": 1,
   "nav_menu": {},
   "number_sections": true,
   "sideBar": true,
   "skip_h1_title": false,
   "title_cell": "Table of Contents",
   "title_sidebar": "Contents",
   "toc_cell": false,
   "toc_position": {},
   "toc_section_display": true,
   "toc_window_display": false
  }
 },
 "nbformat": 4,
 "nbformat_minor": 4
}
