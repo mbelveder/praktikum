{
 "cells": [
  {
   "cell_type": "markdown",
   "metadata": {
    "toc": true
   },
   "source": [
    "<h1>Содержание<span class=\"tocSkip\"></span></h1>\n",
    "<div class=\"toc\"><ul class=\"toc-item\"><li><span><a href=\"#Подготовка-данных\" data-toc-modified-id=\"Подготовка-данных-1\"><span class=\"toc-item-num\">1&nbsp;&nbsp;</span>Подготовка данных</a></span></li><li><span><a href=\"#Исследование-задачи\" data-toc-modified-id=\"Исследование-задачи-2\"><span class=\"toc-item-num\">2&nbsp;&nbsp;</span>Исследование задачи</a></span></li><li><span><a href=\"#Борьба-с-дисбалансом\" data-toc-modified-id=\"Борьба-с-дисбалансом-3\"><span class=\"toc-item-num\">3&nbsp;&nbsp;</span>Борьба с дисбалансом</a></span></li><li><span><a href=\"#Тестирование-модели\" data-toc-modified-id=\"Тестирование-модели-4\"><span class=\"toc-item-num\">4&nbsp;&nbsp;</span>Тестирование модели</a></span></li><li><span><a href=\"#Чек-лист-готовности-проекта\" data-toc-modified-id=\"Чек-лист-готовности-проекта-5\"><span class=\"toc-item-num\">5&nbsp;&nbsp;</span>Чек-лист готовности проекта</a></span></li></ul></div>"
   ]
  },
  {
   "cell_type": "markdown",
   "metadata": {},
   "source": [
    "# Отток клиентов"
   ]
  },
  {
   "cell_type": "markdown",
   "metadata": {},
   "source": [
    "Из «Бета-Банка» стали уходить клиенты. Каждый месяц. Немного, но заметно. Банковские маркетологи посчитали: сохранять текущих клиентов дешевле, чем привлекать новых.\n",
    "\n",
    "Нужно спрогнозировать, уйдёт клиент из банка в ближайшее время или нет. Вам предоставлены исторические данные о поведении клиентов и расторжении договоров с банком. \n",
    "\n",
    "Постройте модель с предельно большим значением *F1*-меры. Чтобы сдать проект успешно, нужно довести метрику до 0.59. Проверьте *F1*-меру на тестовой выборке самостоятельно.\n",
    "\n",
    "Дополнительно измеряйте *AUC-ROC*, сравнивайте её значение с *F1*-мерой.\n",
    "\n",
    "Источник данных: [https://www.kaggle.com/barelydedicated/bank-customer-churn-modeling](https://www.kaggle.com/barelydedicated/bank-customer-churn-modeling)"
   ]
  },
  {
   "cell_type": "markdown",
   "metadata": {},
   "source": [
    "## Подготовка данных"
   ]
  },
  {
   "cell_type": "code",
   "execution_count": 1,
   "metadata": {},
   "outputs": [],
   "source": [
    "import os\n",
    "\n",
    "import numpy as np\n",
    "\n",
    "import pandas as pd\n",
    "import matplotlib.pyplot as plt\n",
    "plt.rcParams['figure.figsize'] = (10, 6)\n",
    "\n",
    "import seaborn as sns\n",
    "sns.set_context('notebook', font_scale=1.5)\n",
    "sns.set_style('darkgrid', rc={'ytick.left':True, 'ytick.direction':'in',\n",
    "                              'xtick.bottom':True, 'xtick.direction':'in'})"
   ]
  },
  {
   "cell_type": "code",
   "execution_count": 81,
   "metadata": {},
   "outputs": [],
   "source": [
    "from sklearn.tree import DecisionTreeClassifier\n",
    "from sklearn.ensemble import RandomForestClassifier\n",
    "from sklearn.linear_model import LogisticRegression\n",
    "\n",
    "from sklearn.metrics import f1_score\n",
    "from sklearn.model_selection import train_test_split\n",
    "from sklearn.utils import shuffle\n",
    "\n",
    "from sklearn.preprocessing import StandardScaler\n",
    "\n",
    "# import pandas_profiling"
   ]
  },
  {
   "cell_type": "markdown",
   "metadata": {},
   "source": [
    "## Исследование задачи"
   ]
  },
  {
   "cell_type": "code",
   "execution_count": 18,
   "metadata": {},
   "outputs": [],
   "source": [
    "pth1 = '/datasets/Churn.csv'\n",
    "pth2 = 'Churn.csv'\n",
    "\n",
    "if os.path.exists(pth1):\n",
    "    df = pd.read_csv(pth1)\n",
    "elif os.path.exists(pth2):\n",
    "    df = pd.read_csv(pth2)\n",
    "else:\n",
    "    print('Check the file path')"
   ]
  },
  {
   "cell_type": "code",
   "execution_count": 19,
   "metadata": {},
   "outputs": [
    {
     "data": {
      "text/html": [
       "<div>\n",
       "<style scoped>\n",
       "    .dataframe tbody tr th:only-of-type {\n",
       "        vertical-align: middle;\n",
       "    }\n",
       "\n",
       "    .dataframe tbody tr th {\n",
       "        vertical-align: top;\n",
       "    }\n",
       "\n",
       "    .dataframe thead th {\n",
       "        text-align: right;\n",
       "    }\n",
       "</style>\n",
       "<table border=\"1\" class=\"dataframe\">\n",
       "  <thead>\n",
       "    <tr style=\"text-align: right;\">\n",
       "      <th></th>\n",
       "      <th>RowNumber</th>\n",
       "      <th>CustomerId</th>\n",
       "      <th>Surname</th>\n",
       "      <th>CreditScore</th>\n",
       "      <th>Geography</th>\n",
       "      <th>Gender</th>\n",
       "      <th>Age</th>\n",
       "      <th>Tenure</th>\n",
       "      <th>Balance</th>\n",
       "      <th>NumOfProducts</th>\n",
       "      <th>HasCrCard</th>\n",
       "      <th>IsActiveMember</th>\n",
       "      <th>EstimatedSalary</th>\n",
       "      <th>Exited</th>\n",
       "    </tr>\n",
       "  </thead>\n",
       "  <tbody>\n",
       "    <tr>\n",
       "      <th>0</th>\n",
       "      <td>1</td>\n",
       "      <td>15634602</td>\n",
       "      <td>Hargrave</td>\n",
       "      <td>619</td>\n",
       "      <td>France</td>\n",
       "      <td>Female</td>\n",
       "      <td>42</td>\n",
       "      <td>2.0</td>\n",
       "      <td>0.00</td>\n",
       "      <td>1</td>\n",
       "      <td>1</td>\n",
       "      <td>1</td>\n",
       "      <td>101348.88</td>\n",
       "      <td>1</td>\n",
       "    </tr>\n",
       "    <tr>\n",
       "      <th>1</th>\n",
       "      <td>2</td>\n",
       "      <td>15647311</td>\n",
       "      <td>Hill</td>\n",
       "      <td>608</td>\n",
       "      <td>Spain</td>\n",
       "      <td>Female</td>\n",
       "      <td>41</td>\n",
       "      <td>1.0</td>\n",
       "      <td>83807.86</td>\n",
       "      <td>1</td>\n",
       "      <td>0</td>\n",
       "      <td>1</td>\n",
       "      <td>112542.58</td>\n",
       "      <td>0</td>\n",
       "    </tr>\n",
       "    <tr>\n",
       "      <th>2</th>\n",
       "      <td>3</td>\n",
       "      <td>15619304</td>\n",
       "      <td>Onio</td>\n",
       "      <td>502</td>\n",
       "      <td>France</td>\n",
       "      <td>Female</td>\n",
       "      <td>42</td>\n",
       "      <td>8.0</td>\n",
       "      <td>159660.80</td>\n",
       "      <td>3</td>\n",
       "      <td>1</td>\n",
       "      <td>0</td>\n",
       "      <td>113931.57</td>\n",
       "      <td>1</td>\n",
       "    </tr>\n",
       "    <tr>\n",
       "      <th>3</th>\n",
       "      <td>4</td>\n",
       "      <td>15701354</td>\n",
       "      <td>Boni</td>\n",
       "      <td>699</td>\n",
       "      <td>France</td>\n",
       "      <td>Female</td>\n",
       "      <td>39</td>\n",
       "      <td>1.0</td>\n",
       "      <td>0.00</td>\n",
       "      <td>2</td>\n",
       "      <td>0</td>\n",
       "      <td>0</td>\n",
       "      <td>93826.63</td>\n",
       "      <td>0</td>\n",
       "    </tr>\n",
       "    <tr>\n",
       "      <th>4</th>\n",
       "      <td>5</td>\n",
       "      <td>15737888</td>\n",
       "      <td>Mitchell</td>\n",
       "      <td>850</td>\n",
       "      <td>Spain</td>\n",
       "      <td>Female</td>\n",
       "      <td>43</td>\n",
       "      <td>2.0</td>\n",
       "      <td>125510.82</td>\n",
       "      <td>1</td>\n",
       "      <td>1</td>\n",
       "      <td>1</td>\n",
       "      <td>79084.10</td>\n",
       "      <td>0</td>\n",
       "    </tr>\n",
       "  </tbody>\n",
       "</table>\n",
       "</div>"
      ],
      "text/plain": [
       "   RowNumber  CustomerId   Surname  CreditScore Geography  Gender  Age  \\\n",
       "0          1    15634602  Hargrave          619    France  Female   42   \n",
       "1          2    15647311      Hill          608     Spain  Female   41   \n",
       "2          3    15619304      Onio          502    France  Female   42   \n",
       "3          4    15701354      Boni          699    France  Female   39   \n",
       "4          5    15737888  Mitchell          850     Spain  Female   43   \n",
       "\n",
       "   Tenure    Balance  NumOfProducts  HasCrCard  IsActiveMember  \\\n",
       "0     2.0       0.00              1          1               1   \n",
       "1     1.0   83807.86              1          0               1   \n",
       "2     8.0  159660.80              3          1               0   \n",
       "3     1.0       0.00              2          0               0   \n",
       "4     2.0  125510.82              1          1               1   \n",
       "\n",
       "   EstimatedSalary  Exited  \n",
       "0        101348.88       1  \n",
       "1        112542.58       0  \n",
       "2        113931.57       1  \n",
       "3         93826.63       0  \n",
       "4         79084.10       0  "
      ]
     },
     "execution_count": 19,
     "metadata": {},
     "output_type": "execute_result"
    }
   ],
   "source": [
    "df.head()"
   ]
  },
  {
   "cell_type": "code",
   "execution_count": 20,
   "metadata": {},
   "outputs": [
    {
     "data": {
      "text/plain": [
       "(10000, 14)"
      ]
     },
     "execution_count": 20,
     "metadata": {},
     "output_type": "execute_result"
    }
   ],
   "source": [
    "df.shape"
   ]
  },
  {
   "cell_type": "markdown",
   "metadata": {},
   "source": [
    "#### Признаки\n",
    "- `RowNumber` — индекс строки в данных\n",
    "- `CustomerId` — уникальный идентификатор клиента\n",
    "- `Surname` — фамилия\n",
    "- `CreditScore` — кредитный рейтинг\n",
    "- `Geography` — страна проживания\n",
    "- `Gender` — пол\n",
    "- `Age` — возраст\n",
    "- `Tenure` — сколько лет человек является клиентом банка\n",
    "- `Balance` — баланс на счёте\n",
    "- `NumOfProducts` — количество продуктов банка, используемых клиентом\n",
    "- `HasCrCard` — наличие кредитной карты\n",
    "- `IsActiveMember` — активность клиента\n",
    "- `EstimatedSalary` — предполагаемая зарплата\n",
    "\n",
    "#### Целевой признак\n",
    "- `Exited` — факт ухода клиента"
   ]
  },
  {
   "cell_type": "code",
   "execution_count": 21,
   "metadata": {},
   "outputs": [
    {
     "name": "stdout",
     "output_type": "stream",
     "text": [
      "<class 'pandas.core.frame.DataFrame'>\n",
      "RangeIndex: 10000 entries, 0 to 9999\n",
      "Data columns (total 14 columns):\n",
      " #   Column           Non-Null Count  Dtype  \n",
      "---  ------           --------------  -----  \n",
      " 0   RowNumber        10000 non-null  int64  \n",
      " 1   CustomerId       10000 non-null  int64  \n",
      " 2   Surname          10000 non-null  object \n",
      " 3   CreditScore      10000 non-null  int64  \n",
      " 4   Geography        10000 non-null  object \n",
      " 5   Gender           10000 non-null  object \n",
      " 6   Age              10000 non-null  int64  \n",
      " 7   Tenure           9091 non-null   float64\n",
      " 8   Balance          10000 non-null  float64\n",
      " 9   NumOfProducts    10000 non-null  int64  \n",
      " 10  HasCrCard        10000 non-null  int64  \n",
      " 11  IsActiveMember   10000 non-null  int64  \n",
      " 12  EstimatedSalary  10000 non-null  float64\n",
      " 13  Exited           10000 non-null  int64  \n",
      "dtypes: float64(3), int64(8), object(3)\n",
      "memory usage: 1.1+ MB\n"
     ]
    }
   ],
   "source": [
    "df.info()"
   ]
  },
  {
   "cell_type": "code",
   "execution_count": 75,
   "metadata": {},
   "outputs": [
    {
     "data": {
      "text/html": [
       "<div>\n",
       "<style scoped>\n",
       "    .dataframe tbody tr th:only-of-type {\n",
       "        vertical-align: middle;\n",
       "    }\n",
       "\n",
       "    .dataframe tbody tr th {\n",
       "        vertical-align: top;\n",
       "    }\n",
       "\n",
       "    .dataframe thead th {\n",
       "        text-align: right;\n",
       "    }\n",
       "</style>\n",
       "<table border=\"1\" class=\"dataframe\">\n",
       "  <thead>\n",
       "    <tr style=\"text-align: right;\">\n",
       "      <th></th>\n",
       "      <th>RowNumber</th>\n",
       "      <th>CustomerId</th>\n",
       "      <th>Surname</th>\n",
       "      <th>CreditScore</th>\n",
       "      <th>Geography</th>\n",
       "      <th>Gender</th>\n",
       "      <th>Age</th>\n",
       "      <th>Tenure</th>\n",
       "      <th>Balance</th>\n",
       "      <th>NumOfProducts</th>\n",
       "      <th>HasCrCard</th>\n",
       "      <th>IsActiveMember</th>\n",
       "      <th>EstimatedSalary</th>\n",
       "      <th>Exited</th>\n",
       "    </tr>\n",
       "  </thead>\n",
       "  <tbody>\n",
       "  </tbody>\n",
       "</table>\n",
       "</div>"
      ],
      "text/plain": [
       "Empty DataFrame\n",
       "Columns: [RowNumber, CustomerId, Surname, CreditScore, Geography, Gender, Age, Tenure, Balance, NumOfProducts, HasCrCard, IsActiveMember, EstimatedSalary, Exited]\n",
       "Index: []"
      ]
     },
     "execution_count": 75,
     "metadata": {},
     "output_type": "execute_result"
    }
   ],
   "source": [
    "df[df['Tenure'].isna()]"
   ]
  },
  {
   "cell_type": "code",
   "execution_count": 23,
   "metadata": {},
   "outputs": [
    {
     "data": {
      "text/plain": [
       "0"
      ]
     },
     "execution_count": 23,
     "metadata": {},
     "output_type": "execute_result"
    }
   ],
   "source": [
    "df.duplicated().sum()"
   ]
  },
  {
   "cell_type": "markdown",
   "metadata": {},
   "source": [
    "- Содержание таблицы соответствует описанию, пропуски есть в колонке `Tenure`, дубликаты отсутствуют"
   ]
  },
  {
   "cell_type": "markdown",
   "metadata": {},
   "source": [
    "### Предобработка\n",
    "#### Заполнение пропусков, масштабирование, кодирование, разделение "
   ]
  },
  {
   "cell_type": "markdown",
   "metadata": {},
   "source": [
    "<div class=\"alert alert-info\">\n",
    "<b> Комментарий студента</b>\n",
    "    \n",
    "Я произвожу масштабирование на всех доступных данных, до разделения исходной выборки на несколько частей. В общем случае это плохая практика: тренды в данных могут \"замылиться\" и поэтому обучать `scaler` нужно на тренировочной выборке, а на тестовой только применять. Однако, в текущей задаче у нас нет информации о динамике (нет временных отметок), поэтому масштабирование можно производить сразу на всех данных.\n",
    "\n",
    "Это корректный подход?\n",
    "</div>"
   ]
  },
  {
   "cell_type": "code",
   "execution_count": 59,
   "metadata": {},
   "outputs": [],
   "source": [
    "# Fill the missing values with the median\n",
    "df['Tenure'] = df['Tenure'].fillna(df['Tenure'].median())\n",
    "\n",
    "# Target variable\n",
    "target = df['Exited']\n",
    "\n",
    "# Exclude not only the target but also row and customer ID columns\n",
    "# as they are not needed for the model\n",
    "features = df.drop(['Exited', 'RowNumber', 'CustomerId', 'Surname'], axis=1)\n",
    "\n",
    "# Scaling numerical features\n",
    "numeric_columns = features.select_dtypes(include=['int64', 'float64']).columns\n",
    "\n",
    "scaler = StandardScaler()\n",
    "features[numeric_columns] = scaler.fit_transform(features[numeric_columns])\n",
    "\n",
    "# Avoiding the dummy variable trap\n",
    "features_ohe = pd.get_dummies(features, drop_first=True)\n",
    "\n",
    "# Split the initial sample (60% for training, 40% for testing and validation)\n",
    "features_train, features_valid, target_train, target_valid = train_test_split(\n",
    "    features_ohe, target, test_size=.4, random_state=42\n",
    ")\n",
    "\n",
    "# Split the validation sample (50% for validation, 50% for testing)\n",
    "features_valid, features_test, target_valid, target_test = train_test_split(\n",
    "    features_valid, target_valid, test_size=.5, random_state=42\n",
    ")"
   ]
  },
  {
   "cell_type": "code",
   "execution_count": 60,
   "metadata": {},
   "outputs": [
    {
     "name": "stdout",
     "output_type": "stream",
     "text": [
      "Обучающая выборка содержит 60% исходных данных\n",
      "Валидационная выборка содержит 20% исходных данных\n",
      "Тестовая выборка содержит 20% исходных данных\n"
     ]
    }
   ],
   "source": [
    "# Test the split\n",
    "print(f'Обучающая выборка содержит {len(features_train) / len(df):.0%} исходных данных')\n",
    "print(f'Валидационная выборка содержит {len(features_valid) / len(df):.0%} исходных данных')\n",
    "print(f'Тестовая выборка содержит {len(features_test) / len(df):.0%} исходных данных')"
   ]
  },
  {
   "cell_type": "markdown",
   "metadata": {},
   "source": [
    "#### Обучение без учета дисбаланса"
   ]
  },
  {
   "cell_type": "markdown",
   "metadata": {},
   "source": [
    "##### _Решающее дерево_"
   ]
  },
  {
   "cell_type": "markdown",
   "metadata": {},
   "source": [
    "_Решающее дерево_"
   ]
  },
  {
   "cell_type": "code",
   "execution_count": 93,
   "metadata": {},
   "outputs": [
    {
     "name": "stdout",
     "output_type": "stream",
     "text": [
      "decision tree f1 score\n",
      "\n",
      "train | valid |  depth\n",
      "-----------------------\n",
      " 51%  |  47%  |  2\n",
      " 54%  |  50%  |  3\n",
      " 51%  |  47%  |  4\n",
      " 58%  |  51%  |  5\n",
      " 61%  |  52%  |  6\n",
      " 65%  |  51%  |  7\n",
      " 68%  |  52%  |  8\n",
      " 71%  |  51%  |  9\n",
      " 75%  |  49%  |  10\n",
      " 80%  |  49%  |  11\n",
      " 84%  |  45%  |  12\n",
      " 88%  |  46%  |  13\n",
      " 91%  |  45%  |  14\n",
      " 94%  |  45%  |  15\n",
      " 96%  |  46%  |  16\n",
      " 98%  |  45%  |  17\n",
      " 98%  |  45%  |  18\n",
      " 99%  |  45%  |  19\n",
      "\n",
      "**********\n",
      "best dt valid accuracy: 52%, best depth: 6\n",
      "**********\n"
     ]
    }
   ],
   "source": [
    "best_dt_model = None\n",
    "best_dt_score = 0\n",
    "\n",
    "print('decision tree f1 score')\n",
    "print()\n",
    "print('train | valid |  depth')\n",
    "print('-----------------------')\n",
    "for depth in range(2, 20):\n",
    "\n",
    "    # Create a decision tree model\n",
    "    model_dt = DecisionTreeClassifier(max_depth=depth, random_state=42)\n",
    "    model_dt.fit(features_train, target_train)\n",
    "    predictions_valid_dt = model_dt.predict(features_valid)\n",
    "    predictions_train_dt = model_dt.predict(features_train)\n",
    "\n",
    "    # Calculate the f1 score\n",
    "    f1_valid_dt = f1_score(target_valid, predictions_valid_dt)\n",
    "    f1_train_dt = f1_score(target_train, predictions_train_dt)\n",
    "    print(f' {f1_train_dt:.0%}  |  {f1_valid_dt:.0%}  |  {depth}')\n",
    "\n",
    "    if f1_valid_dt > best_dt_score:\n",
    "        best_dt_model = model_dt\n",
    "        best_dt_score = f1_valid_dt\n",
    "        best_depth = depth\n",
    "\n",
    "print()\n",
    "print('*' * 10)\n",
    "print(f'best dt valid accuracy: {best_dt_score:.0%}, best depth: {best_depth}')\n",
    "print('*' * 10)"
   ]
  },
  {
   "cell_type": "markdown",
   "metadata": {},
   "source": [
    "##### _Случайный лес_"
   ]
  },
  {
   "cell_type": "code",
   "execution_count": 102,
   "metadata": {},
   "outputs": [
    {
     "name": "stdout",
     "output_type": "stream",
     "text": [
      "random forest score\n",
      "\n",
      "train | valid | n est\n",
      "-----------------------\n",
      " 82%  |  46%  |  1\n",
      " 80%  |  41%  |  2\n",
      " 92%  |  45%  |  3\n",
      " 90%  |  46%  |  4\n",
      " 95%  |  49%  |  5\n",
      " 93%  |  48%  |  6\n",
      " 97%  |  51%  |  7\n",
      " 95%  |  50%  |  8\n",
      " 97%  |  53%  |  9\n",
      " 96%  |  52%  |  10\n",
      " 98%  |  53%  |  11\n",
      " 97%  |  53%  |  12\n",
      " 98%  |  55%  |  13\n",
      " 98%  |  54%  |  14\n",
      " 99%  |  54%  |  15\n",
      " 98%  |  53%  |  16\n",
      " 99%  |  55%  |  17\n",
      " 99%  |  53%  |  18\n",
      " 99%  |  54%  |  19\n",
      " 98%  |  53%  |  20\n",
      " 99%  |  54%  |  21\n",
      " 99%  |  54%  |  22\n",
      " 99%  |  55%  |  23\n",
      " 99%  |  55%  |  24\n",
      " 99%  |  55%  |  25\n",
      " 99%  |  55%  |  26\n",
      " 99%  |  55%  |  27\n",
      " 99%  |  55%  |  28\n",
      " 99%  |  54%  |  29\n",
      " 99%  |  54%  |  30\n",
      " 100%  |  55%  |  31\n",
      " 99%  |  54%  |  32\n",
      " 100%  |  55%  |  33\n",
      " 99%  |  55%  |  34\n",
      " 100%  |  55%  |  35\n",
      " 100%  |  54%  |  36\n",
      " 100%  |  55%  |  37\n",
      " 100%  |  55%  |  38\n",
      " 100%  |  55%  |  39\n",
      " 100%  |  54%  |  40\n",
      " 100%  |  55%  |  41\n",
      " 100%  |  54%  |  42\n",
      " 100%  |  54%  |  43\n",
      " 100%  |  54%  |  44\n",
      " 100%  |  55%  |  45\n",
      " 100%  |  55%  |  46\n",
      " 100%  |  55%  |  47\n",
      " 100%  |  55%  |  48\n",
      " 100%  |  55%  |  49\n",
      " 100%  |  55%  |  50\n",
      " 100%  |  56%  |  51\n",
      " 100%  |  55%  |  52\n",
      " 100%  |  55%  |  53\n",
      " 100%  |  55%  |  54\n",
      " 100%  |  54%  |  55\n",
      " 100%  |  55%  |  56\n",
      " 100%  |  55%  |  57\n",
      " 100%  |  55%  |  58\n",
      " 100%  |  55%  |  59\n",
      " 100%  |  55%  |  60\n",
      " 100%  |  55%  |  61\n",
      " 100%  |  55%  |  62\n",
      " 100%  |  55%  |  63\n",
      " 100%  |  55%  |  64\n",
      " 100%  |  55%  |  65\n",
      " 100%  |  55%  |  66\n",
      " 100%  |  56%  |  67\n",
      " 100%  |  55%  |  68\n",
      " 100%  |  56%  |  69\n",
      " 100%  |  55%  |  70\n",
      " 100%  |  56%  |  71\n",
      " 100%  |  55%  |  72\n",
      " 100%  |  55%  |  73\n",
      " 100%  |  55%  |  74\n",
      " 100%  |  56%  |  75\n",
      " 100%  |  55%  |  76\n",
      " 100%  |  56%  |  77\n",
      " 100%  |  55%  |  78\n",
      " 100%  |  56%  |  79\n",
      " 100%  |  55%  |  80\n",
      " 100%  |  56%  |  81\n",
      " 100%  |  55%  |  82\n",
      " 100%  |  56%  |  83\n",
      " 100%  |  55%  |  84\n",
      " 100%  |  55%  |  85\n",
      " 100%  |  55%  |  86\n",
      " 100%  |  55%  |  87\n",
      " 100%  |  55%  |  88\n",
      " 100%  |  55%  |  89\n",
      " 100%  |  55%  |  90\n",
      " 100%  |  55%  |  91\n",
      " 100%  |  55%  |  92\n",
      " 100%  |  55%  |  93\n",
      " 100%  |  55%  |  94\n",
      " 100%  |  55%  |  95\n",
      " 100%  |  55%  |  96\n",
      " 100%  |  55%  |  97\n",
      " 100%  |  55%  |  98\n",
      " 100%  |  55%  |  99\n",
      " 100%  |  55%  |  100\n",
      "\n",
      "**********\n",
      "best rf valid accuracy: 56%, best n est: 77\n",
      "**********\n"
     ]
    }
   ],
   "source": [
    "best_rf_model = None\n",
    "best_rf_score = 0\n",
    "\n",
    "print('random forest score')\n",
    "print()\n",
    "print('train | valid | n est')\n",
    "print('-----------------------')\n",
    "for est in range(1, 101):\n",
    "\n",
    "    # Create a random forest model\n",
    "    model_rf = RandomForestClassifier(n_estimators=est, random_state=42)\n",
    "    model_rf.fit(features_train, target_train)\n",
    "    predictions_valid_rf = model_rf.predict(features_valid)\n",
    "    predictions_train_rf = model_rf.predict(features_train)\n",
    "\n",
    "    # Calculate the f1 score\n",
    "    f1_valid_rf = f1_score(target_valid, predictions_valid_rf)\n",
    "    f1_train_rf = f1_score(target_train, predictions_train_rf)\n",
    "    print(f' {f1_train_rf:.0%}  |  {f1_valid_rf:.0%}  |  {est}')\n",
    "\n",
    "    if f1_valid_rf > best_rf_score:\n",
    "        best_rf_model = model_rf\n",
    "        best_rf_score = f1_valid_rf\n",
    "        best_n_est = est\n",
    "\n",
    "print()\n",
    "print('*' * 10)\n",
    "print(f'best rf valid accuracy: {best_rf_score:.0%}, best n est: {best_n_est}')\n",
    "print('*' * 10)"
   ]
  },
  {
   "cell_type": "markdown",
   "metadata": {},
   "source": [
    "##### _Логистическая регрессия_"
   ]
  },
  {
   "cell_type": "code",
   "execution_count": 76,
   "metadata": {},
   "outputs": [
    {
     "name": "stdout",
     "output_type": "stream",
     "text": [
      "logistic regression f1 score\n",
      "\n",
      "**********\n",
      "train 32.51%, valid 29.94%\n",
      "**********\n"
     ]
    }
   ],
   "source": [
    "lr_model = LogisticRegression(random_state=42, solver='lbfgs', max_iter=1000)\n",
    "\n",
    "# Train the model\n",
    "lr_model.fit(features_train, target_train)\n",
    "lr_predictions_valid = lr_model.predict(features_valid)\n",
    "lr_predictions_train = lr_model.predict(features_train)\n",
    "\n",
    "# Calculate the f1 score\n",
    "lr_f1_valid = f1_score(target_valid, lr_predictions_valid)\n",
    "lr_f1_train = f1_score(target_train, lr_predictions_train)\n",
    "\n",
    "\n",
    "print('logistic regression f1 score')\n",
    "print()\n",
    "print('*' * 10)\n",
    "print(f'train {lr_f1_train:.2%}, valid {lr_f1_valid:.2%}')\n",
    "print('*' * 10)"
   ]
  },
  {
   "cell_type": "markdown",
   "metadata": {},
   "source": [
    "- Из рассмотренных алгоритмов случайный лес выглядит перспективнее остальных"
   ]
  },
  {
   "cell_type": "markdown",
   "metadata": {},
   "source": [
    "## Борьба с дисбалансом"
   ]
  },
  {
   "cell_type": "code",
   "execution_count": 53,
   "metadata": {},
   "outputs": [
    {
     "data": {
      "image/png": "[encoded data removed]",
      "text/plain": [
       "<Figure size 360x360 with 1 Axes>"
      ]
     },
     "metadata": {},
     "output_type": "display_data"
    }
   ],
   "source": [
    "plt.figure(figsize=(5, 5))\n",
    "\n",
    "target_train.value_counts(normalize=True).plot(kind='bar')\n",
    "\n",
    "plt.ylabel('Доля объектов')\n",
    "plt.xlabel('Целевая переменная')\n",
    "\n",
    "plt.show()"
   ]
  },
  {
   "cell_type": "code",
   "execution_count": 82,
   "metadata": {},
   "outputs": [
    {
     "name": "stdout",
     "output_type": "stream",
     "text": [
      "logistic regression (balanced) f1 score\n",
      "\n",
      "**********\n",
      "train 50.06%, valid 46.14%\n",
      "**********\n"
     ]
    }
   ],
   "source": [
    "# Weightec classes\n",
    "lr_model = LogisticRegression(random_state=42, solver='lbfgs',\n",
    "                              max_iter=1000, class_weight='balanced')\n",
    "\n",
    "# Train the model\n",
    "lr_model.fit(features_train, target_train)\n",
    "lr_predictions_valid = lr_model.predict(features_valid)\n",
    "lr_predictions_train = lr_model.predict(features_train)\n",
    "\n",
    "# Calculate the f1 score\n",
    "lr_f1_valid = f1_score(target_valid, lr_predictions_valid)\n",
    "lr_f1_train = f1_score(target_train, lr_predictions_train)\n",
    "\n",
    "\n",
    "print('logistic regression (balanced) f1 score')\n",
    "print()\n",
    "print('*' * 10)\n",
    "print(f'train {lr_f1_train:.2%}, valid {lr_f1_valid:.2%}')\n",
    "print('*' * 10)"
   ]
  },
  {
   "cell_type": "code",
   "execution_count": 116,
   "metadata": {},
   "outputs": [],
   "source": [
    "def upsample(features, target, repeat):\n",
    "    \n",
    "    features_zeros = features[target == 0]\n",
    "    features_ones = features[target == 1]\n",
    "    target_zeros = target[target == 0]\n",
    "    target_ones = target[target == 1]\n",
    "\n",
    "    features_upsampled = pd.concat([features_zeros] + [features_ones] * repeat)\n",
    "    target_upsampled = pd.concat([target_zeros] + [target_ones] * repeat)\n",
    "    \n",
    "    features_upsampled, target_upsampled = shuffle(\n",
    "        features_upsampled, target_upsampled, random_state=12345)\n",
    "    \n",
    "    return features_upsampled, target_upsampled\n",
    "\n",
    "def downsample(features, target, fraction):\n",
    "    features_zeros = features[target == 0]\n",
    "    features_ones = features[target == 1]\n",
    "    target_zeros = target[target == 0]\n",
    "    target_ones = target[target == 1]\n",
    "\n",
    "    features_downsampled = pd.concat(\n",
    "        [features_zeros.sample(frac=fraction, random_state=12345)] + [features_ones])\n",
    "    target_downsampled = pd.concat(\n",
    "        [target_zeros.sample(frac=fraction, random_state=12345)] + [target_ones])\n",
    "    \n",
    "    features_downsampled, target_downsampled = shuffle(\n",
    "        features_downsampled, target_downsampled, random_state=12345)\n",
    "    \n",
    "    return features_downsampled, target_downsampled"
   ]
  },
  {
   "cell_type": "code",
   "execution_count": 126,
   "metadata": {},
   "outputs": [
    {
     "name": "stdout",
     "output_type": "stream",
     "text": [
      "logistic regression (upsample mode) f1 score\n",
      "\n",
      "repeat coefficient: 1\n",
      "train 32.51%, valid 29.94%\n",
      "\n",
      "repeat coefficient: 2\n",
      "train 53.76%, valid 44.23%\n",
      "\n",
      "repeat coefficient: 3\n",
      "train 63.80%, valid 46.90%\n",
      "\n",
      "repeat coefficient: 4\n",
      "train 71.21%, valid 46.38%\n",
      "\n",
      "repeat coefficient: 5\n",
      "train 75.84%, valid 44.71%\n",
      "\n",
      "repeat coefficient: 6\n",
      "train 78.51%, valid 42.79%\n",
      "\n",
      "repeat coefficient: 7\n",
      "train 80.35%, valid 41.63%\n",
      "\n",
      "repeat coefficient: 8\n",
      "train 82.25%, valid 39.79%\n",
      "\n",
      "repeat coefficient: 9\n",
      "train 83.27%, valid 39.02%\n",
      "\n",
      "repeat coefficient: 10\n",
      "train 84.29%, valid 38.33%\n",
      "\n",
      "\n",
      "**********\n",
      "best rf valid score: 46.90%, best repeat: 3\n",
      "**********\n"
     ]
    }
   ],
   "source": [
    "best_lr_model_upsample = None\n",
    "best_lr_score = 0\n",
    "\n",
    "print('logistic regression (upsample mode) f1 score')\n",
    "print()\n",
    "\n",
    "for coefficient in range(1, 11):\n",
    "\n",
    "    features_upsampled, target_upsampled = upsample(features_train, target_train, coefficient)\n",
    "\n",
    "    lr_model = LogisticRegression(random_state=42, solver='lbfgs', max_iter=1000)\n",
    "\n",
    "    # Train the model using upsampled data\n",
    "    lr_model.fit(features_upsampled, target_upsampled)\n",
    "    lr_predictions_valid = lr_model.predict(features_valid)\n",
    "    lr_predictions_train = lr_model.predict(features_upsampled)\n",
    "\n",
    "    # Calculate the f1 score\n",
    "    f1_valid_lr = f1_score(target_valid, lr_predictions_valid)\n",
    "    f1_train_lr = f1_score(target_upsampled, lr_predictions_train)\n",
    "\n",
    "    if f1_valid_lr > best_lr_score:\n",
    "        best_lr_model_upsample = lr_model\n",
    "        best_lr_score = f1_valid_lr\n",
    "        best_coefficient = coefficient\n",
    "\n",
    "    # print('*' * 10)\n",
    "    print(f'repeat coefficient: {coefficient}')\n",
    "    print(f'train {f1_train_lr:.2%}, valid {f1_valid_lr:.2%}')\n",
    "    print()\n",
    "\n",
    "print()\n",
    "print('*' * 10)\n",
    "print(f'best rf valid score: {best_lr_score:.2%}, best repeat: {best_coefficient}')\n",
    "print('*' * 10)"
   ]
  },
  {
   "cell_type": "code",
   "execution_count": 133,
   "metadata": {},
   "outputs": [
    {
     "name": "stdout",
     "output_type": "stream",
     "text": [
      "random forest score (upsampling mode)\n",
      "\n",
      "train | valid | repeat\n",
      "-----------------------\n",
      " 100%  |  56%  |  1\n",
      " 100%  |  58%  |  2\n",
      " 100%  |  56%  |  3\n",
      " 100%  |  55%  |  4\n",
      " 100%  |  55%  |  5\n",
      " 100%  |  54%  |  6\n",
      " 100%  |  56%  |  7\n",
      " 100%  |  56%  |  8\n",
      " 100%  |  54%  |  9\n",
      " 100%  |  55%  |  10\n",
      "\n",
      "**********\n",
      "best rf valid accuracy: 57.53%, best repeat: 2\n",
      "**********\n"
     ]
    }
   ],
   "source": [
    "best_rf_upcample_model = None\n",
    "best_rf_score = 0\n",
    "\n",
    "print('random forest score (upsampling mode)')\n",
    "print()\n",
    "print('train | valid | repeat')\n",
    "print('-----------------------')\n",
    "for coefficient in range(1, 11):\n",
    "\n",
    "    features_upsampled, target_upsampled = upsample(features_train, target_train, coefficient)\n",
    "    # Create a random forest model using upsampled data\n",
    "    # n_estimators was tuned earlier\n",
    "    model_rf = RandomForestClassifier(n_estimators=77, random_state=42)\n",
    "    model_rf.fit(features_upsampled, target_upsampled)\n",
    "    predictions_valid_rf = model_rf.predict(features_valid)\n",
    "    predictions_train_rf = model_rf.predict(features_train)\n",
    "\n",
    "    # Calculate the f1 score\n",
    "    f1_valid_rf = f1_score(target_valid, predictions_valid_rf)\n",
    "    f1_train_rf = f1_score(target_train, predictions_train_rf)\n",
    "    print(f' {f1_train_rf:.0%}  |  {f1_valid_rf:.0%}  |  {coefficient}')\n",
    "\n",
    "    if f1_valid_rf > best_rf_score:\n",
    "        best_rf_upcample_model = model_rf\n",
    "        best_rf_score = f1_valid_rf\n",
    "        best_coefficient = coefficient\n",
    "\n",
    "print()\n",
    "print('*' * 10)\n",
    "print(f'best rf valid accuracy: {best_rf_score:.2%}, best repeat: {best_coefficient}')\n",
    "print('*' * 10)"
   ]
  },
  {
   "cell_type": "code",
   "execution_count": 129,
   "metadata": {},
   "outputs": [
    {
     "name": "stdout",
     "output_type": "stream",
     "text": [
      "random forest score (downsample mode)\n",
      "\n",
      "train | valid | reduce\n",
      "-----------------------\n",
      " 53%  |  43%  |  0.1\n",
      " 69%  |  52%  |  0.19\n",
      " 79%  |  55%  |  0.28\n",
      " 85%  |  56%  |  0.36\n",
      " 90%  |  58%  |  0.45\n",
      " 93%  |  58%  |  0.54\n",
      " 95%  |  58%  |  0.62\n",
      " 97%  |  56%  |  0.71\n",
      " 98%  |  56%  |  0.8\n",
      "\n",
      "**********\n",
      "best rf valid accuracy: 58%, best reduce: 0.45\n",
      "**********\n"
     ]
    }
   ],
   "source": [
    "# downsampling\n",
    "\n",
    "best_rf_model = None\n",
    "best_rf_score = 0\n",
    "\n",
    "print('random forest score (downsampling mode)')\n",
    "print()\n",
    "print('train | valid | reduce')\n",
    "print('-----------------------')\n",
    "for dwn_coefficient in (np.linspace(.1, .8, 9)).round(2):\n",
    "\n",
    "    features_downsampled, target_downsampled = downsample(features_train, target_train, dwn_coefficient)\n",
    "    # Create a random forest model using upsampled data\n",
    "    # n_estimators was tuned earlier\n",
    "    model_rf = RandomForestClassifier(n_estimators=77, random_state=42)\n",
    "    model_rf.fit(features_downsampled, target_downsampled)\n",
    "    predictions_valid_rf = model_rf.predict(features_valid)\n",
    "    predictions_train_rf = model_rf.predict(features_train)\n",
    "\n",
    "    # Calculate the f1 score\n",
    "    f1_valid_rf = f1_score(target_valid, predictions_valid_rf)\n",
    "    f1_train_rf = f1_score(target_train, predictions_train_rf)\n",
    "    print(f' {f1_train_rf:.0%}  |  {f1_valid_rf:.0%}  |  {dwn_coefficient}')\n",
    "\n",
    "    if f1_valid_rf > best_rf_score:\n",
    "        best_rf_model = model_rf\n",
    "        best_rf_score = f1_valid_rf\n",
    "        best_dwn_coefficient = dwn_coefficient\n",
    "\n",
    "print()\n",
    "print('*' * 10)\n",
    "print(f'best rf valid accuracy: {best_rf_score:.0%}, best reduce: {best_dwn_coefficient}')\n",
    "print('*' * 10)"
   ]
  },
  {
   "cell_type": "markdown",
   "metadata": {},
   "source": [
    "## Тестирование модели"
   ]
  },
  {
   "cell_type": "code",
   "execution_count": 134,
   "metadata": {},
   "outputs": [
    {
     "data": {
      "text/plain": [
       "0.6074270557029178"
      ]
     },
     "execution_count": 134,
     "metadata": {},
     "output_type": "execute_result"
    }
   ],
   "source": [
    "predictions_test_rf = best_rf_upcample_model.predict(features_test)\n",
    "f1_test_rf = f1_score(target_test, predictions_test_rf)\n",
    "\n",
    "f1_test_rf"
   ]
  },
  {
   "cell_type": "markdown",
   "metadata": {},
   "source": [
    "## Чек-лист готовности проекта"
   ]
  },
  {
   "cell_type": "markdown",
   "metadata": {},
   "source": [
    "Поставьте 'x' в выполненных пунктах. Далее нажмите Shift+Enter."
   ]
  },
  {
   "cell_type": "markdown",
   "metadata": {},
   "source": [
    "- [x]  Jupyter Notebook открыт\n",
    "- [ ]  Весь код выполняется без ошибок\n",
    "- [ ]  Ячейки с кодом расположены в порядке исполнения\n",
    "- [x]  Выполнен шаг 1: данные подготовлены\n",
    "- [ ]  Выполнен шаг 2: задача исследована\n",
    "    - [x]  Исследован баланс классов\n",
    "    - [x]  Изучены модели без учёта дисбаланса\n",
    "    - [ ]  Написаны выводы по результатам исследования\n",
    "- [ ]  Выполнен шаг 3: учтён дисбаланс\n",
    "    - [ ]  Применено несколько способов борьбы с дисбалансом\n",
    "    - [ ]  Написаны выводы по результатам исследования\n",
    "- [ ]  Выполнен шаг 4: проведено тестирование\n",
    "- [ ]  Удалось достичь *F1*-меры не менее 0.59\n",
    "- [ ]  Исследована метрика *AUC-ROC*"
   ]
  },
  {
   "cell_type": "code",
   "execution_count": null,
   "metadata": {},
   "outputs": [],
   "source": []
  }
 ],
 "metadata": {
  "kernelspec": {
   "display_name": "Python 3 (ipykernel)",
   "language": "python",
   "name": "python3"
  },
  "language_info": {
   "codemirror_mode": {
    "name": "ipython",
    "version": 3
   },
   "file_extension": ".py",
   "mimetype": "text/x-python",
   "name": "python",
   "nbconvert_exporter": "python",
   "pygments_lexer": "ipython3",
   "version": "3.8.8"
  },
  "toc": {
   "base_numbering": 1,
   "nav_menu": {},
   "number_sections": true,
   "sideBar": true,
   "skip_h1_title": true,
   "title_cell": "Содержание",
   "title_sidebar": "Contents",
   "toc_cell": true,
   "toc_position": {},
   "toc_section_display": true,
   "toc_window_display": true
  }
 },
 "nbformat": 4,
 "nbformat_minor": 2
}
