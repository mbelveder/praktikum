{
 "cells": [
  {
   "cell_type": "markdown",
   "metadata": {},
   "source": [
    "**Михаил, привет!**\n",
    "\n",
    "Меня зовут Анна Кузьмина, я буду проверять твой проект. Предлагаю общаться на «ты», но если тебе не комфортно — напиши мне и мы перейдем на «вы». У тебя сильный проект. Моя цель помочь сделать его еще лучше, что бы можно было смело добавить в твое портфолио.\n",
    "\n",
    "Для удобства я буду выделять комментарии разными цветами, вот так:\n",
    "\n",
    "<div class=\"alert alert-danger\">\n",
    "<b> Красный цвет ❌</b>\n",
    "\n",
    "По таким комментариям нужно будет поправить недочеты, без этого я не смогу принять твою работу.\n",
    "    \n",
    "</div>\n",
    "\n",
    "<div class=\"alert alert-warning\">\n",
    "<b> Желтый цвет ⚠ </b>\n",
    "\n",
    "В таких комментариях я отмечу то, на что стоит обратить внимание в будущем. По-желанию ты можешь применить мои советы уже в этой работе.\n",
    "\n",
    "</div>\n",
    "\n",
    "<div class=\"alert alert-success\">\n",
    "<b> Зеленый цвет ✅ </b>\n",
    "\n",
    "Так я отмечу твои удачные решения и все остальные комментарии.\n",
    "\n",
    "</div>\n",
    "\n",
    "При повторном ревью я буду выделять комментарии такими же цветами, только подпишу их так: «Комментарий ревьюера 2».\n",
    "\n",
    "Предлагаю общаться в диалоге. Будет отлично, если ты, отвечая на мои комментарии или что-то изменяя в работе, добавишь свой комментарий, например так:\n",
    "\n",
    "<div class=\"alert alert-info\">\n",
    "<b> Комментарий студента</b>\n",
    "\n",
    "Проект доработан по твоим комментариям, но у меня есть вопрос...\n",
    "\n",
    "</div>\n",
    "\n",
    "Пожалуйста, не перемещай и не удаляй мои комментарии,это может увеличить время повторной проверки."
   ]
  },
  {
   "cell_type": "markdown",
   "metadata": {},
   "source": [
    "# Определение перспективного тарифа для телеком-компании"
   ]
  },
  {
   "cell_type": "markdown",
   "metadata": {},
   "source": [
    "Клиентам предлагают два тарифных плана: «Смарт» и «Ультра».\n",
    "\n",
    "Чтобы скорректировать рекламный бюджет, коммерческий департамент хочет понять, какой тариф приносит больше денег."
   ]
  },
  {
   "cell_type": "markdown",
   "metadata": {},
   "source": [
    "***"
   ]
  },
  {
   "cell_type": "code",
   "execution_count": 1,
   "metadata": {},
   "outputs": [
    {
     "name": "stderr",
     "output_type": "stream",
     "text": [
      "\n",
      "Bad key text.latex.preview in file /Users/mike/opt/anaconda3/envs/praktikum/lib/python3.7/site-packages/matplotlib/mpl-data/stylelib/_classic_test.mplstyle, line 123 ('text.latex.preview : False')\n",
      "You probably need to get an updated matplotlibrc file from\n",
      "https://github.com/matplotlib/matplotlib/blob/v3.5.1/matplotlibrc.template\n",
      "or from the matplotlib source distribution\n",
      "\n",
      "Bad key mathtext.fallback_to_cm in file /Users/mike/opt/anaconda3/envs/praktikum/lib/python3.7/site-packages/matplotlib/mpl-data/stylelib/_classic_test.mplstyle, line 155 ('mathtext.fallback_to_cm : True  # When True, use symbols from the Computer Modern')\n",
      "You probably need to get an updated matplotlibrc file from\n",
      "https://github.com/matplotlib/matplotlib/blob/v3.5.1/matplotlibrc.template\n",
      "or from the matplotlib source distribution\n",
      "\n",
      "Bad key savefig.jpeg_quality in file /Users/mike/opt/anaconda3/envs/praktikum/lib/python3.7/site-packages/matplotlib/mpl-data/stylelib/_classic_test.mplstyle, line 418 ('savefig.jpeg_quality: 95       # when a jpeg is saved, the default quality parameter.')\n",
      "You probably need to get an updated matplotlibrc file from\n",
      "https://github.com/matplotlib/matplotlib/blob/v3.5.1/matplotlibrc.template\n",
      "or from the matplotlib source distribution\n",
      "\n",
      "Bad key keymap.all_axes in file /Users/mike/opt/anaconda3/envs/praktikum/lib/python3.7/site-packages/matplotlib/mpl-data/stylelib/_classic_test.mplstyle, line 466 ('keymap.all_axes : a                 # enable all axes')\n",
      "You probably need to get an updated matplotlibrc file from\n",
      "https://github.com/matplotlib/matplotlib/blob/v3.5.1/matplotlibrc.template\n",
      "or from the matplotlib source distribution\n",
      "\n",
      "Bad key animation.avconv_path in file /Users/mike/opt/anaconda3/envs/praktikum/lib/python3.7/site-packages/matplotlib/mpl-data/stylelib/_classic_test.mplstyle, line 477 ('animation.avconv_path: avconv     # Path to avconv binary. Without full path')\n",
      "You probably need to get an updated matplotlibrc file from\n",
      "https://github.com/matplotlib/matplotlib/blob/v3.5.1/matplotlibrc.template\n",
      "or from the matplotlib source distribution\n",
      "\n",
      "Bad key animation.avconv_args in file /Users/mike/opt/anaconda3/envs/praktikum/lib/python3.7/site-packages/matplotlib/mpl-data/stylelib/_classic_test.mplstyle, line 479 ('animation.avconv_args:            # Additional arguments to pass to avconv')\n",
      "You probably need to get an updated matplotlibrc file from\n",
      "https://github.com/matplotlib/matplotlib/blob/v3.5.1/matplotlibrc.template\n",
      "or from the matplotlib source distribution\n"
     ]
    }
   ],
   "source": [
    "import numpy as np\n",
    "\n",
    "import pandas as pd\n",
    "import matplotlib.pyplot as plt\n",
    "plt.rcParams['figure.figsize'] = (10, 6)\n",
    "\n",
    "import seaborn as sns\n",
    "\n",
    "sns.set_context('notebook', font_scale=1.5)\n",
    "sns.set_style('darkgrid', rc={'ytick.left':True, 'ytick.direction':'in',\n",
    "                              'xtick.bottom':True, 'xtick.direction':'in'})\n",
    "\n",
    "pd.set_option('precision', 2)"
   ]
  },
  {
   "cell_type": "markdown",
   "metadata": {},
   "source": [
    "***"
   ]
  },
  {
   "cell_type": "markdown",
   "metadata": {
    "tags": []
   },
   "source": [
    "## Содержание:\n",
    "* [1. Общая информация](#section_1)\n",
    "* [2. Подготовка данных](#section_2)\n",
    "* [3. Помесячная выручка с каждого пользователя](#section_3)\n",
    "* [4. Проверка гипотез](#section_4)\n",
    "* [5. Результаты](#section_5)"
   ]
  },
  {
   "cell_type": "markdown",
   "metadata": {},
   "source": [
    "<div class=\"alert alert-success\">\n",
    "<b> Комментарий ревьюера ✅ </b>\n",
    "\n",
    "Хорошо, что есть название, цель работы и содержание проекта. А также иморт библиотек в отдельной ячейке в начале проекта. Сюда можно перенести и импорт других библиотек.\n",
    "\n",
    "</div>"
   ]
  },
  {
   "cell_type": "markdown",
   "metadata": {},
   "source": [
    "## 1. Общая информация <a class=\"anchor\" id=\"section_1\"></a>"
   ]
  },
  {
   "cell_type": "code",
   "execution_count": 2,
   "metadata": {},
   "outputs": [],
   "source": [
    "users_df = pd.read_csv('/datasets/users.csv')\n",
    "messages_df = pd.read_csv('/datasets/messages.csv')\n",
    "calls_df = pd.read_csv('/datasets/calls.csv')\n",
    "internet_df = pd.read_csv('/datasets/internet.csv', )\n",
    "tariffs_df = pd.read_csv('/datasets/tariffs.csv')"
   ]
  },
  {
   "cell_type": "markdown",
   "metadata": {},
   "source": [
    "При попытке посмотреть `calls_df.info()` вышла следующая ошибка:"
   ]
  },
  {
   "cell_type": "markdown",
   "metadata": {},
   "source": [
    "`TypeError: Cannot interpret '<attribute 'dtype' of 'numpy.generic' objects>' as a data type`"
   ]
  },
  {
   "cell_type": "markdown",
   "metadata": {},
   "source": [
    "Похожая проблема обсуждалась __[здесь](https://github.com/numpy/numpy/issues/18355)__. В итоге (загадочным образом) помогло:\n",
    "\n",
    "`conda install pandas`\n",
    "\n",
    "Дальше разбираться не стал."
   ]
  },
  {
   "cell_type": "markdown",
   "metadata": {},
   "source": [
    "<div class=\"alert alert-success\">\n",
    "<b> Комментарий ревьюера ✅ </b>\n",
    "\n",
    "Возможно ты выполнял проект локально и из-за этого произошел конфликт библиотек. Что бы все учебные файлы загружались корректно и у при проверке у ревьюеров запускался твой код, работай, пожалуйста, в окружении Практикума. Его можно найти в Notion, там же есть инструкция как его установить.\n",
    "    \n",
    "Вот ссылка 👉🏻 https://www.notion.so/3b39781a6f4246f2b198d542cacb913d\n",
    "    \n",
    "Если она не открывается, то ты можешь уточнить у куратора, где найти этот материал и он (она) тебе подскажет.\n",
    "\n",
    "</div>"
   ]
  },
  {
   "cell_type": "markdown",
   "metadata": {},
   "source": [
    "### users"
   ]
  },
  {
   "cell_type": "code",
   "execution_count": 3,
   "metadata": {},
   "outputs": [
    {
     "name": "stdout",
     "output_type": "stream",
     "text": [
      "<class 'pandas.core.frame.DataFrame'>\n",
      "RangeIndex: 500 entries, 0 to 499\n",
      "Data columns (total 8 columns):\n",
      " #   Column      Non-Null Count  Dtype \n",
      "---  ------      --------------  ----- \n",
      " 0   user_id     500 non-null    int64 \n",
      " 1   age         500 non-null    int64 \n",
      " 2   churn_date  38 non-null     object\n",
      " 3   city        500 non-null    object\n",
      " 4   first_name  500 non-null    object\n",
      " 5   last_name   500 non-null    object\n",
      " 6   reg_date    500 non-null    object\n",
      " 7   tariff      500 non-null    object\n",
      "dtypes: int64(2), object(6)\n",
      "memory usage: 31.4+ KB\n"
     ]
    }
   ],
   "source": [
    "users_df.info()"
   ]
  },
  {
   "cell_type": "code",
   "execution_count": 4,
   "metadata": {},
   "outputs": [
    {
     "data": {
      "text/html": [
       "<div>\n",
       "<style scoped>\n",
       "    .dataframe tbody tr th:only-of-type {\n",
       "        vertical-align: middle;\n",
       "    }\n",
       "\n",
       "    .dataframe tbody tr th {\n",
       "        vertical-align: top;\n",
       "    }\n",
       "\n",
       "    .dataframe thead th {\n",
       "        text-align: right;\n",
       "    }\n",
       "</style>\n",
       "<table border=\"1\" class=\"dataframe\">\n",
       "  <thead>\n",
       "    <tr style=\"text-align: right;\">\n",
       "      <th></th>\n",
       "      <th>user_id</th>\n",
       "      <th>age</th>\n",
       "      <th>churn_date</th>\n",
       "      <th>city</th>\n",
       "      <th>first_name</th>\n",
       "      <th>last_name</th>\n",
       "      <th>reg_date</th>\n",
       "      <th>tariff</th>\n",
       "    </tr>\n",
       "  </thead>\n",
       "  <tbody>\n",
       "    <tr>\n",
       "      <th>0</th>\n",
       "      <td>1000</td>\n",
       "      <td>52</td>\n",
       "      <td>NaN</td>\n",
       "      <td>Краснодар</td>\n",
       "      <td>Рафаил</td>\n",
       "      <td>Верещагин</td>\n",
       "      <td>2018-05-25</td>\n",
       "      <td>ultra</td>\n",
       "    </tr>\n",
       "    <tr>\n",
       "      <th>1</th>\n",
       "      <td>1001</td>\n",
       "      <td>41</td>\n",
       "      <td>NaN</td>\n",
       "      <td>Москва</td>\n",
       "      <td>Иван</td>\n",
       "      <td>Ежов</td>\n",
       "      <td>2018-11-01</td>\n",
       "      <td>smart</td>\n",
       "    </tr>\n",
       "    <tr>\n",
       "      <th>2</th>\n",
       "      <td>1002</td>\n",
       "      <td>59</td>\n",
       "      <td>NaN</td>\n",
       "      <td>Стерлитамак</td>\n",
       "      <td>Евгений</td>\n",
       "      <td>Абрамович</td>\n",
       "      <td>2018-06-17</td>\n",
       "      <td>smart</td>\n",
       "    </tr>\n",
       "    <tr>\n",
       "      <th>3</th>\n",
       "      <td>1003</td>\n",
       "      <td>23</td>\n",
       "      <td>NaN</td>\n",
       "      <td>Москва</td>\n",
       "      <td>Белла</td>\n",
       "      <td>Белякова</td>\n",
       "      <td>2018-08-17</td>\n",
       "      <td>ultra</td>\n",
       "    </tr>\n",
       "    <tr>\n",
       "      <th>4</th>\n",
       "      <td>1004</td>\n",
       "      <td>68</td>\n",
       "      <td>NaN</td>\n",
       "      <td>Новокузнецк</td>\n",
       "      <td>Татьяна</td>\n",
       "      <td>Авдеенко</td>\n",
       "      <td>2018-05-14</td>\n",
       "      <td>ultra</td>\n",
       "    </tr>\n",
       "  </tbody>\n",
       "</table>\n",
       "</div>"
      ],
      "text/plain": [
       "   user_id  age churn_date         city first_name  last_name    reg_date  \\\n",
       "0     1000   52        NaN    Краснодар     Рафаил  Верещагин  2018-05-25   \n",
       "1     1001   41        NaN       Москва       Иван       Ежов  2018-11-01   \n",
       "2     1002   59        NaN  Стерлитамак    Евгений  Абрамович  2018-06-17   \n",
       "3     1003   23        NaN       Москва      Белла   Белякова  2018-08-17   \n",
       "4     1004   68        NaN  Новокузнецк    Татьяна   Авдеенко  2018-05-14   \n",
       "\n",
       "  tariff  \n",
       "0  ultra  \n",
       "1  smart  \n",
       "2  smart  \n",
       "3  ultra  \n",
       "4  ultra  "
      ]
     },
     "execution_count": 4,
     "metadata": {},
     "output_type": "execute_result"
    }
   ],
   "source": [
    "users_df.head()"
   ]
  },
  {
   "cell_type": "markdown",
   "metadata": {},
   "source": [
    "- `user_id` — уникальный идентификатор пользователя\n",
    "\n",
    "- `first_name` — имя пользователя\n",
    "\n",
    "- `last_name` — фамилия пользователя\n",
    "\n",
    "- `age` — возраст пользователя (годы)\n",
    "\n",
    "- `reg_date` — дата подключения тарифа (день, месяц, год)\n",
    "\n",
    "- `churn_date` — дата прекращения пользования тарифом (если значение пропущено, то тариф ещё действовал на момент выгрузки данных)\n",
    "\n",
    "- `city` — город проживания пользователя\n",
    "\n",
    "- `tarif` — название тарифного плана\n"
   ]
  },
  {
   "cell_type": "markdown",
   "metadata": {},
   "source": [
    "> Много пропусков в `churn_date`, но они объяснены в описании данных"
   ]
  },
  {
   "cell_type": "markdown",
   "metadata": {},
   "source": [
    "### messages"
   ]
  },
  {
   "cell_type": "code",
   "execution_count": 5,
   "metadata": {},
   "outputs": [
    {
     "name": "stdout",
     "output_type": "stream",
     "text": [
      "<class 'pandas.core.frame.DataFrame'>\n",
      "RangeIndex: 123036 entries, 0 to 123035\n",
      "Data columns (total 3 columns):\n",
      " #   Column        Non-Null Count   Dtype \n",
      "---  ------        --------------   ----- \n",
      " 0   id            123036 non-null  object\n",
      " 1   message_date  123036 non-null  object\n",
      " 2   user_id       123036 non-null  int64 \n",
      "dtypes: int64(1), object(2)\n",
      "memory usage: 2.8+ MB\n"
     ]
    }
   ],
   "source": [
    "messages_df.info()"
   ]
  },
  {
   "cell_type": "code",
   "execution_count": 6,
   "metadata": {},
   "outputs": [
    {
     "data": {
      "text/html": [
       "<div>\n",
       "<style scoped>\n",
       "    .dataframe tbody tr th:only-of-type {\n",
       "        vertical-align: middle;\n",
       "    }\n",
       "\n",
       "    .dataframe tbody tr th {\n",
       "        vertical-align: top;\n",
       "    }\n",
       "\n",
       "    .dataframe thead th {\n",
       "        text-align: right;\n",
       "    }\n",
       "</style>\n",
       "<table border=\"1\" class=\"dataframe\">\n",
       "  <thead>\n",
       "    <tr style=\"text-align: right;\">\n",
       "      <th></th>\n",
       "      <th>id</th>\n",
       "      <th>message_date</th>\n",
       "      <th>user_id</th>\n",
       "    </tr>\n",
       "  </thead>\n",
       "  <tbody>\n",
       "    <tr>\n",
       "      <th>0</th>\n",
       "      <td>1000_0</td>\n",
       "      <td>2018-06-27</td>\n",
       "      <td>1000</td>\n",
       "    </tr>\n",
       "    <tr>\n",
       "      <th>1</th>\n",
       "      <td>1000_1</td>\n",
       "      <td>2018-10-08</td>\n",
       "      <td>1000</td>\n",
       "    </tr>\n",
       "    <tr>\n",
       "      <th>2</th>\n",
       "      <td>1000_2</td>\n",
       "      <td>2018-08-04</td>\n",
       "      <td>1000</td>\n",
       "    </tr>\n",
       "    <tr>\n",
       "      <th>3</th>\n",
       "      <td>1000_3</td>\n",
       "      <td>2018-06-16</td>\n",
       "      <td>1000</td>\n",
       "    </tr>\n",
       "    <tr>\n",
       "      <th>4</th>\n",
       "      <td>1000_4</td>\n",
       "      <td>2018-12-05</td>\n",
       "      <td>1000</td>\n",
       "    </tr>\n",
       "  </tbody>\n",
       "</table>\n",
       "</div>"
      ],
      "text/plain": [
       "       id message_date  user_id\n",
       "0  1000_0   2018-06-27     1000\n",
       "1  1000_1   2018-10-08     1000\n",
       "2  1000_2   2018-08-04     1000\n",
       "3  1000_3   2018-06-16     1000\n",
       "4  1000_4   2018-12-05     1000"
      ]
     },
     "execution_count": 6,
     "metadata": {},
     "output_type": "execute_result"
    }
   ],
   "source": [
    "messages_df.head()"
   ]
  },
  {
   "cell_type": "markdown",
   "metadata": {},
   "source": [
    "- `id` — уникальный номер сообщения\n",
    "- `message_date` — дата сообщения\n",
    "- `user_id` — идентификатор пользователя, отправившего сообщение"
   ]
  },
  {
   "cell_type": "code",
   "execution_count": 7,
   "metadata": {},
   "outputs": [
    {
     "name": "stdout",
     "output_type": "stream",
     "text": [
      "Информация по сообщениям есть для 85% пользователей\n"
     ]
    }
   ],
   "source": [
    "print(f'Информация по сообщениям есть для {len(messages_df.user_id.unique()) / users_df.shape[0] :.0%} пользователей')"
   ]
  },
  {
   "cell_type": "markdown",
   "metadata": {},
   "source": [
    "### calls"
   ]
  },
  {
   "cell_type": "code",
   "execution_count": 8,
   "metadata": {},
   "outputs": [
    {
     "name": "stdout",
     "output_type": "stream",
     "text": [
      "<class 'pandas.core.frame.DataFrame'>\n",
      "RangeIndex: 202607 entries, 0 to 202606\n",
      "Data columns (total 4 columns):\n",
      " #   Column     Non-Null Count   Dtype  \n",
      "---  ------     --------------   -----  \n",
      " 0   id         202607 non-null  object \n",
      " 1   call_date  202607 non-null  object \n",
      " 2   duration   202607 non-null  float64\n",
      " 3   user_id    202607 non-null  int64  \n",
      "dtypes: float64(1), int64(1), object(2)\n",
      "memory usage: 6.2+ MB\n"
     ]
    }
   ],
   "source": [
    "calls_df.info()"
   ]
  },
  {
   "cell_type": "code",
   "execution_count": 9,
   "metadata": {},
   "outputs": [
    {
     "data": {
      "text/html": [
       "<div>\n",
       "<style scoped>\n",
       "    .dataframe tbody tr th:only-of-type {\n",
       "        vertical-align: middle;\n",
       "    }\n",
       "\n",
       "    .dataframe tbody tr th {\n",
       "        vertical-align: top;\n",
       "    }\n",
       "\n",
       "    .dataframe thead th {\n",
       "        text-align: right;\n",
       "    }\n",
       "</style>\n",
       "<table border=\"1\" class=\"dataframe\">\n",
       "  <thead>\n",
       "    <tr style=\"text-align: right;\">\n",
       "      <th></th>\n",
       "      <th>id</th>\n",
       "      <th>call_date</th>\n",
       "      <th>duration</th>\n",
       "      <th>user_id</th>\n",
       "    </tr>\n",
       "  </thead>\n",
       "  <tbody>\n",
       "    <tr>\n",
       "      <th>0</th>\n",
       "      <td>1000_0</td>\n",
       "      <td>2018-07-25</td>\n",
       "      <td>0.00</td>\n",
       "      <td>1000</td>\n",
       "    </tr>\n",
       "    <tr>\n",
       "      <th>1</th>\n",
       "      <td>1000_1</td>\n",
       "      <td>2018-08-17</td>\n",
       "      <td>0.00</td>\n",
       "      <td>1000</td>\n",
       "    </tr>\n",
       "    <tr>\n",
       "      <th>2</th>\n",
       "      <td>1000_2</td>\n",
       "      <td>2018-06-11</td>\n",
       "      <td>2.85</td>\n",
       "      <td>1000</td>\n",
       "    </tr>\n",
       "    <tr>\n",
       "      <th>3</th>\n",
       "      <td>1000_3</td>\n",
       "      <td>2018-09-21</td>\n",
       "      <td>13.80</td>\n",
       "      <td>1000</td>\n",
       "    </tr>\n",
       "    <tr>\n",
       "      <th>4</th>\n",
       "      <td>1000_4</td>\n",
       "      <td>2018-12-15</td>\n",
       "      <td>5.18</td>\n",
       "      <td>1000</td>\n",
       "    </tr>\n",
       "  </tbody>\n",
       "</table>\n",
       "</div>"
      ],
      "text/plain": [
       "       id   call_date  duration  user_id\n",
       "0  1000_0  2018-07-25      0.00     1000\n",
       "1  1000_1  2018-08-17      0.00     1000\n",
       "2  1000_2  2018-06-11      2.85     1000\n",
       "3  1000_3  2018-09-21     13.80     1000\n",
       "4  1000_4  2018-12-15      5.18     1000"
      ]
     },
     "execution_count": 9,
     "metadata": {},
     "output_type": "execute_result"
    }
   ],
   "source": [
    "calls_df.head()"
   ]
  },
  {
   "cell_type": "markdown",
   "metadata": {},
   "source": [
    "- `id` — уникальный номер звонка\n",
    "- `call_date` — дата звонка\n",
    "- `duration` — длительность звонка в минутах\n",
    "- `user_id` — идентификатор пользователя, сделавшего звонок"
   ]
  },
  {
   "cell_type": "code",
   "execution_count": 10,
   "metadata": {},
   "outputs": [
    {
     "name": "stdout",
     "output_type": "stream",
     "text": [
      "Информация по звонкам есть для 98% пользователей\n"
     ]
    }
   ],
   "source": [
    "print(f'Информация по звонкам есть для {len(calls_df.user_id.unique()) / users_df.shape[0] :.0%} пользователей')"
   ]
  },
  {
   "cell_type": "markdown",
   "metadata": {},
   "source": [
    "### internet"
   ]
  },
  {
   "cell_type": "code",
   "execution_count": 11,
   "metadata": {},
   "outputs": [
    {
     "name": "stdout",
     "output_type": "stream",
     "text": [
      "<class 'pandas.core.frame.DataFrame'>\n",
      "RangeIndex: 149396 entries, 0 to 149395\n",
      "Data columns (total 5 columns):\n",
      " #   Column        Non-Null Count   Dtype  \n",
      "---  ------        --------------   -----  \n",
      " 0   Unnamed: 0    149396 non-null  int64  \n",
      " 1   id            149396 non-null  object \n",
      " 2   mb_used       149396 non-null  float64\n",
      " 3   session_date  149396 non-null  object \n",
      " 4   user_id       149396 non-null  int64  \n",
      "dtypes: float64(1), int64(2), object(2)\n",
      "memory usage: 5.7+ MB\n"
     ]
    }
   ],
   "source": [
    "internet_df.info()"
   ]
  },
  {
   "cell_type": "code",
   "execution_count": 12,
   "metadata": {},
   "outputs": [
    {
     "data": {
      "text/html": [
       "<div>\n",
       "<style scoped>\n",
       "    .dataframe tbody tr th:only-of-type {\n",
       "        vertical-align: middle;\n",
       "    }\n",
       "\n",
       "    .dataframe tbody tr th {\n",
       "        vertical-align: top;\n",
       "    }\n",
       "\n",
       "    .dataframe thead th {\n",
       "        text-align: right;\n",
       "    }\n",
       "</style>\n",
       "<table border=\"1\" class=\"dataframe\">\n",
       "  <thead>\n",
       "    <tr style=\"text-align: right;\">\n",
       "      <th></th>\n",
       "      <th>Unnamed: 0</th>\n",
       "      <th>id</th>\n",
       "      <th>mb_used</th>\n",
       "      <th>session_date</th>\n",
       "      <th>user_id</th>\n",
       "    </tr>\n",
       "  </thead>\n",
       "  <tbody>\n",
       "    <tr>\n",
       "      <th>0</th>\n",
       "      <td>0</td>\n",
       "      <td>1000_0</td>\n",
       "      <td>112.95</td>\n",
       "      <td>2018-11-25</td>\n",
       "      <td>1000</td>\n",
       "    </tr>\n",
       "    <tr>\n",
       "      <th>1</th>\n",
       "      <td>1</td>\n",
       "      <td>1000_1</td>\n",
       "      <td>1052.81</td>\n",
       "      <td>2018-09-07</td>\n",
       "      <td>1000</td>\n",
       "    </tr>\n",
       "    <tr>\n",
       "      <th>2</th>\n",
       "      <td>2</td>\n",
       "      <td>1000_2</td>\n",
       "      <td>1197.26</td>\n",
       "      <td>2018-06-25</td>\n",
       "      <td>1000</td>\n",
       "    </tr>\n",
       "    <tr>\n",
       "      <th>3</th>\n",
       "      <td>3</td>\n",
       "      <td>1000_3</td>\n",
       "      <td>550.27</td>\n",
       "      <td>2018-08-22</td>\n",
       "      <td>1000</td>\n",
       "    </tr>\n",
       "    <tr>\n",
       "      <th>4</th>\n",
       "      <td>4</td>\n",
       "      <td>1000_4</td>\n",
       "      <td>302.56</td>\n",
       "      <td>2018-09-24</td>\n",
       "      <td>1000</td>\n",
       "    </tr>\n",
       "  </tbody>\n",
       "</table>\n",
       "</div>"
      ],
      "text/plain": [
       "   Unnamed: 0      id  mb_used session_date  user_id\n",
       "0           0  1000_0   112.95   2018-11-25     1000\n",
       "1           1  1000_1  1052.81   2018-09-07     1000\n",
       "2           2  1000_2  1197.26   2018-06-25     1000\n",
       "3           3  1000_3   550.27   2018-08-22     1000\n",
       "4           4  1000_4   302.56   2018-09-24     1000"
      ]
     },
     "execution_count": 12,
     "metadata": {},
     "output_type": "execute_result"
    }
   ],
   "source": [
    "internet_df.head()"
   ]
  },
  {
   "cell_type": "markdown",
   "metadata": {},
   "source": [
    "- `id` — уникальный номер сессии\n",
    "- `mb_used` — объём потраченного за сессию интернет-трафика (в мегабайтах)\n",
    "- `session_date` — дата интернет-сессии\n",
    "- `user_id` — идентификатор пользователя"
   ]
  },
  {
   "cell_type": "code",
   "execution_count": 13,
   "metadata": {},
   "outputs": [
    {
     "name": "stdout",
     "output_type": "stream",
     "text": [
      "Информация по интернет-сессиям есть для 99% пользователей\n"
     ]
    }
   ],
   "source": [
    "print(f'Информация по интернет-сессиям есть для {len(internet_df.user_id.unique()) / users_df.shape[0] :.0%} пользователей')"
   ]
  },
  {
   "cell_type": "markdown",
   "metadata": {},
   "source": [
    "### tariffs"
   ]
  },
  {
   "cell_type": "code",
   "execution_count": 14,
   "metadata": {},
   "outputs": [
    {
     "name": "stdout",
     "output_type": "stream",
     "text": [
      "<class 'pandas.core.frame.DataFrame'>\n",
      "RangeIndex: 2 entries, 0 to 1\n",
      "Data columns (total 8 columns):\n",
      " #   Column                 Non-Null Count  Dtype \n",
      "---  ------                 --------------  ----- \n",
      " 0   messages_included      2 non-null      int64 \n",
      " 1   mb_per_month_included  2 non-null      int64 \n",
      " 2   minutes_included       2 non-null      int64 \n",
      " 3   rub_monthly_fee        2 non-null      int64 \n",
      " 4   rub_per_gb             2 non-null      int64 \n",
      " 5   rub_per_message        2 non-null      int64 \n",
      " 6   rub_per_minute         2 non-null      int64 \n",
      " 7   tariff_name            2 non-null      object\n",
      "dtypes: int64(7), object(1)\n",
      "memory usage: 256.0+ bytes\n"
     ]
    }
   ],
   "source": [
    "tariffs_df.info()"
   ]
  },
  {
   "cell_type": "code",
   "execution_count": 15,
   "metadata": {},
   "outputs": [
    {
     "data": {
      "text/html": [
       "<div>\n",
       "<style scoped>\n",
       "    .dataframe tbody tr th:only-of-type {\n",
       "        vertical-align: middle;\n",
       "    }\n",
       "\n",
       "    .dataframe tbody tr th {\n",
       "        vertical-align: top;\n",
       "    }\n",
       "\n",
       "    .dataframe thead th {\n",
       "        text-align: right;\n",
       "    }\n",
       "</style>\n",
       "<table border=\"1\" class=\"dataframe\">\n",
       "  <thead>\n",
       "    <tr style=\"text-align: right;\">\n",
       "      <th></th>\n",
       "      <th>messages_included</th>\n",
       "      <th>mb_per_month_included</th>\n",
       "      <th>minutes_included</th>\n",
       "      <th>rub_monthly_fee</th>\n",
       "      <th>rub_per_gb</th>\n",
       "      <th>rub_per_message</th>\n",
       "      <th>rub_per_minute</th>\n",
       "      <th>tariff_name</th>\n",
       "    </tr>\n",
       "  </thead>\n",
       "  <tbody>\n",
       "    <tr>\n",
       "      <th>0</th>\n",
       "      <td>50</td>\n",
       "      <td>15360</td>\n",
       "      <td>500</td>\n",
       "      <td>550</td>\n",
       "      <td>200</td>\n",
       "      <td>3</td>\n",
       "      <td>3</td>\n",
       "      <td>smart</td>\n",
       "    </tr>\n",
       "    <tr>\n",
       "      <th>1</th>\n",
       "      <td>1000</td>\n",
       "      <td>30720</td>\n",
       "      <td>3000</td>\n",
       "      <td>1950</td>\n",
       "      <td>150</td>\n",
       "      <td>1</td>\n",
       "      <td>1</td>\n",
       "      <td>ultra</td>\n",
       "    </tr>\n",
       "  </tbody>\n",
       "</table>\n",
       "</div>"
      ],
      "text/plain": [
       "   messages_included  mb_per_month_included  minutes_included  \\\n",
       "0                 50                  15360               500   \n",
       "1               1000                  30720              3000   \n",
       "\n",
       "   rub_monthly_fee  rub_per_gb  rub_per_message  rub_per_minute tariff_name  \n",
       "0              550         200                3               3       smart  \n",
       "1             1950         150                1               1       ultra  "
      ]
     },
     "execution_count": 15,
     "metadata": {},
     "output_type": "execute_result"
    }
   ],
   "source": [
    "tariffs_df"
   ]
  },
  {
   "cell_type": "markdown",
   "metadata": {},
   "source": [
    "- `tariff_name` — название тарифа\n",
    "- `rub_monthly_fee` — ежемесячная абонентская плата в рублях\n",
    "- `minutes_included` — количество минут разговора в месяц, включённых в абонентскую плату\n",
    "- `messages_included` — количество сообщений в месяц, включённых в абонентскую плату\n",
    "- `mb_per_month_included` — объём интернет-трафика, включённого в абонентскую плату (в мегабайтах)\n",
    "- `rub_per_minute` — стоимость минуты разговора сверх тарифного пакета (например, если в тарифе 100 минут разговора в месяц, то со 101 минуты будет взиматься плата)\n",
    "- `rub_per_message` — стоимость отправки сообщения сверх тарифного пакета\n",
    "- `rub_per_gb` — стоимость дополнительного гигабайта интернет-трафика сверх тарифного пакета (1 гигабайт = 1024 мегабайта)"
   ]
  },
  {
   "cell_type": "code",
   "execution_count": 16,
   "metadata": {},
   "outputs": [
    {
     "name": "stdout",
     "output_type": "stream",
     "text": [
      "0\n",
      "0\n",
      "0\n",
      "0\n",
      "0\n"
     ]
    }
   ],
   "source": [
    "# Поиск дубликатов в данных\n",
    "\n",
    "for df in [users_df, messages_df, calls_df, internet_df, tariffs_df]:\n",
    "    print(df.duplicated().sum())"
   ]
  },
  {
   "cell_type": "markdown",
   "metadata": {},
   "source": [
    "### Вывод"
   ]
  },
  {
   "cell_type": "markdown",
   "metadata": {},
   "source": [
    "> - Дубликаты в таблицах отсутствуют\n",
    "> - Требуется преобразование типов данных в некоторых колонках"
   ]
  },
  {
   "cell_type": "markdown",
   "metadata": {},
   "source": [
    "<div class=\"alert alert-success\">\n",
    "<b> Комментарий ревьюера ✅ </b>\n",
    "\n",
    "1. Ты провел первичное знакомство с данными. Очень хорошо, что ты даешь описание хранящихся в каждом столбце данных — так как не всегда названия столбцов четко передают информацию.\n",
    "    \n",
    "1. Можно было вывод информации и первых строк добавить в цикл как при подсчете дубликатов. А лучше написать универсальную функцию, которая выведет на экран название датасета, первые несколько строк, информацию, посчитает дубликаты и пропущенные значения. Ее можно будет использовать и в следующих проектах.\n",
    "    \n",
    "1. На этом этапе можно выполнить ряд проверок:\n",
    "    - проверить правда ли у нас информация о 500 пользователях;\n",
    "    - проверить временной период, за который есть данные;\n",
    "    - проверить точно ли мы имеем данные по пользователям двух тарифов.\n",
    "\n",
    "</div>"
   ]
  },
  {
   "cell_type": "code",
   "execution_count": 17,
   "metadata": {},
   "outputs": [
    {
     "data": {
      "text/plain": [
       "Index(['user_id', 'age', 'churn_date', 'city', 'first_name', 'last_name',\n",
       "       'reg_date', 'tariff'],\n",
       "      dtype='object')"
      ]
     },
     "execution_count": 17,
     "metadata": {},
     "output_type": "execute_result"
    }
   ],
   "source": [
    "users_df.columns"
   ]
  },
  {
   "cell_type": "code",
   "execution_count": 18,
   "metadata": {},
   "outputs": [
    {
     "data": {
      "text/plain": [
       "(500,)"
      ]
     },
     "execution_count": 18,
     "metadata": {},
     "output_type": "execute_result"
    }
   ],
   "source": [
    "# Сколько уникальных id пользователей?\n",
    "users_df['user_id'].unique().shape"
   ]
  },
  {
   "cell_type": "code",
   "execution_count": 19,
   "metadata": {},
   "outputs": [
    {
     "data": {
      "text/plain": [
       "array(['ultra', 'smart'], dtype=object)"
      ]
     },
     "execution_count": 19,
     "metadata": {},
     "output_type": "execute_result"
    }
   ],
   "source": [
    "# Сколько различных тарифов?\n",
    "users_df['tariff'].unique()"
   ]
  },
  {
   "cell_type": "markdown",
   "metadata": {},
   "source": [
    "## 2. Подготовка данных <a class=\"anchor\" id=\"section_2\"></a>\n",
    "\n",
    "### Преобразование типов данных, округление звонков, другая предобработка"
   ]
  },
  {
   "cell_type": "code",
   "execution_count": 20,
   "metadata": {},
   "outputs": [
    {
     "name": "stdout",
     "output_type": "stream",
     "text": [
      "<class 'pandas.core.frame.DataFrame'>\n",
      "RangeIndex: 500 entries, 0 to 499\n",
      "Data columns (total 8 columns):\n",
      " #   Column      Non-Null Count  Dtype \n",
      "---  ------      --------------  ----- \n",
      " 0   user_id     500 non-null    int64 \n",
      " 1   age         500 non-null    int64 \n",
      " 2   churn_date  38 non-null     object\n",
      " 3   city        500 non-null    object\n",
      " 4   first_name  500 non-null    object\n",
      " 5   last_name   500 non-null    object\n",
      " 6   reg_date    500 non-null    object\n",
      " 7   tariff      500 non-null    object\n",
      "dtypes: int64(2), object(6)\n",
      "memory usage: 31.4+ KB\n"
     ]
    }
   ],
   "source": [
    "users_df.info()"
   ]
  },
  {
   "cell_type": "code",
   "execution_count": 21,
   "metadata": {},
   "outputs": [
    {
     "name": "stdout",
     "output_type": "stream",
     "text": [
      "<class 'pandas.core.frame.DataFrame'>\n",
      "RangeIndex: 500 entries, 0 to 499\n",
      "Data columns (total 8 columns):\n",
      " #   Column      Non-Null Count  Dtype         \n",
      "---  ------      --------------  -----         \n",
      " 0   user_id     500 non-null    int64         \n",
      " 1   age         500 non-null    int64         \n",
      " 2   churn_date  38 non-null     datetime64[ns]\n",
      " 3   city        500 non-null    object        \n",
      " 4   first_name  500 non-null    object        \n",
      " 5   last_name   500 non-null    object        \n",
      " 6   reg_date    500 non-null    datetime64[ns]\n",
      " 7   tariff      500 non-null    object        \n",
      "dtypes: datetime64[ns](2), int64(2), object(4)\n",
      "memory usage: 31.4+ KB\n",
      "None\n",
      "<class 'pandas.core.frame.DataFrame'>\n",
      "RangeIndex: 123036 entries, 0 to 123035\n",
      "Data columns (total 4 columns):\n",
      " #   Column        Non-Null Count   Dtype         \n",
      "---  ------        --------------   -----         \n",
      " 0   message_id    123036 non-null  object        \n",
      " 1   message_date  123036 non-null  datetime64[ns]\n",
      " 2   user_id       123036 non-null  int64         \n",
      " 3   month         123036 non-null  int64         \n",
      "dtypes: datetime64[ns](1), int64(2), object(1)\n",
      "memory usage: 3.8+ MB\n",
      "None\n",
      "<class 'pandas.core.frame.DataFrame'>\n",
      "RangeIndex: 202607 entries, 0 to 202606\n",
      "Data columns (total 5 columns):\n",
      " #   Column     Non-Null Count   Dtype         \n",
      "---  ------     --------------   -----         \n",
      " 0   call_id    202607 non-null  object        \n",
      " 1   call_date  202607 non-null  datetime64[ns]\n",
      " 2   duration   202607 non-null  float64       \n",
      " 3   user_id    202607 non-null  int64         \n",
      " 4   month      202607 non-null  int64         \n",
      "dtypes: datetime64[ns](1), float64(1), int64(2), object(1)\n",
      "memory usage: 7.7+ MB\n",
      "None\n",
      "<class 'pandas.core.frame.DataFrame'>\n",
      "RangeIndex: 149396 entries, 0 to 149395\n",
      "Data columns (total 6 columns):\n",
      " #   Column        Non-Null Count   Dtype         \n",
      "---  ------        --------------   -----         \n",
      " 0   Unnamed: 0    149396 non-null  int64         \n",
      " 1   session_id    149396 non-null  object        \n",
      " 2   mb_used       149396 non-null  float64       \n",
      " 3   session_date  149396 non-null  datetime64[ns]\n",
      " 4   user_id       149396 non-null  int64         \n",
      " 5   month         149396 non-null  int64         \n",
      "dtypes: datetime64[ns](1), float64(1), int64(3), object(1)\n",
      "memory usage: 6.8+ MB\n",
      "None\n"
     ]
    }
   ],
   "source": [
    "users_df['churn_date'] = pd.to_datetime(users_df['churn_date'], format='%Y-%m-%d', errors='coerce')\n",
    "users_df['reg_date'] = pd.to_datetime(users_df['reg_date'], format='%Y-%m-%d', errors='coerce')\n",
    "\n",
    "messages_df['message_date'] = pd.to_datetime(messages_df['message_date'], format='%Y-%m-%d', errors='coerce')\n",
    "# В каком месяце совершено действие?\n",
    "messages_df['month'] = messages_df['message_date'].dt.month\n",
    "messages_df = messages_df.rename(columns={'id': 'message_id'})\n",
    "\n",
    "calls_df['call_date'] = pd.to_datetime(calls_df['call_date'], format='%Y-%m-%d', errors='coerce')\n",
    "# В каком месяце совершено действие?\n",
    "calls_df['month'] = calls_df['call_date'].dt.month\n",
    "calls_df = calls_df.rename(columns={'id': 'call_id'})\n",
    "\n",
    "internet_df['session_date'] = pd.to_datetime(internet_df['session_date'], format='%Y-%m-%d', errors='coerce')\n",
    "# В каком месяце совершено действие?\n",
    "internet_df['month'] = internet_df['session_date'].dt.month\n",
    "internet_df = internet_df.rename(columns={'id': 'session_id'})\n",
    "\n",
    "# Проверка\n",
    "for df in [users_df, messages_df, calls_df, internet_df]:\n",
    "    print(df.info())"
   ]
  },
  {
   "cell_type": "markdown",
   "metadata": {},
   "source": [
    "❓: Заметил, что apply() работает довольно медленно. Он выполняет операции поэлементно?"
   ]
  },
  {
   "cell_type": "markdown",
   "metadata": {},
   "source": [
    "<div class=\"alert alert-warning\">\n",
    "<b> Комментарий ревьюера ⚠ </b>\n",
    "\n",
    "Да, `apply()` хорошо применять в случае, когда мы не можем использовать методы pandas обработывающие сразу весь DataFrame или Series. Они гораздо быстрее. В данном случае оптимальный вариант использовать просто:\n",
    "    \n",
    "`pd.to_datetime(data['column'], format='%Y-%m-%d')`\n",
    "\n",
    "</div>"
   ]
  },
  {
   "cell_type": "markdown",
   "metadata": {},
   "source": [
    "<div class=\"alert alert-info\">\n",
    "<b> Комментарий студента</b>\n",
    "\n",
    "Переделал\n",
    "\n",
    "</div>"
   ]
  },
  {
   "cell_type": "markdown",
   "metadata": {},
   "source": [
    "В таблице `internet_df` содержится колонка, дублирующая индексы. Вероятно, при сохранении датафрейма не был установлен флаг `index=False`.\n",
    "\n",
    "Удалю эту колонку."
   ]
  },
  {
   "cell_type": "code",
   "execution_count": 22,
   "metadata": {},
   "outputs": [
    {
     "data": {
      "text/plain": [
       "Index(['Unnamed: 0', 'session_id', 'mb_used', 'session_date', 'user_id',\n",
       "       'month'],\n",
       "      dtype='object')"
      ]
     },
     "execution_count": 22,
     "metadata": {},
     "output_type": "execute_result"
    }
   ],
   "source": [
    "internet_df.columns"
   ]
  },
  {
   "cell_type": "code",
   "execution_count": 23,
   "metadata": {},
   "outputs": [
    {
     "name": "stdout",
     "output_type": "stream",
     "text": [
      "<class 'pandas.core.frame.DataFrame'>\n",
      "RangeIndex: 149396 entries, 0 to 149395\n",
      "Data columns (total 5 columns):\n",
      " #   Column        Non-Null Count   Dtype         \n",
      "---  ------        --------------   -----         \n",
      " 0   session_id    149396 non-null  object        \n",
      " 1   mb_used       149396 non-null  float64       \n",
      " 2   session_date  149396 non-null  datetime64[ns]\n",
      " 3   user_id       149396 non-null  int64         \n",
      " 4   month         149396 non-null  int64         \n",
      "dtypes: datetime64[ns](1), float64(1), int64(2), object(1)\n",
      "memory usage: 5.7+ MB\n"
     ]
    }
   ],
   "source": [
    "internet_df = internet_df.drop(['Unnamed: 0'], axis=1)\n",
    "\n",
    "# Проверка\n",
    "internet_df.info()"
   ]
  },
  {
   "cell_type": "markdown",
   "metadata": {},
   "source": [
    "> - Привел колонки с датами к типу datetime64 (с учетом пропусков)\n",
    "> - Убрал неинформативную колонку из `internet_df`"
   ]
  },
  {
   "cell_type": "markdown",
   "metadata": {},
   "source": [
    "<div class=\"alert alert-success\">\n",
    "<b> Комментарий ревьюера ✅ </b>\n",
    "\n",
    "1. Все даты приведены к формату datetime, выделен номер месяца в отдельный столбец. Кстати, когда выделяешь месяц из даты методом `month` нужно убедиться, что у нас данные только за один год. Если у нас содержатся данные за несколько лет, то при группировке по месяцам с одинаковым номером, но разного года, данные будут агрегироваться не верно. В таких случаях можно использовать метод `astype('datetime64[M]')` — он возвращает первую дату месяца.\n",
    "    \n",
    "    `data['month'] = data['column'].astype('datetime64[M]')`\n",
    "\n",
    "1. Правильное решение удалить столбец `Unnamed: 0`\n",
    "\n",
    "</div>"
   ]
  },
  {
   "cell_type": "markdown",
   "metadata": {},
   "source": [
    "<div class=\"alert alert-info\">\n",
    "<b> Комментарий студента</b>\n",
    "\n",
    "Добавляю проверку по первому пункту в ячейке ниже\n",
    "\n",
    "</div>"
   ]
  },
  {
   "cell_type": "code",
   "execution_count": 24,
   "metadata": {},
   "outputs": [
    {
     "name": "stdout",
     "output_type": "stream",
     "text": [
      "[  nan 2018.]\n",
      "[2018]\n"
     ]
    }
   ],
   "source": [
    "print(users_df['churn_date'].dt.year.unique())\n",
    "\n",
    "print(users_df['reg_date'].dt.year.unique())"
   ]
  },
  {
   "cell_type": "markdown",
   "metadata": {},
   "source": [
    "### Округление звонков"
   ]
  },
  {
   "cell_type": "code",
   "execution_count": 25,
   "metadata": {},
   "outputs": [
    {
     "data": {
      "text/html": [
       "<div>\n",
       "<style scoped>\n",
       "    .dataframe tbody tr th:only-of-type {\n",
       "        vertical-align: middle;\n",
       "    }\n",
       "\n",
       "    .dataframe tbody tr th {\n",
       "        vertical-align: top;\n",
       "    }\n",
       "\n",
       "    .dataframe thead th {\n",
       "        text-align: right;\n",
       "    }\n",
       "</style>\n",
       "<table border=\"1\" class=\"dataframe\">\n",
       "  <thead>\n",
       "    <tr style=\"text-align: right;\">\n",
       "      <th></th>\n",
       "      <th>call_id</th>\n",
       "      <th>call_date</th>\n",
       "      <th>duration</th>\n",
       "      <th>user_id</th>\n",
       "      <th>month</th>\n",
       "    </tr>\n",
       "  </thead>\n",
       "  <tbody>\n",
       "    <tr>\n",
       "      <th>0</th>\n",
       "      <td>1000_0</td>\n",
       "      <td>2018-07-25</td>\n",
       "      <td>0.00</td>\n",
       "      <td>1000</td>\n",
       "      <td>7</td>\n",
       "    </tr>\n",
       "    <tr>\n",
       "      <th>1</th>\n",
       "      <td>1000_1</td>\n",
       "      <td>2018-08-17</td>\n",
       "      <td>0.00</td>\n",
       "      <td>1000</td>\n",
       "      <td>8</td>\n",
       "    </tr>\n",
       "    <tr>\n",
       "      <th>2</th>\n",
       "      <td>1000_2</td>\n",
       "      <td>2018-06-11</td>\n",
       "      <td>2.85</td>\n",
       "      <td>1000</td>\n",
       "      <td>6</td>\n",
       "    </tr>\n",
       "    <tr>\n",
       "      <th>3</th>\n",
       "      <td>1000_3</td>\n",
       "      <td>2018-09-21</td>\n",
       "      <td>13.80</td>\n",
       "      <td>1000</td>\n",
       "      <td>9</td>\n",
       "    </tr>\n",
       "    <tr>\n",
       "      <th>4</th>\n",
       "      <td>1000_4</td>\n",
       "      <td>2018-12-15</td>\n",
       "      <td>5.18</td>\n",
       "      <td>1000</td>\n",
       "      <td>12</td>\n",
       "    </tr>\n",
       "  </tbody>\n",
       "</table>\n",
       "</div>"
      ],
      "text/plain": [
       "  call_id  call_date  duration  user_id  month\n",
       "0  1000_0 2018-07-25      0.00     1000      7\n",
       "1  1000_1 2018-08-17      0.00     1000      8\n",
       "2  1000_2 2018-06-11      2.85     1000      6\n",
       "3  1000_3 2018-09-21     13.80     1000      9\n",
       "4  1000_4 2018-12-15      5.18     1000     12"
      ]
     },
     "execution_count": 25,
     "metadata": {},
     "output_type": "execute_result"
    }
   ],
   "source": [
    "calls_df.head()"
   ]
  },
  {
   "cell_type": "markdown",
   "metadata": {},
   "source": [
    "<div class=\"alert alert-success\">\n",
    "<b> Комментарий ревьюера ✅ </b>\n",
    "\n",
    "Постарайся не выводить весь датафрейм целиком — так можно «уронить» Jupyter Hub. Лучше использовать для вывода первых и последних строк методы `head()` и `tail()`. Или метод `sample()` для вывода рандомной строки датафрейма.\n",
    "\n",
    "</div>"
   ]
  },
  {
   "cell_type": "code",
   "execution_count": 26,
   "metadata": {},
   "outputs": [
    {
     "data": {
      "text/html": [
       "<div>\n",
       "<style scoped>\n",
       "    .dataframe tbody tr th:only-of-type {\n",
       "        vertical-align: middle;\n",
       "    }\n",
       "\n",
       "    .dataframe tbody tr th {\n",
       "        vertical-align: top;\n",
       "    }\n",
       "\n",
       "    .dataframe thead th {\n",
       "        text-align: right;\n",
       "    }\n",
       "</style>\n",
       "<table border=\"1\" class=\"dataframe\">\n",
       "  <thead>\n",
       "    <tr style=\"text-align: right;\">\n",
       "      <th></th>\n",
       "      <th>call_id</th>\n",
       "      <th>call_date</th>\n",
       "      <th>duration</th>\n",
       "      <th>user_id</th>\n",
       "      <th>month</th>\n",
       "    </tr>\n",
       "  </thead>\n",
       "  <tbody>\n",
       "    <tr>\n",
       "      <th>0</th>\n",
       "      <td>1000_0</td>\n",
       "      <td>2018-07-25</td>\n",
       "      <td>0</td>\n",
       "      <td>1000</td>\n",
       "      <td>7</td>\n",
       "    </tr>\n",
       "    <tr>\n",
       "      <th>1</th>\n",
       "      <td>1000_1</td>\n",
       "      <td>2018-08-17</td>\n",
       "      <td>0</td>\n",
       "      <td>1000</td>\n",
       "      <td>8</td>\n",
       "    </tr>\n",
       "    <tr>\n",
       "      <th>2</th>\n",
       "      <td>1000_2</td>\n",
       "      <td>2018-06-11</td>\n",
       "      <td>3</td>\n",
       "      <td>1000</td>\n",
       "      <td>6</td>\n",
       "    </tr>\n",
       "    <tr>\n",
       "      <th>3</th>\n",
       "      <td>1000_3</td>\n",
       "      <td>2018-09-21</td>\n",
       "      <td>14</td>\n",
       "      <td>1000</td>\n",
       "      <td>9</td>\n",
       "    </tr>\n",
       "    <tr>\n",
       "      <th>4</th>\n",
       "      <td>1000_4</td>\n",
       "      <td>2018-12-15</td>\n",
       "      <td>6</td>\n",
       "      <td>1000</td>\n",
       "      <td>12</td>\n",
       "    </tr>\n",
       "  </tbody>\n",
       "</table>\n",
       "</div>"
      ],
      "text/plain": [
       "  call_id  call_date  duration  user_id  month\n",
       "0  1000_0 2018-07-25         0     1000      7\n",
       "1  1000_1 2018-08-17         0     1000      8\n",
       "2  1000_2 2018-06-11         3     1000      6\n",
       "3  1000_3 2018-09-21        14     1000      9\n",
       "4  1000_4 2018-12-15         6     1000     12"
      ]
     },
     "execution_count": 26,
     "metadata": {},
     "output_type": "execute_result"
    }
   ],
   "source": [
    "# После округления в большую сторону поменяю тип на int\n",
    "calls_df['duration'] = np.ceil(calls_df['duration']).astype(int)\n",
    "\n",
    "calls_df.head()"
   ]
  },
  {
   "cell_type": "markdown",
   "metadata": {},
   "source": [
    "<div class=\"alert alert-success\">\n",
    "<b> Комментарий ревьюера ✅ </b>\n",
    "\n",
    "Ты верно выполнил округление минут разговора и выбрал для этого оптимальный метод.\n",
    "\n",
    "</div>"
   ]
  },
  {
   "cell_type": "markdown",
   "metadata": {},
   "source": [
    "### Объединение данных в одну таблицу"
   ]
  },
  {
   "cell_type": "code",
   "execution_count": 27,
   "metadata": {},
   "outputs": [
    {
     "name": "stdout",
     "output_type": "stream",
     "text": [
      "Index(['user_id', 'age', 'churn_date', 'city', 'first_name', 'last_name',\n",
      "       'reg_date', 'tariff'],\n",
      "      dtype='object')\n",
      "Index(['message_id', 'message_date', 'user_id', 'month'], dtype='object')\n",
      "Index(['call_id', 'call_date', 'duration', 'user_id', 'month'], dtype='object')\n",
      "Index(['session_id', 'mb_used', 'session_date', 'user_id', 'month'], dtype='object')\n"
     ]
    }
   ],
   "source": [
    "for df in [users_df, messages_df, calls_df, internet_df]:\n",
    "    print(df.columns)"
   ]
  },
  {
   "cell_type": "code",
   "execution_count": 28,
   "metadata": {},
   "outputs": [],
   "source": [
    "sms_grouped = messages_df.groupby(['user_id', 'month'])['message_id'].count()\n",
    "sms_grouped = pd.DataFrame(sms_grouped)\n",
    "sms_grouped.columns = ['sms_count']\n",
    "\n",
    "calls_grouped = calls_df.groupby(['user_id', 'month'])['duration'].sum()\n",
    "calls_grouped = pd.DataFrame(calls_grouped)\n",
    "calls_grouped.columns = ['calls_duration']\n",
    "\n",
    "web_grouped = internet_df.groupby(['user_id', 'month'])['mb_used'].sum()\n",
    "web_grouped = pd.DataFrame(web_grouped)\n",
    "web_grouped.columns = ['month_mb']\n",
    "\n",
    "# Гигабайт использовано в месяц каждым пользователем\n",
    "web_grouped['gb_month'] = web_grouped['month_mb'] / 1024\n",
    "\n",
    "# Округляю гигабайты в большую сторону и привожу к целочисленному типу\n",
    "web_grouped['gb_month'] = np.ceil(web_grouped['gb_month']).astype(int)\n",
    "\n",
    "# Данные по мегабайтам не нужны\n",
    "web_grouped = pd.DataFrame(web_grouped['gb_month'])"
   ]
  },
  {
   "cell_type": "code",
   "execution_count": 29,
   "metadata": {},
   "outputs": [
    {
     "name": "stdout",
     "output_type": "stream",
     "text": [
      "sms_count    123036\n",
      "dtype: int64\n",
      "calls_duration    1450301\n",
      "dtype: int64\n",
      "gb_month    55599\n",
      "dtype: int64\n"
     ]
    }
   ],
   "source": [
    "print(sms_grouped.sum())\n",
    "print(calls_grouped.sum())\n",
    "print(web_grouped.sum())"
   ]
  },
  {
   "cell_type": "code",
   "execution_count": 30,
   "metadata": {},
   "outputs": [
    {
     "name": "stdout",
     "output_type": "stream",
     "text": [
      "sms_count         1.23e+05\n",
      "calls_duration    1.45e+06\n",
      "gb_month          5.56e+04\n",
      "dtype: float64\n",
      "(3214, 3)\n"
     ]
    }
   ],
   "source": [
    "joined_df = sms_grouped.join([calls_grouped, web_grouped], how='outer')\n",
    "\n",
    "# Проверка объединения простым суммированием\n",
    "print(joined_df.sum())\n",
    "print(joined_df.shape)\n",
    "\n",
    "# Для упрощения объединения (сравнить результат с ячейкой выше)\n",
    "joined_df = joined_df.reset_index()"
   ]
  },
  {
   "cell_type": "code",
   "execution_count": 31,
   "metadata": {},
   "outputs": [],
   "source": [
    "# Заполняю пропуски нулями, чтобы корректно считать статистики в дальнейшем\n",
    "joined_df = joined_df.fillna(0)"
   ]
  },
  {
   "cell_type": "code",
   "execution_count": 32,
   "metadata": {},
   "outputs": [
    {
     "data": {
      "text/html": [
       "<div>\n",
       "<style scoped>\n",
       "    .dataframe tbody tr th:only-of-type {\n",
       "        vertical-align: middle;\n",
       "    }\n",
       "\n",
       "    .dataframe tbody tr th {\n",
       "        vertical-align: top;\n",
       "    }\n",
       "\n",
       "    .dataframe thead th {\n",
       "        text-align: right;\n",
       "    }\n",
       "</style>\n",
       "<table border=\"1\" class=\"dataframe\">\n",
       "  <thead>\n",
       "    <tr style=\"text-align: right;\">\n",
       "      <th></th>\n",
       "      <th></th>\n",
       "      <th>sms_count</th>\n",
       "      <th>calls_duration</th>\n",
       "      <th>gb_month</th>\n",
       "      <th>tariff</th>\n",
       "      <th>city</th>\n",
       "    </tr>\n",
       "    <tr>\n",
       "      <th>user_id</th>\n",
       "      <th>month</th>\n",
       "      <th></th>\n",
       "      <th></th>\n",
       "      <th></th>\n",
       "      <th></th>\n",
       "      <th></th>\n",
       "    </tr>\n",
       "  </thead>\n",
       "  <tbody>\n",
       "    <tr>\n",
       "      <th rowspan=\"5\" valign=\"top\">1000</th>\n",
       "      <th>5</th>\n",
       "      <td>22</td>\n",
       "      <td>159</td>\n",
       "      <td>3</td>\n",
       "      <td>ultra</td>\n",
       "      <td>Краснодар</td>\n",
       "    </tr>\n",
       "    <tr>\n",
       "      <th>6</th>\n",
       "      <td>60</td>\n",
       "      <td>172</td>\n",
       "      <td>23</td>\n",
       "      <td>ultra</td>\n",
       "      <td>Краснодар</td>\n",
       "    </tr>\n",
       "    <tr>\n",
       "      <th>7</th>\n",
       "      <td>75</td>\n",
       "      <td>340</td>\n",
       "      <td>14</td>\n",
       "      <td>ultra</td>\n",
       "      <td>Краснодар</td>\n",
       "    </tr>\n",
       "    <tr>\n",
       "      <th>8</th>\n",
       "      <td>81</td>\n",
       "      <td>408</td>\n",
       "      <td>14</td>\n",
       "      <td>ultra</td>\n",
       "      <td>Краснодар</td>\n",
       "    </tr>\n",
       "    <tr>\n",
       "      <th>9</th>\n",
       "      <td>57</td>\n",
       "      <td>466</td>\n",
       "      <td>15</td>\n",
       "      <td>ultra</td>\n",
       "      <td>Краснодар</td>\n",
       "    </tr>\n",
       "  </tbody>\n",
       "</table>\n",
       "</div>"
      ],
      "text/plain": [
       "               sms_count  calls_duration  gb_month tariff       city\n",
       "user_id month                                                       \n",
       "1000    5             22             159         3  ultra  Краснодар\n",
       "        6             60             172        23  ultra  Краснодар\n",
       "        7             75             340        14  ultra  Краснодар\n",
       "        8             81             408        14  ultra  Краснодар\n",
       "        9             57             466        15  ultra  Краснодар"
      ]
     },
     "execution_count": 32,
     "metadata": {},
     "output_type": "execute_result"
    }
   ],
   "source": [
    "# Назначаю название тарифа каждаму пользователю\n",
    "joined_df = joined_df.merge(users_df[['user_id', 'tariff', 'city']], left_on='user_id', right_on='user_id')\n",
    "\n",
    "joined_df['sms_count'] = joined_df['sms_count'].astype(int)\n",
    "joined_df['calls_duration'] = joined_df['calls_duration'].astype(int)\n",
    "joined_df['gb_month'] = joined_df['gb_month'].astype(int)\n",
    "\n",
    "joined_df = joined_df.set_index(['user_id', 'month'])\n",
    "\n",
    "joined_df.head()"
   ]
  },
  {
   "cell_type": "markdown",
   "metadata": {},
   "source": [
    "<div class=\"alert alert-danger\">\n",
    "<b> Комментарий ревьюера ❌</b>\n",
    "\n",
    "Ты пошел достаточно сложным путем, во время которого создаешь много новых переменных, которые дублируют и множат информацию. Многое из того, что ты делаешь сложными функциями, можно выполнить простыми методами.\n",
    "    \n",
    "Что нас интересует: количество звонков, сообщений, объем интернет-трафика и выручка по каждому пользователю в месяц, потом средние значения и разброс этих параметров по тарифам.\n",
    "    \n",
    "Как мы можем к этому придти:\n",
    "    \n",
    "- ~сгруппировать данные по пользователю и месяцу — получаем три сводные таблицы: звонки, сообщения, интернет;~\n",
    "    \n",
    "- ~объединяем эти таблицы по двум столбцам — пользователи и месяцы;~\n",
    "    \n",
    "- ~проверям успешность объединения;~\n",
    "    \n",
    "- ~только после этого проставляем по id пользователя название тарифа;~\n",
    "    \n",
    "- ~вычисляем для каждой строки (а каждая строка у нас соответствует одному пользователю и одному месяцу) выручку — здесь как раз удобно написать функцию, которая будет в зависимости от тарифа считать сколько было использовано услуг сверх тарифа, и сколько за это заплачено, суммировать абонентскую плату и доплаты;~\n",
    "    \n",
    "- ~имея одну такую таблицу мы можем делая срезы или обычной группировкой посчитать средние значения, дисперсию и стандарстное отклонение по всем показателям и в разрезе тарифов (буквально одним действием);~\n",
    "    \n",
    "- по такой таблице ты можешь так же построить графики.\n",
    "    \n",
    "Плюсы при таком порядке решения:\n",
    "    \n",
    "- объединение делаем один раз вместо множества;\n",
    "    \n",
    "- экономим место и не крутим гигантские датафреймы;\n",
    "    \n",
    "- сохраняем меньше результатов промежуточных вычислений (например, отдельно переплаты по минутам, смс и гигабайтам);\n",
    "    \n",
    "- меньше шансов «повесить» Jupyter Hub.\n",
    "\n",
    "Попробуй, пожалуйста, пойти таким путем. Если возникнут сложности, я могу тебе помочь.\n",
    "</div>"
   ]
  },
  {
   "cell_type": "markdown",
   "metadata": {},
   "source": [
    "## 3. Помесячная выручка с каждого пользователя <a class=\"anchor\" id=\"section_3\"></a>"
   ]
  },
  {
   "cell_type": "code",
   "execution_count": 33,
   "metadata": {},
   "outputs": [
    {
     "data": {
      "text/html": [
       "<div>\n",
       "<style scoped>\n",
       "    .dataframe tbody tr th:only-of-type {\n",
       "        vertical-align: middle;\n",
       "    }\n",
       "\n",
       "    .dataframe tbody tr th {\n",
       "        vertical-align: top;\n",
       "    }\n",
       "\n",
       "    .dataframe thead th {\n",
       "        text-align: right;\n",
       "    }\n",
       "</style>\n",
       "<table border=\"1\" class=\"dataframe\">\n",
       "  <thead>\n",
       "    <tr style=\"text-align: right;\">\n",
       "      <th></th>\n",
       "      <th>messages_included</th>\n",
       "      <th>mb_per_month_included</th>\n",
       "      <th>minutes_included</th>\n",
       "      <th>rub_monthly_fee</th>\n",
       "      <th>rub_per_gb</th>\n",
       "      <th>rub_per_message</th>\n",
       "      <th>rub_per_minute</th>\n",
       "      <th>tariff_name</th>\n",
       "    </tr>\n",
       "  </thead>\n",
       "  <tbody>\n",
       "    <tr>\n",
       "      <th>0</th>\n",
       "      <td>50</td>\n",
       "      <td>15360</td>\n",
       "      <td>500</td>\n",
       "      <td>550</td>\n",
       "      <td>200</td>\n",
       "      <td>3</td>\n",
       "      <td>3</td>\n",
       "      <td>smart</td>\n",
       "    </tr>\n",
       "    <tr>\n",
       "      <th>1</th>\n",
       "      <td>1000</td>\n",
       "      <td>30720</td>\n",
       "      <td>3000</td>\n",
       "      <td>1950</td>\n",
       "      <td>150</td>\n",
       "      <td>1</td>\n",
       "      <td>1</td>\n",
       "      <td>ultra</td>\n",
       "    </tr>\n",
       "  </tbody>\n",
       "</table>\n",
       "</div>"
      ],
      "text/plain": [
       "   messages_included  mb_per_month_included  minutes_included  \\\n",
       "0                 50                  15360               500   \n",
       "1               1000                  30720              3000   \n",
       "\n",
       "   rub_monthly_fee  rub_per_gb  rub_per_message  rub_per_minute tariff_name  \n",
       "0              550         200                3               3       smart  \n",
       "1             1950         150                1               1       ultra  "
      ]
     },
     "execution_count": 33,
     "metadata": {},
     "output_type": "execute_result"
    }
   ],
   "source": [
    "tariffs_df"
   ]
  },
  {
   "cell_type": "code",
   "execution_count": 34,
   "metadata": {},
   "outputs": [],
   "source": [
    "# Параметры тарифов\n",
    "smart_parameters = tariffs_df[tariffs_df['tariff_name']=='smart']\n",
    "ultra_parameters = tariffs_df[tariffs_df['tariff_name']=='ultra']\n",
    "\n",
    "# Звонки\n",
    "smart_minutes_limit = smart_parameters['minutes_included'].values[0]\n",
    "smart_minute_overpay = smart_parameters['rub_per_minute'].values[0]\n",
    "\n",
    "ultra_minutes_limit = ultra_parameters['minutes_included'].values[0]\n",
    "ultra_minute_overpay = ultra_parameters['rub_per_minute'].values[0]\n",
    "\n",
    "smart_sms_limit = smart_parameters['messages_included'].values[0]\n",
    "smart_sms_overpay = smart_parameters['rub_per_message'].values[0]\n",
    "\n",
    "ultra_sms_limit = ultra_parameters['messages_included'].values[0]\n",
    "ultra_sms_overpay = ultra_parameters['rub_per_message'].values[0]\n",
    "\n",
    "# Параметры тарифов\n",
    "smart_parameters = tariffs_df[tariffs_df['tariff_name']=='smart']\n",
    "ultra_parameters = tariffs_df[tariffs_df['tariff_name']=='ultra']\n",
    "\n",
    "# Интернет-трафик\n",
    "smart_web_limit = smart_parameters['mb_per_month_included'].values[0] / 1024\n",
    "smart_web_overpay = smart_parameters['rub_per_gb'].values[0]\n",
    "\n",
    "ultra_web_limit = ultra_parameters['mb_per_month_included'].values[0] / 1024\n",
    "ultra_web_overpay = ultra_parameters['rub_per_gb'].values[0]"
   ]
  },
  {
   "cell_type": "code",
   "execution_count": 35,
   "metadata": {},
   "outputs": [],
   "source": [
    "def calls_revenue(stat_df,\n",
    "                  minutes_tariff,\n",
    "                  overpay_minute):\n",
    "\n",
    "    # Остаток по минутам\n",
    "    stat_df['minutes_left'] = minutes_tariff - stat_df['calls_duration']\n",
    "\n",
    "    # Перебор по минутам\n",
    "    minutes_left = stat_df['minutes_left']\n",
    "    stat_df['minutes_over'] = np.where(minutes_left < 0, minutes_left, 0)\n",
    "    stat_df['minutes_over'] = stat_df['minutes_over'].abs()\n",
    "\n",
    "    # Переплата по минутам\n",
    "    stat_df['call_overpay'] = stat_df['minutes_over'] * overpay_minute\n",
    "\n",
    "    return stat_df"
   ]
  },
  {
   "cell_type": "code",
   "execution_count": 36,
   "metadata": {},
   "outputs": [],
   "source": [
    "def revenue(limit: int, overpay_per_unit: int, used: int) -> int:\n",
    "    '''\n",
    "    Доход с пользователя за пользование услугами (сообщения/звонки/интернет)\n",
    "\n",
    "    Args:\n",
    "     limit (int): Лимит по тарифу\n",
    "     overpay_per_unit (int): Переплата за единицу (sms/min/gb)\n",
    "     used (int): Использовано пользователем\n",
    "\n",
    "    Returns:\n",
    "     int: Доход в рублях\n",
    "    '''\n",
    "\n",
    "    # Остаток\n",
    "    left = limit - used\n",
    "\n",
    "    # Перебор\n",
    "    if left <= 0:\n",
    "        over = np.abs(left)\n",
    "    else:\n",
    "        over = 0\n",
    "\n",
    "    # Переплата\n",
    "    overpay = over * overpay_per_unit\n",
    "\n",
    "    return overpay"
   ]
  },
  {
   "cell_type": "code",
   "execution_count": 37,
   "metadata": {},
   "outputs": [],
   "source": [
    "def calls_revenue(stat_df, tariffs_df=tariffs_df):\n",
    "    \n",
    "    minutes_used = stat_df['calls_duration']\n",
    "    tariff = stat_df['tariff']\n",
    "    \n",
    "    \n",
    "    if tariff == 'smart':\n",
    "        return revenue(limit=smart_minutes_limit,\n",
    "                       overpay_per_unit=smart_minute_overpay,\n",
    "                       used=minutes_used)\n",
    "    \n",
    "    elif tariff == 'ultra':\n",
    "        return revenue(limit=ultra_minutes_limit,\n",
    "                       overpay_per_unit=ultra_minute_overpay,\n",
    "                       used=minutes_used)\n",
    "\n",
    "    \n",
    "def sms_revenue(stat_df, tariffs_df=tariffs_df):\n",
    "    \n",
    "    sms_used = stat_df['sms_count']\n",
    "    tariff = stat_df['tariff']\n",
    "    \n",
    "    \n",
    "    if tariff == 'smart':\n",
    "        return revenue(limit=smart_sms_limit,\n",
    "                       overpay_per_unit=smart_sms_overpay,\n",
    "                       used=sms_used)\n",
    "    \n",
    "    elif tariff == 'ultra':\n",
    "        return revenue(limit=ultra_sms_limit,\n",
    "                       overpay_per_unit=ultra_sms_overpay,\n",
    "                       used=sms_used)\n",
    "\n",
    "    \n",
    "def web_revenue(stat_df, tariffs_df=tariffs_df):\n",
    "    \n",
    "    gb_used = stat_df['gb_month']\n",
    "    tariff = stat_df['tariff']\n",
    "    \n",
    "    \n",
    "    if tariff == 'smart':\n",
    "        return revenue(limit=smart_web_limit,\n",
    "                       overpay_per_unit=smart_web_overpay,\n",
    "                       used=gb_used)\n",
    "    \n",
    "    elif tariff == 'ultra':\n",
    "        return revenue(limit=ultra_web_limit,\n",
    "                       overpay_per_unit=ultra_web_overpay,\n",
    "                       used=gb_used)"
   ]
  },
  {
   "cell_type": "code",
   "execution_count": 38,
   "metadata": {},
   "outputs": [
    {
     "data": {
      "text/html": [
       "<div>\n",
       "<style scoped>\n",
       "    .dataframe tbody tr th:only-of-type {\n",
       "        vertical-align: middle;\n",
       "    }\n",
       "\n",
       "    .dataframe tbody tr th {\n",
       "        vertical-align: top;\n",
       "    }\n",
       "\n",
       "    .dataframe thead th {\n",
       "        text-align: right;\n",
       "    }\n",
       "</style>\n",
       "<table border=\"1\" class=\"dataframe\">\n",
       "  <thead>\n",
       "    <tr style=\"text-align: right;\">\n",
       "      <th></th>\n",
       "      <th></th>\n",
       "      <th>sms_count</th>\n",
       "      <th>calls_duration</th>\n",
       "      <th>gb_month</th>\n",
       "      <th>tariff</th>\n",
       "      <th>city</th>\n",
       "      <th>calls_revenue</th>\n",
       "      <th>sms_revenue</th>\n",
       "      <th>web_revenue</th>\n",
       "      <th>calls_scs_web</th>\n",
       "      <th>fee</th>\n",
       "      <th>total_revenue</th>\n",
       "    </tr>\n",
       "    <tr>\n",
       "      <th>user_id</th>\n",
       "      <th>month</th>\n",
       "      <th></th>\n",
       "      <th></th>\n",
       "      <th></th>\n",
       "      <th></th>\n",
       "      <th></th>\n",
       "      <th></th>\n",
       "      <th></th>\n",
       "      <th></th>\n",
       "      <th></th>\n",
       "      <th></th>\n",
       "      <th></th>\n",
       "    </tr>\n",
       "  </thead>\n",
       "  <tbody>\n",
       "    <tr>\n",
       "      <th>1498</th>\n",
       "      <th>10</th>\n",
       "      <td>42</td>\n",
       "      <td>247</td>\n",
       "      <td>21</td>\n",
       "      <td>smart</td>\n",
       "      <td>Владикавказ</td>\n",
       "      <td>0</td>\n",
       "      <td>0</td>\n",
       "      <td>1200</td>\n",
       "      <td>1200</td>\n",
       "      <td>550</td>\n",
       "      <td>1750</td>\n",
       "    </tr>\n",
       "    <tr>\n",
       "      <th rowspan=\"4\" valign=\"top\">1499</th>\n",
       "      <th>9</th>\n",
       "      <td>11</td>\n",
       "      <td>70</td>\n",
       "      <td>2</td>\n",
       "      <td>smart</td>\n",
       "      <td>Пермь</td>\n",
       "      <td>0</td>\n",
       "      <td>0</td>\n",
       "      <td>0</td>\n",
       "      <td>0</td>\n",
       "      <td>550</td>\n",
       "      <td>550</td>\n",
       "    </tr>\n",
       "    <tr>\n",
       "      <th>10</th>\n",
       "      <td>48</td>\n",
       "      <td>449</td>\n",
       "      <td>18</td>\n",
       "      <td>smart</td>\n",
       "      <td>Пермь</td>\n",
       "      <td>0</td>\n",
       "      <td>0</td>\n",
       "      <td>600</td>\n",
       "      <td>600</td>\n",
       "      <td>550</td>\n",
       "      <td>1150</td>\n",
       "    </tr>\n",
       "    <tr>\n",
       "      <th>11</th>\n",
       "      <td>59</td>\n",
       "      <td>612</td>\n",
       "      <td>18</td>\n",
       "      <td>smart</td>\n",
       "      <td>Пермь</td>\n",
       "      <td>336</td>\n",
       "      <td>27</td>\n",
       "      <td>600</td>\n",
       "      <td>963</td>\n",
       "      <td>550</td>\n",
       "      <td>1513</td>\n",
       "    </tr>\n",
       "    <tr>\n",
       "      <th>12</th>\n",
       "      <td>66</td>\n",
       "      <td>492</td>\n",
       "      <td>13</td>\n",
       "      <td>smart</td>\n",
       "      <td>Пермь</td>\n",
       "      <td>0</td>\n",
       "      <td>48</td>\n",
       "      <td>0</td>\n",
       "      <td>48</td>\n",
       "      <td>550</td>\n",
       "      <td>598</td>\n",
       "    </tr>\n",
       "  </tbody>\n",
       "</table>\n",
       "</div>"
      ],
      "text/plain": [
       "               sms_count  calls_duration  gb_month tariff         city  \\\n",
       "user_id month                                                            \n",
       "1498    10            42             247        21  smart  Владикавказ   \n",
       "1499    9             11              70         2  smart        Пермь   \n",
       "        10            48             449        18  smart        Пермь   \n",
       "        11            59             612        18  smart        Пермь   \n",
       "        12            66             492        13  smart        Пермь   \n",
       "\n",
       "               calls_revenue  sms_revenue  web_revenue  calls_scs_web  fee  \\\n",
       "user_id month                                                                \n",
       "1498    10                 0            0         1200           1200  550   \n",
       "1499    9                  0            0            0              0  550   \n",
       "        10                 0            0          600            600  550   \n",
       "        11               336           27          600            963  550   \n",
       "        12                 0           48            0             48  550   \n",
       "\n",
       "               total_revenue  \n",
       "user_id month                 \n",
       "1498    10              1750  \n",
       "1499    9                550  \n",
       "        10              1150  \n",
       "        11              1513  \n",
       "        12               598  "
      ]
     },
     "execution_count": 38,
     "metadata": {},
     "output_type": "execute_result"
    }
   ],
   "source": [
    "joined_df['calls_revenue'] = joined_df.apply(calls_revenue, axis=1)\n",
    "joined_df['sms_revenue'] = joined_df.apply(sms_revenue, axis=1)\n",
    "joined_df['web_revenue'] = joined_df.apply(web_revenue, axis=1)\n",
    "\n",
    "joined_df['calls_scs_web'] = joined_df['calls_revenue'] + joined_df['sms_revenue'] + joined_df['web_revenue']\n",
    "\n",
    "smart_fee = int(tariffs_df.loc[tariffs_df['tariff_name'] == 'smart', 'rub_monthly_fee'])\n",
    "ultra_fee = int(tariffs_df.loc[tariffs_df['tariff_name'] == 'ultra', 'rub_monthly_fee'])\n",
    "\n",
    "joined_df['fee'] = np.where(joined_df['tariff'] == 'smart', smart_fee, ultra_fee)\n",
    "\n",
    "joined_df['web_revenue'] = joined_df['web_revenue'].astype(int)\n",
    "joined_df['calls_scs_web'] = joined_df['calls_scs_web'].astype(int)\n",
    "\n",
    "joined_df['total_revenue'] = joined_df['calls_revenue'] + joined_df['sms_revenue'] + joined_df['web_revenue'] + joined_df['fee']\n",
    "\n",
    "joined_df.tail()"
   ]
  },
  {
   "cell_type": "code",
   "execution_count": 39,
   "metadata": {},
   "outputs": [
    {
     "data": {
      "text/html": [
       "<div>\n",
       "<style scoped>\n",
       "    .dataframe tbody tr th:only-of-type {\n",
       "        vertical-align: middle;\n",
       "    }\n",
       "\n",
       "    .dataframe tbody tr th {\n",
       "        vertical-align: top;\n",
       "    }\n",
       "\n",
       "    .dataframe thead tr th {\n",
       "        text-align: left;\n",
       "    }\n",
       "\n",
       "    .dataframe thead tr:last-of-type th {\n",
       "        text-align: right;\n",
       "    }\n",
       "</style>\n",
       "<table border=\"1\" class=\"dataframe\">\n",
       "  <thead>\n",
       "    <tr>\n",
       "      <th></th>\n",
       "      <th colspan=\"3\" halign=\"left\">sms_count</th>\n",
       "      <th colspan=\"3\" halign=\"left\">calls_duration</th>\n",
       "      <th colspan=\"3\" halign=\"left\">gb_month</th>\n",
       "    </tr>\n",
       "    <tr>\n",
       "      <th></th>\n",
       "      <th>mean</th>\n",
       "      <th>var</th>\n",
       "      <th>std</th>\n",
       "      <th>mean</th>\n",
       "      <th>var</th>\n",
       "      <th>std</th>\n",
       "      <th>mean</th>\n",
       "      <th>var</th>\n",
       "      <th>std</th>\n",
       "    </tr>\n",
       "    <tr>\n",
       "      <th>tariff</th>\n",
       "      <th></th>\n",
       "      <th></th>\n",
       "      <th></th>\n",
       "      <th></th>\n",
       "      <th></th>\n",
       "      <th></th>\n",
       "      <th></th>\n",
       "      <th></th>\n",
       "      <th></th>\n",
       "    </tr>\n",
       "  </thead>\n",
       "  <tbody>\n",
       "    <tr>\n",
       "      <th>smart</th>\n",
       "      <td>33.38</td>\n",
       "      <td>796.81</td>\n",
       "      <td>28.23</td>\n",
       "      <td>417.93</td>\n",
       "      <td>36219.32</td>\n",
       "      <td>190.31</td>\n",
       "      <td>16.33</td>\n",
       "      <td>33.03</td>\n",
       "      <td>5.75</td>\n",
       "    </tr>\n",
       "    <tr>\n",
       "      <th>ultra</th>\n",
       "      <td>49.36</td>\n",
       "      <td>2285.27</td>\n",
       "      <td>47.80</td>\n",
       "      <td>526.62</td>\n",
       "      <td>100873.63</td>\n",
       "      <td>317.61</td>\n",
       "      <td>19.49</td>\n",
       "      <td>97.09</td>\n",
       "      <td>9.85</td>\n",
       "    </tr>\n",
       "  </tbody>\n",
       "</table>\n",
       "</div>"
      ],
      "text/plain": [
       "       sms_count                 calls_duration                    gb_month  \\\n",
       "            mean      var    std           mean        var     std     mean   \n",
       "tariff                                                                        \n",
       "smart      33.38   796.81  28.23         417.93   36219.32  190.31    16.33   \n",
       "ultra      49.36  2285.27  47.80         526.62  100873.63  317.61    19.49   \n",
       "\n",
       "                     \n",
       "          var   std  \n",
       "tariff               \n",
       "smart   33.03  5.75  \n",
       "ultra   97.09  9.85  "
      ]
     },
     "execution_count": 39,
     "metadata": {},
     "output_type": "execute_result"
    }
   ],
   "source": [
    "target_columns = ['sms_count', 'calls_duration', 'gb_month']\n",
    "\n",
    "joined_df.groupby('tariff')[target_columns].agg(['mean', 'var', 'std'])"
   ]
  },
  {
   "cell_type": "code",
   "execution_count": 40,
   "metadata": {},
   "outputs": [
    {
     "data": {
      "image/png": "[encoded data removed]",
      "text/plain": [
       "<Figure size 1440x432 with 3 Axes>"
      ]
     },
     "metadata": {},
     "output_type": "display_data"
    }
   ],
   "source": [
    "fig, axes = plt.subplots(1, 3, figsize=(20, 6))\n",
    "\n",
    "target_columns = ['sms_count', 'calls_duration', 'gb_month']\n",
    "\n",
    "for column, ax in zip(target_columns, axes):\n",
    "    \n",
    "    joined_df.boxplot(column, by='tariff', ax=ax)\n",
    "\n",
    "fig.suptitle(None)\n",
    "\n",
    "\n",
    "plt.show()"
   ]
  },
  {
   "cell_type": "code",
   "execution_count": 41,
   "metadata": {},
   "outputs": [
    {
     "data": {
      "image/png": "[encoded data removed]",
      "text/plain": [
       "<Figure size 1080x576 with 2 Axes>"
      ]
     },
     "metadata": {},
     "output_type": "display_data"
    }
   ],
   "source": [
    "target_columns = ['calls_scs_web', 'total_revenue']\n",
    "\n",
    "fig, axes = plt.subplots(1, len(target_columns), figsize=(15, 8), sharey=True)\n",
    "\n",
    "for column, ax in zip(target_columns, axes):\n",
    "    \n",
    "    joined_df.boxplot(column, by='tariff', ax=ax)"
   ]
  },
  {
   "cell_type": "markdown",
   "metadata": {},
   "source": [
    "<div class=\"alert alert-warning\">\n",
    "<b> Комментарий ревьюера ⚠ </b>\n",
    "\n",
    "Можно не пересохранять значения в отдельных переменных, а адресно обращаться к ячейкам датасета `tariffs_df`, если нам нужны включенные минуты по тарифу `smart`, можем взять их из `tariffs_df` таким образом:\n",
    "    \n",
    "`int(data.loc[data['column_1'] == 'name_of_tariff', 'column_2'])`\n",
    "    \n",
    "</div>"
   ]
  },
  {
   "cell_type": "markdown",
   "metadata": {},
   "source": [
    "<div class=\"alert alert-info\">\n",
    "<b> Комментарий студента</b>\n",
    "\n",
    "Кажется, что это громоздкий вариант\n",
    "\n",
    "</div>"
   ]
  },
  {
   "cell_type": "code",
   "execution_count": 42,
   "metadata": {},
   "outputs": [],
   "source": [
    "smart_stat_df = joined_df[joined_df['tariff']=='smart']\n",
    "ultra_stat_df = joined_df[joined_df['tariff']=='ultra']"
   ]
  },
  {
   "cell_type": "code",
   "execution_count": 43,
   "metadata": {},
   "outputs": [
    {
     "data": {
      "image/png": "[encoded data removed]",
      "text/plain": [
       "<Figure size 720x360 with 1 Axes>"
      ]
     },
     "metadata": {},
     "output_type": "display_data"
    }
   ],
   "source": [
    "fig, ax = plt.subplots(figsize=(10, 5))\n",
    "\n",
    "space = np.linspace(0, 1750, 15)\n",
    "\n",
    "ax.hist(smart_stat_df['calls_duration'], histtype='step',\n",
    "        color='blue', bins=space, lw=2, label='smart')\n",
    "ax.hist(ultra_stat_df['calls_duration'], histtype='step',\n",
    "        color='red', bins=space, lw=2, ls='--', label='ultra')\n",
    "\n",
    "ax.vlines(smart_stat_df['calls_duration'].mean(), 0, 3e3, color='blue',\n",
    "          label='smart duration mean')\n",
    "ax.vlines(ultra_stat_df['calls_duration'].mean(), 0, 3e3, color='red',\n",
    "          ls='--', label='ultra duration mean')\n",
    "\n",
    "ax.legend()\n",
    "ax.set_yscale('log')\n",
    "\n",
    "ax.set_ylim(.1, 3e3)\n",
    "\n",
    "ax.set_title('total duration of calls per mounth', fontsize=20)\n",
    "\n",
    "plt.show()"
   ]
  },
  {
   "cell_type": "markdown",
   "metadata": {},
   "source": [
    "<div class=\"alert alert-danger\">\n",
    "<b> Комментарий ревьюера ❌</b>\n",
    "\n",
    "Твоя функция не учитывает один важный момент: человек в определенном месяце пользовался услугами связи, но, например, не отправил ни одной смс, то еть в исходном датасете нет строк с его `user_id` и датами отправки сообщения, при группировке у тебя учитываются только те пользователи, которые отправили хотя бы одно сообщение, а вот те, кто ничего не отправил выпадают из анализа. То есть при расчете среднего мы совсем не учитываем нули, в результате значение будет отличаться от действительности.\n",
    "    \n",
    "То же самое происходит и для всех пользователей не звонивших и не выходивших в интернет.\n",
    "    \n",
    "При создании единой таблицы, мы пропущенные значения по пользователям можем заполнить нулями и тогда получим верный результат.\n",
    "\n",
    "</div>"
   ]
  },
  {
   "cell_type": "markdown",
   "metadata": {},
   "source": [
    "<div class=\"alert alert-info\">\n",
    "<b> Комментарий студента</b>\n",
    "\n",
    "Учел на стадии предобработки\n",
    "\n",
    "</div>"
   ]
  },
  {
   "cell_type": "markdown",
   "metadata": {},
   "source": [
    "### 3.2 Количество отправленных сообщений по месяцам"
   ]
  },
  {
   "cell_type": "code",
   "execution_count": 44,
   "metadata": {},
   "outputs": [
    {
     "data": {
      "image/png": "[encoded data removed]",
      "text/plain": [
       "<Figure size 720x432 with 1 Axes>"
      ]
     },
     "metadata": {},
     "output_type": "display_data"
    }
   ],
   "source": [
    "fig, ax = plt.subplots()\n",
    "\n",
    "ax.hist(smart_stat_df['sms_count'], histtype='step',\n",
    "        color='blue', lw=2, label='smart')\n",
    "ax.hist(ultra_stat_df['sms_count'], histtype='step',\n",
    "        color='red', lw=2, ls='--', label='ultra')\n",
    "\n",
    "ax.set_xlabel('sms per mounth', fontsize=20)\n",
    "ax.set_ylabel('counts', fontsize=20)\n",
    "\n",
    "ax.axvline(smart_stat_df['sms_count'].mean(), 0, 1e3, color='blue',\n",
    "          label='smart sms mean')\n",
    "ax.axvline(ultra_stat_df['sms_count'].mean(), 0, 1e3, color='red', ls='--',\n",
    "          label='ultra sms mean')\n",
    "\n",
    "ax.legend()\n",
    "\n",
    "ax.set_xlim(-1, 250)\n",
    "# ax.set_ylim(.1, 500)\n",
    "\n",
    "plt.show()"
   ]
  },
  {
   "cell_type": "markdown",
   "metadata": {},
   "source": [
    "<div class=\"alert alert-success\">\n",
    "<b> Комментарий ревьюера ✅ </b>\n",
    "\n",
    "Ооооочень крутые графики, тут не могу не похвалить. Есть и название графика и легенда, даже средние значения для каждого тарифа добавил. Можно еще только подписать оси.\n",
    "    \n",
    "    \n",
    "`plt.xlabel('Подпись оси x')`\n",
    "    \n",
    "`plt.ylabel('Подпись оси y')`\n",
    "    \n",
    "\n",
    "</div>"
   ]
  },
  {
   "cell_type": "markdown",
   "metadata": {},
   "source": [
    "### 3.3 Веб-трафик по месяцам"
   ]
  },
  {
   "cell_type": "markdown",
   "metadata": {},
   "source": [
    "<div class=\"alert alert-danger\">\n",
    "<b> Комментарий ревьюера ❌</b>\n",
    "\n",
    "В функции есть ошибка: \n",
    "    \n",
    "`web_stat_df['Gb_left'] = web_stat_df['Gb_count'] - gb_limit`\n",
    "    \n",
    "    \n",
    "`web_left = web_stat_df['Gb_left']`\n",
    "\n",
    "Ты считаешь cколько гигабайт осталось не потрачено: вычитаешь из количества потраченных лимит. Если у нас протрачено больше лимита, то будет положительное значение, если меньше лимита — отрицательное. \n",
    "    \n",
    "`web_stat_df['Gb_overpay'] = np.where(web_left < 0, web_left, 0)`\n",
    "\n",
    "Потом заполняешь значения переплаты по условию: если непотраченных гигабайтов меньше нуля, то надо заполнить значением непотраченных гигабайт, иначе — нулем. \n",
    "                                                   \n",
    "То есть ты начислил переплату на неиспользованные гигабайты, а тем кто использовал сверх лимита проставил нули.\n",
    "                                                   \n",
    "Из-за этого выручка тоже будет не верной.\n",
    "\n",
    "</div>"
   ]
  },
  {
   "cell_type": "markdown",
   "metadata": {},
   "source": [
    "<div class=\"alert alert-info\">\n",
    "<b> Комментарий студента</b>\n",
    "\n",
    "Исправил выше с помощью функции `revenue()`\n",
    "\n",
    "</div>"
   ]
  },
  {
   "cell_type": "code",
   "execution_count": 45,
   "metadata": {},
   "outputs": [
    {
     "data": {
      "image/png": "[encoded data removed]",
      "text/plain": [
       "<Figure size 720x432 with 1 Axes>"
      ]
     },
     "metadata": {},
     "output_type": "display_data"
    }
   ],
   "source": [
    "fig, ax = plt.subplots()\n",
    "\n",
    "# space = np.linspace(0, 1750, 15)\n",
    "\n",
    "ax.hist(smart_stat_df['gb_month'], histtype='step',\n",
    "        color='blue', lw=2, label='smart')\n",
    "ax.hist(ultra_stat_df['gb_month'], histtype='step',\n",
    "        color='red', lw=2, ls='--', label='ultra')\n",
    "\n",
    "ax.vlines(smart_stat_df['gb_month'].mean(), 0, 1e3, color='blue',\n",
    "          label='smart mean')\n",
    "ax.vlines(ultra_stat_df['gb_month'].mean(), 0, 1e3, color='red', ls='--',\n",
    "          label='ultra mean')\n",
    "\n",
    "ax.set_xlabel('Gb used per month', fontsize=20)\n",
    "ax.set_ylabel('counts', fontsize=20)\n",
    "\n",
    "ax.legend()\n",
    "\n",
    "ax.set_xlim(-1, 50)\n",
    "ax.set_ylim(.1, 600)\n",
    "\n",
    "plt.show()"
   ]
  },
  {
   "cell_type": "markdown",
   "metadata": {},
   "source": [
    "### 3.4 Общая выручка по месяцам"
   ]
  },
  {
   "cell_type": "code",
   "execution_count": 46,
   "metadata": {},
   "outputs": [
    {
     "data": {
      "image/png": "[encoded data removed]",
      "text/plain": [
       "<Figure size 1008x504 with 1 Axes>"
      ]
     },
     "metadata": {},
     "output_type": "display_data"
    }
   ],
   "source": [
    "fig, ax = plt.subplots(figsize=(14,7))\n",
    "\n",
    "smart_stat_df.groupby(level=1)['total_revenue'].mean().plot(kind='bar', color='none',\n",
    "                                                            edgecolor='blue', lw=3, ax=ax,\n",
    "                                                            label='smart')\n",
    "\n",
    "ultra_stat_df.groupby(level=1)['total_revenue'].mean().plot(kind='bar', color='red', alpha=.3,\n",
    "                                                            ax=ax, label='ultra')\n",
    "\n",
    "ax.legend()\n",
    "ax.set_ylabel('total revenue')\n",
    "\n",
    "ax.set_ylim(0, 2500)\n",
    "\n",
    "plt.show()"
   ]
  },
  {
   "cell_type": "markdown",
   "metadata": {},
   "source": [
    "- Статистики по объему использованных услуг по месяцам:"
   ]
  },
  {
   "cell_type": "code",
   "execution_count": 47,
   "metadata": {},
   "outputs": [
    {
     "data": {
      "text/html": [
       "<div>\n",
       "<style scoped>\n",
       "    .dataframe tbody tr th:only-of-type {\n",
       "        vertical-align: middle;\n",
       "    }\n",
       "\n",
       "    .dataframe tbody tr th {\n",
       "        vertical-align: top;\n",
       "    }\n",
       "\n",
       "    .dataframe thead tr th {\n",
       "        text-align: left;\n",
       "    }\n",
       "\n",
       "    .dataframe thead tr:last-of-type th {\n",
       "        text-align: right;\n",
       "    }\n",
       "</style>\n",
       "<table border=\"1\" class=\"dataframe\">\n",
       "  <thead>\n",
       "    <tr>\n",
       "      <th></th>\n",
       "      <th colspan=\"4\" halign=\"left\">sms_count</th>\n",
       "      <th colspan=\"4\" halign=\"left\">calls_duration</th>\n",
       "      <th colspan=\"2\" halign=\"left\">gb_month</th>\n",
       "      <th>...</th>\n",
       "      <th colspan=\"2\" halign=\"left\">calls_scs_web</th>\n",
       "      <th colspan=\"4\" halign=\"left\">fee</th>\n",
       "      <th colspan=\"4\" halign=\"left\">total_revenue</th>\n",
       "    </tr>\n",
       "    <tr>\n",
       "      <th></th>\n",
       "      <th>mean</th>\n",
       "      <th>var</th>\n",
       "      <th>std</th>\n",
       "      <th>count</th>\n",
       "      <th>mean</th>\n",
       "      <th>var</th>\n",
       "      <th>std</th>\n",
       "      <th>count</th>\n",
       "      <th>mean</th>\n",
       "      <th>var</th>\n",
       "      <th>...</th>\n",
       "      <th>std</th>\n",
       "      <th>count</th>\n",
       "      <th>mean</th>\n",
       "      <th>var</th>\n",
       "      <th>std</th>\n",
       "      <th>count</th>\n",
       "      <th>mean</th>\n",
       "      <th>var</th>\n",
       "      <th>std</th>\n",
       "      <th>count</th>\n",
       "    </tr>\n",
       "    <tr>\n",
       "      <th>month</th>\n",
       "      <th></th>\n",
       "      <th></th>\n",
       "      <th></th>\n",
       "      <th></th>\n",
       "      <th></th>\n",
       "      <th></th>\n",
       "      <th></th>\n",
       "      <th></th>\n",
       "      <th></th>\n",
       "      <th></th>\n",
       "      <th></th>\n",
       "      <th></th>\n",
       "      <th></th>\n",
       "      <th></th>\n",
       "      <th></th>\n",
       "      <th></th>\n",
       "      <th></th>\n",
       "      <th></th>\n",
       "      <th></th>\n",
       "      <th></th>\n",
       "      <th></th>\n",
       "    </tr>\n",
       "  </thead>\n",
       "  <tbody>\n",
       "    <tr>\n",
       "      <th>1</th>\n",
       "      <td>18.24</td>\n",
       "      <td>262.37</td>\n",
       "      <td>16.20</td>\n",
       "      <td>34</td>\n",
       "      <td>203.85</td>\n",
       "      <td>23787.34</td>\n",
       "      <td>154.23</td>\n",
       "      <td>34</td>\n",
       "      <td>8.74</td>\n",
       "      <td>39.41</td>\n",
       "      <td>...</td>\n",
       "      <td>438.77</td>\n",
       "      <td>34</td>\n",
       "      <td>550.0</td>\n",
       "      <td>0.0</td>\n",
       "      <td>0.0</td>\n",
       "      <td>34</td>\n",
       "      <td>721.32</td>\n",
       "      <td>1.93e+05</td>\n",
       "      <td>438.77</td>\n",
       "      <td>34</td>\n",
       "    </tr>\n",
       "    <tr>\n",
       "      <th>2</th>\n",
       "      <td>24.09</td>\n",
       "      <td>473.10</td>\n",
       "      <td>21.75</td>\n",
       "      <td>58</td>\n",
       "      <td>298.69</td>\n",
       "      <td>36412.29</td>\n",
       "      <td>190.82</td>\n",
       "      <td>58</td>\n",
       "      <td>11.84</td>\n",
       "      <td>37.15</td>\n",
       "      <td>...</td>\n",
       "      <td>540.70</td>\n",
       "      <td>58</td>\n",
       "      <td>550.0</td>\n",
       "      <td>0.0</td>\n",
       "      <td>0.0</td>\n",
       "      <td>58</td>\n",
       "      <td>827.60</td>\n",
       "      <td>2.92e+05</td>\n",
       "      <td>540.70</td>\n",
       "      <td>58</td>\n",
       "    </tr>\n",
       "    <tr>\n",
       "      <th>3</th>\n",
       "      <td>31.86</td>\n",
       "      <td>718.49</td>\n",
       "      <td>26.80</td>\n",
       "      <td>77</td>\n",
       "      <td>390.05</td>\n",
       "      <td>36823.16</td>\n",
       "      <td>191.89</td>\n",
       "      <td>77</td>\n",
       "      <td>15.23</td>\n",
       "      <td>32.55</td>\n",
       "      <td>...</td>\n",
       "      <td>698.03</td>\n",
       "      <td>77</td>\n",
       "      <td>550.0</td>\n",
       "      <td>0.0</td>\n",
       "      <td>0.0</td>\n",
       "      <td>77</td>\n",
       "      <td>1164.62</td>\n",
       "      <td>4.87e+05</td>\n",
       "      <td>698.03</td>\n",
       "      <td>77</td>\n",
       "    </tr>\n",
       "    <tr>\n",
       "      <th>4</th>\n",
       "      <td>30.74</td>\n",
       "      <td>602.14</td>\n",
       "      <td>24.54</td>\n",
       "      <td>112</td>\n",
       "      <td>367.13</td>\n",
       "      <td>34778.21</td>\n",
       "      <td>186.49</td>\n",
       "      <td>112</td>\n",
       "      <td>13.62</td>\n",
       "      <td>31.30</td>\n",
       "      <td>...</td>\n",
       "      <td>562.06</td>\n",
       "      <td>112</td>\n",
       "      <td>550.0</td>\n",
       "      <td>0.0</td>\n",
       "      <td>0.0</td>\n",
       "      <td>112</td>\n",
       "      <td>963.09</td>\n",
       "      <td>3.16e+05</td>\n",
       "      <td>562.06</td>\n",
       "      <td>112</td>\n",
       "    </tr>\n",
       "    <tr>\n",
       "      <th>5</th>\n",
       "      <td>33.77</td>\n",
       "      <td>730.99</td>\n",
       "      <td>27.04</td>\n",
       "      <td>141</td>\n",
       "      <td>387.36</td>\n",
       "      <td>34820.06</td>\n",
       "      <td>186.60</td>\n",
       "      <td>141</td>\n",
       "      <td>15.91</td>\n",
       "      <td>34.37</td>\n",
       "      <td>...</td>\n",
       "      <td>722.97</td>\n",
       "      <td>141</td>\n",
       "      <td>550.0</td>\n",
       "      <td>0.0</td>\n",
       "      <td>0.0</td>\n",
       "      <td>141</td>\n",
       "      <td>1197.51</td>\n",
       "      <td>5.23e+05</td>\n",
       "      <td>722.97</td>\n",
       "      <td>141</td>\n",
       "    </tr>\n",
       "    <tr>\n",
       "      <th>6</th>\n",
       "      <td>33.40</td>\n",
       "      <td>806.81</td>\n",
       "      <td>28.40</td>\n",
       "      <td>164</td>\n",
       "      <td>395.64</td>\n",
       "      <td>30742.92</td>\n",
       "      <td>175.34</td>\n",
       "      <td>164</td>\n",
       "      <td>15.95</td>\n",
       "      <td>31.91</td>\n",
       "      <td>...</td>\n",
       "      <td>745.74</td>\n",
       "      <td>164</td>\n",
       "      <td>550.0</td>\n",
       "      <td>0.0</td>\n",
       "      <td>0.0</td>\n",
       "      <td>164</td>\n",
       "      <td>1204.02</td>\n",
       "      <td>5.56e+05</td>\n",
       "      <td>745.74</td>\n",
       "      <td>164</td>\n",
       "    </tr>\n",
       "    <tr>\n",
       "      <th>7</th>\n",
       "      <td>33.75</td>\n",
       "      <td>799.89</td>\n",
       "      <td>28.28</td>\n",
       "      <td>201</td>\n",
       "      <td>408.35</td>\n",
       "      <td>32250.27</td>\n",
       "      <td>179.58</td>\n",
       "      <td>201</td>\n",
       "      <td>15.88</td>\n",
       "      <td>33.42</td>\n",
       "      <td>...</td>\n",
       "      <td>738.47</td>\n",
       "      <td>201</td>\n",
       "      <td>550.0</td>\n",
       "      <td>0.0</td>\n",
       "      <td>0.0</td>\n",
       "      <td>201</td>\n",
       "      <td>1223.95</td>\n",
       "      <td>5.45e+05</td>\n",
       "      <td>738.47</td>\n",
       "      <td>201</td>\n",
       "    </tr>\n",
       "    <tr>\n",
       "      <th>8</th>\n",
       "      <td>33.64</td>\n",
       "      <td>838.26</td>\n",
       "      <td>28.95</td>\n",
       "      <td>235</td>\n",
       "      <td>421.47</td>\n",
       "      <td>34793.58</td>\n",
       "      <td>186.53</td>\n",
       "      <td>235</td>\n",
       "      <td>16.74</td>\n",
       "      <td>30.04</td>\n",
       "      <td>...</td>\n",
       "      <td>792.22</td>\n",
       "      <td>235</td>\n",
       "      <td>550.0</td>\n",
       "      <td>0.0</td>\n",
       "      <td>0.0</td>\n",
       "      <td>235</td>\n",
       "      <td>1320.60</td>\n",
       "      <td>6.28e+05</td>\n",
       "      <td>792.22</td>\n",
       "      <td>235</td>\n",
       "    </tr>\n",
       "    <tr>\n",
       "      <th>9</th>\n",
       "      <td>33.64</td>\n",
       "      <td>790.62</td>\n",
       "      <td>28.12</td>\n",
       "      <td>260</td>\n",
       "      <td>428.61</td>\n",
       "      <td>33535.34</td>\n",
       "      <td>183.13</td>\n",
       "      <td>260</td>\n",
       "      <td>16.39</td>\n",
       "      <td>25.88</td>\n",
       "      <td>...</td>\n",
       "      <td>732.59</td>\n",
       "      <td>260</td>\n",
       "      <td>550.0</td>\n",
       "      <td>0.0</td>\n",
       "      <td>0.0</td>\n",
       "      <td>260</td>\n",
       "      <td>1249.95</td>\n",
       "      <td>5.37e+05</td>\n",
       "      <td>732.59</td>\n",
       "      <td>260</td>\n",
       "    </tr>\n",
       "    <tr>\n",
       "      <th>10</th>\n",
       "      <td>33.77</td>\n",
       "      <td>816.11</td>\n",
       "      <td>28.57</td>\n",
       "      <td>294</td>\n",
       "      <td>426.14</td>\n",
       "      <td>35392.34</td>\n",
       "      <td>188.13</td>\n",
       "      <td>294</td>\n",
       "      <td>16.88</td>\n",
       "      <td>32.90</td>\n",
       "      <td>...</td>\n",
       "      <td>842.77</td>\n",
       "      <td>294</td>\n",
       "      <td>550.0</td>\n",
       "      <td>0.0</td>\n",
       "      <td>0.0</td>\n",
       "      <td>294</td>\n",
       "      <td>1364.85</td>\n",
       "      <td>7.10e+05</td>\n",
       "      <td>842.77</td>\n",
       "      <td>294</td>\n",
       "    </tr>\n",
       "    <tr>\n",
       "      <th>11</th>\n",
       "      <td>34.08</td>\n",
       "      <td>805.94</td>\n",
       "      <td>28.39</td>\n",
       "      <td>316</td>\n",
       "      <td>435.27</td>\n",
       "      <td>31605.24</td>\n",
       "      <td>177.78</td>\n",
       "      <td>316</td>\n",
       "      <td>17.00</td>\n",
       "      <td>27.18</td>\n",
       "      <td>...</td>\n",
       "      <td>795.73</td>\n",
       "      <td>316</td>\n",
       "      <td>550.0</td>\n",
       "      <td>0.0</td>\n",
       "      <td>0.0</td>\n",
       "      <td>316</td>\n",
       "      <td>1343.05</td>\n",
       "      <td>6.33e+05</td>\n",
       "      <td>795.73</td>\n",
       "      <td>316</td>\n",
       "    </tr>\n",
       "    <tr>\n",
       "      <th>12</th>\n",
       "      <td>35.99</td>\n",
       "      <td>934.95</td>\n",
       "      <td>30.58</td>\n",
       "      <td>337</td>\n",
       "      <td>478.56</td>\n",
       "      <td>39698.62</td>\n",
       "      <td>199.25</td>\n",
       "      <td>337</td>\n",
       "      <td>18.20</td>\n",
       "      <td>29.79</td>\n",
       "      <td>...</td>\n",
       "      <td>1034.74</td>\n",
       "      <td>337</td>\n",
       "      <td>550.0</td>\n",
       "      <td>0.0</td>\n",
       "      <td>0.0</td>\n",
       "      <td>337</td>\n",
       "      <td>1578.53</td>\n",
       "      <td>1.07e+06</td>\n",
       "      <td>1034.74</td>\n",
       "      <td>337</td>\n",
       "    </tr>\n",
       "  </tbody>\n",
       "</table>\n",
       "<p>12 rows × 36 columns</p>\n",
       "</div>"
      ],
      "text/plain": [
       "      sms_count                      calls_duration                          \\\n",
       "           mean     var    std count           mean       var     std count   \n",
       "month                                                                         \n",
       "1         18.24  262.37  16.20    34         203.85  23787.34  154.23    34   \n",
       "2         24.09  473.10  21.75    58         298.69  36412.29  190.82    58   \n",
       "3         31.86  718.49  26.80    77         390.05  36823.16  191.89    77   \n",
       "4         30.74  602.14  24.54   112         367.13  34778.21  186.49   112   \n",
       "5         33.77  730.99  27.04   141         387.36  34820.06  186.60   141   \n",
       "6         33.40  806.81  28.40   164         395.64  30742.92  175.34   164   \n",
       "7         33.75  799.89  28.28   201         408.35  32250.27  179.58   201   \n",
       "8         33.64  838.26  28.95   235         421.47  34793.58  186.53   235   \n",
       "9         33.64  790.62  28.12   260         428.61  33535.34  183.13   260   \n",
       "10        33.77  816.11  28.57   294         426.14  35392.34  188.13   294   \n",
       "11        34.08  805.94  28.39   316         435.27  31605.24  177.78   316   \n",
       "12        35.99  934.95  30.58   337         478.56  39698.62  199.25   337   \n",
       "\n",
       "      gb_month         ... calls_scs_web          fee                  \\\n",
       "          mean    var  ...           std count   mean  var  std count   \n",
       "month                  ...                                              \n",
       "1         8.74  39.41  ...        438.77    34  550.0  0.0  0.0    34   \n",
       "2        11.84  37.15  ...        540.70    58  550.0  0.0  0.0    58   \n",
       "3        15.23  32.55  ...        698.03    77  550.0  0.0  0.0    77   \n",
       "4        13.62  31.30  ...        562.06   112  550.0  0.0  0.0   112   \n",
       "5        15.91  34.37  ...        722.97   141  550.0  0.0  0.0   141   \n",
       "6        15.95  31.91  ...        745.74   164  550.0  0.0  0.0   164   \n",
       "7        15.88  33.42  ...        738.47   201  550.0  0.0  0.0   201   \n",
       "8        16.74  30.04  ...        792.22   235  550.0  0.0  0.0   235   \n",
       "9        16.39  25.88  ...        732.59   260  550.0  0.0  0.0   260   \n",
       "10       16.88  32.90  ...        842.77   294  550.0  0.0  0.0   294   \n",
       "11       17.00  27.18  ...        795.73   316  550.0  0.0  0.0   316   \n",
       "12       18.20  29.79  ...       1034.74   337  550.0  0.0  0.0   337   \n",
       "\n",
       "      total_revenue                           \n",
       "               mean       var      std count  \n",
       "month                                         \n",
       "1            721.32  1.93e+05   438.77    34  \n",
       "2            827.60  2.92e+05   540.70    58  \n",
       "3           1164.62  4.87e+05   698.03    77  \n",
       "4            963.09  3.16e+05   562.06   112  \n",
       "5           1197.51  5.23e+05   722.97   141  \n",
       "6           1204.02  5.56e+05   745.74   164  \n",
       "7           1223.95  5.45e+05   738.47   201  \n",
       "8           1320.60  6.28e+05   792.22   235  \n",
       "9           1249.95  5.37e+05   732.59   260  \n",
       "10          1364.85  7.10e+05   842.77   294  \n",
       "11          1343.05  6.33e+05   795.73   316  \n",
       "12          1578.53  1.07e+06  1034.74   337  \n",
       "\n",
       "[12 rows x 36 columns]"
      ]
     },
     "execution_count": 47,
     "metadata": {},
     "output_type": "execute_result"
    }
   ],
   "source": [
    "smart_month_stat = smart_stat_df.groupby(level=1).agg(['mean', 'var', 'std', 'count'])\n",
    "\n",
    "smart_month_stat"
   ]
  },
  {
   "cell_type": "code",
   "execution_count": 48,
   "metadata": {},
   "outputs": [
    {
     "data": {
      "text/html": [
       "<div>\n",
       "<style scoped>\n",
       "    .dataframe tbody tr th:only-of-type {\n",
       "        vertical-align: middle;\n",
       "    }\n",
       "\n",
       "    .dataframe tbody tr th {\n",
       "        vertical-align: top;\n",
       "    }\n",
       "\n",
       "    .dataframe thead tr th {\n",
       "        text-align: left;\n",
       "    }\n",
       "\n",
       "    .dataframe thead tr:last-of-type th {\n",
       "        text-align: right;\n",
       "    }\n",
       "</style>\n",
       "<table border=\"1\" class=\"dataframe\">\n",
       "  <thead>\n",
       "    <tr>\n",
       "      <th></th>\n",
       "      <th colspan=\"4\" halign=\"left\">sms_count</th>\n",
       "      <th colspan=\"4\" halign=\"left\">calls_duration</th>\n",
       "      <th colspan=\"2\" halign=\"left\">gb_month</th>\n",
       "      <th>...</th>\n",
       "      <th colspan=\"2\" halign=\"left\">calls_scs_web</th>\n",
       "      <th colspan=\"4\" halign=\"left\">fee</th>\n",
       "      <th colspan=\"4\" halign=\"left\">total_revenue</th>\n",
       "    </tr>\n",
       "    <tr>\n",
       "      <th></th>\n",
       "      <th>mean</th>\n",
       "      <th>var</th>\n",
       "      <th>std</th>\n",
       "      <th>count</th>\n",
       "      <th>mean</th>\n",
       "      <th>var</th>\n",
       "      <th>std</th>\n",
       "      <th>count</th>\n",
       "      <th>mean</th>\n",
       "      <th>var</th>\n",
       "      <th>...</th>\n",
       "      <th>std</th>\n",
       "      <th>count</th>\n",
       "      <th>mean</th>\n",
       "      <th>var</th>\n",
       "      <th>std</th>\n",
       "      <th>count</th>\n",
       "      <th>mean</th>\n",
       "      <th>var</th>\n",
       "      <th>std</th>\n",
       "      <th>count</th>\n",
       "    </tr>\n",
       "    <tr>\n",
       "      <th>month</th>\n",
       "      <th></th>\n",
       "      <th></th>\n",
       "      <th></th>\n",
       "      <th></th>\n",
       "      <th></th>\n",
       "      <th></th>\n",
       "      <th></th>\n",
       "      <th></th>\n",
       "      <th></th>\n",
       "      <th></th>\n",
       "      <th></th>\n",
       "      <th></th>\n",
       "      <th></th>\n",
       "      <th></th>\n",
       "      <th></th>\n",
       "      <th></th>\n",
       "      <th></th>\n",
       "      <th></th>\n",
       "      <th></th>\n",
       "      <th></th>\n",
       "      <th></th>\n",
       "    </tr>\n",
       "  </thead>\n",
       "  <tbody>\n",
       "    <tr>\n",
       "      <th>1</th>\n",
       "      <td>33.78</td>\n",
       "      <td>940.69</td>\n",
       "      <td>30.67</td>\n",
       "      <td>9</td>\n",
       "      <td>428.11</td>\n",
       "      <td>72769.36</td>\n",
       "      <td>269.76</td>\n",
       "      <td>9</td>\n",
       "      <td>13.22</td>\n",
       "      <td>44.44</td>\n",
       "      <td>...</td>\n",
       "      <td>0.00</td>\n",
       "      <td>9</td>\n",
       "      <td>1950.0</td>\n",
       "      <td>0.0</td>\n",
       "      <td>0.0</td>\n",
       "      <td>9</td>\n",
       "      <td>1950.00</td>\n",
       "      <td>0.00</td>\n",
       "      <td>0.00</td>\n",
       "      <td>9</td>\n",
       "    </tr>\n",
       "    <tr>\n",
       "      <th>2</th>\n",
       "      <td>21.96</td>\n",
       "      <td>716.82</td>\n",
       "      <td>26.77</td>\n",
       "      <td>24</td>\n",
       "      <td>297.12</td>\n",
       "      <td>87919.68</td>\n",
       "      <td>296.51</td>\n",
       "      <td>24</td>\n",
       "      <td>12.00</td>\n",
       "      <td>109.13</td>\n",
       "      <td>...</td>\n",
       "      <td>84.70</td>\n",
       "      <td>24</td>\n",
       "      <td>1950.0</td>\n",
       "      <td>0.0</td>\n",
       "      <td>0.0</td>\n",
       "      <td>24</td>\n",
       "      <td>1975.00</td>\n",
       "      <td>7173.91</td>\n",
       "      <td>84.70</td>\n",
       "      <td>24</td>\n",
       "    </tr>\n",
       "    <tr>\n",
       "      <th>3</th>\n",
       "      <td>32.30</td>\n",
       "      <td>1732.38</td>\n",
       "      <td>41.62</td>\n",
       "      <td>37</td>\n",
       "      <td>489.65</td>\n",
       "      <td>111384.90</td>\n",
       "      <td>333.74</td>\n",
       "      <td>37</td>\n",
       "      <td>17.65</td>\n",
       "      <td>114.35</td>\n",
       "      <td>...</td>\n",
       "      <td>207.79</td>\n",
       "      <td>37</td>\n",
       "      <td>1950.0</td>\n",
       "      <td>0.0</td>\n",
       "      <td>0.0</td>\n",
       "      <td>37</td>\n",
       "      <td>2014.86</td>\n",
       "      <td>43175.68</td>\n",
       "      <td>207.79</td>\n",
       "      <td>37</td>\n",
       "    </tr>\n",
       "    <tr>\n",
       "      <th>4</th>\n",
       "      <td>31.56</td>\n",
       "      <td>1407.29</td>\n",
       "      <td>37.51</td>\n",
       "      <td>55</td>\n",
       "      <td>458.02</td>\n",
       "      <td>71653.87</td>\n",
       "      <td>267.68</td>\n",
       "      <td>55</td>\n",
       "      <td>16.96</td>\n",
       "      <td>89.44</td>\n",
       "      <td>...</td>\n",
       "      <td>196.25</td>\n",
       "      <td>55</td>\n",
       "      <td>1950.0</td>\n",
       "      <td>0.0</td>\n",
       "      <td>0.0</td>\n",
       "      <td>55</td>\n",
       "      <td>2001.82</td>\n",
       "      <td>38515.15</td>\n",
       "      <td>196.25</td>\n",
       "      <td>55</td>\n",
       "    </tr>\n",
       "    <tr>\n",
       "      <th>5</th>\n",
       "      <td>37.85</td>\n",
       "      <td>1624.64</td>\n",
       "      <td>40.31</td>\n",
       "      <td>67</td>\n",
       "      <td>510.33</td>\n",
       "      <td>83870.19</td>\n",
       "      <td>289.60</td>\n",
       "      <td>67</td>\n",
       "      <td>19.37</td>\n",
       "      <td>95.63</td>\n",
       "      <td>...</td>\n",
       "      <td>403.32</td>\n",
       "      <td>67</td>\n",
       "      <td>1950.0</td>\n",
       "      <td>0.0</td>\n",
       "      <td>0.0</td>\n",
       "      <td>67</td>\n",
       "      <td>2059.70</td>\n",
       "      <td>162669.61</td>\n",
       "      <td>403.32</td>\n",
       "      <td>67</td>\n",
       "    </tr>\n",
       "    <tr>\n",
       "      <th>6</th>\n",
       "      <td>41.73</td>\n",
       "      <td>1986.30</td>\n",
       "      <td>44.57</td>\n",
       "      <td>84</td>\n",
       "      <td>479.70</td>\n",
       "      <td>91535.95</td>\n",
       "      <td>302.55</td>\n",
       "      <td>84</td>\n",
       "      <td>18.94</td>\n",
       "      <td>82.39</td>\n",
       "      <td>...</td>\n",
       "      <td>315.95</td>\n",
       "      <td>84</td>\n",
       "      <td>1950.0</td>\n",
       "      <td>0.0</td>\n",
       "      <td>0.0</td>\n",
       "      <td>84</td>\n",
       "      <td>2039.29</td>\n",
       "      <td>99823.58</td>\n",
       "      <td>315.95</td>\n",
       "      <td>84</td>\n",
       "    </tr>\n",
       "    <tr>\n",
       "      <th>7</th>\n",
       "      <td>49.85</td>\n",
       "      <td>2372.04</td>\n",
       "      <td>48.70</td>\n",
       "      <td>91</td>\n",
       "      <td>545.79</td>\n",
       "      <td>94322.28</td>\n",
       "      <td>307.12</td>\n",
       "      <td>91</td>\n",
       "      <td>20.51</td>\n",
       "      <td>96.43</td>\n",
       "      <td>...</td>\n",
       "      <td>446.00</td>\n",
       "      <td>91</td>\n",
       "      <td>1950.0</td>\n",
       "      <td>0.0</td>\n",
       "      <td>0.0</td>\n",
       "      <td>91</td>\n",
       "      <td>2118.13</td>\n",
       "      <td>198917.58</td>\n",
       "      <td>446.00</td>\n",
       "      <td>91</td>\n",
       "    </tr>\n",
       "    <tr>\n",
       "      <th>8</th>\n",
       "      <td>48.44</td>\n",
       "      <td>2171.74</td>\n",
       "      <td>46.60</td>\n",
       "      <td>107</td>\n",
       "      <td>510.78</td>\n",
       "      <td>97956.50</td>\n",
       "      <td>312.98</td>\n",
       "      <td>107</td>\n",
       "      <td>19.60</td>\n",
       "      <td>105.15</td>\n",
       "      <td>...</td>\n",
       "      <td>399.70</td>\n",
       "      <td>107</td>\n",
       "      <td>1950.0</td>\n",
       "      <td>0.0</td>\n",
       "      <td>0.0</td>\n",
       "      <td>107</td>\n",
       "      <td>2083.18</td>\n",
       "      <td>159761.51</td>\n",
       "      <td>399.70</td>\n",
       "      <td>107</td>\n",
       "    </tr>\n",
       "    <tr>\n",
       "      <th>9</th>\n",
       "      <td>52.29</td>\n",
       "      <td>2152.86</td>\n",
       "      <td>46.40</td>\n",
       "      <td>115</td>\n",
       "      <td>539.44</td>\n",
       "      <td>105716.78</td>\n",
       "      <td>325.14</td>\n",
       "      <td>115</td>\n",
       "      <td>19.24</td>\n",
       "      <td>86.26</td>\n",
       "      <td>...</td>\n",
       "      <td>246.85</td>\n",
       "      <td>115</td>\n",
       "      <td>1950.0</td>\n",
       "      <td>0.0</td>\n",
       "      <td>0.0</td>\n",
       "      <td>115</td>\n",
       "      <td>2024.35</td>\n",
       "      <td>60937.07</td>\n",
       "      <td>246.85</td>\n",
       "      <td>115</td>\n",
       "    </tr>\n",
       "    <tr>\n",
       "      <th>10</th>\n",
       "      <td>58.43</td>\n",
       "      <td>2697.18</td>\n",
       "      <td>51.93</td>\n",
       "      <td>123</td>\n",
       "      <td>558.08</td>\n",
       "      <td>106464.58</td>\n",
       "      <td>326.29</td>\n",
       "      <td>123</td>\n",
       "      <td>20.07</td>\n",
       "      <td>91.26</td>\n",
       "      <td>...</td>\n",
       "      <td>386.89</td>\n",
       "      <td>123</td>\n",
       "      <td>1950.0</td>\n",
       "      <td>0.0</td>\n",
       "      <td>0.0</td>\n",
       "      <td>123</td>\n",
       "      <td>2065.85</td>\n",
       "      <td>149685.13</td>\n",
       "      <td>386.89</td>\n",
       "      <td>123</td>\n",
       "    </tr>\n",
       "    <tr>\n",
       "      <th>11</th>\n",
       "      <td>55.79</td>\n",
       "      <td>2476.95</td>\n",
       "      <td>49.77</td>\n",
       "      <td>134</td>\n",
       "      <td>541.38</td>\n",
       "      <td>96570.06</td>\n",
       "      <td>310.76</td>\n",
       "      <td>134</td>\n",
       "      <td>19.81</td>\n",
       "      <td>93.80</td>\n",
       "      <td>...</td>\n",
       "      <td>409.38</td>\n",
       "      <td>134</td>\n",
       "      <td>1950.0</td>\n",
       "      <td>0.0</td>\n",
       "      <td>0.0</td>\n",
       "      <td>134</td>\n",
       "      <td>2092.16</td>\n",
       "      <td>167588.51</td>\n",
       "      <td>409.38</td>\n",
       "      <td>134</td>\n",
       "    </tr>\n",
       "    <tr>\n",
       "      <th>12</th>\n",
       "      <td>60.61</td>\n",
       "      <td>2681.98</td>\n",
       "      <td>51.79</td>\n",
       "      <td>139</td>\n",
       "      <td>592.81</td>\n",
       "      <td>117276.33</td>\n",
       "      <td>342.46</td>\n",
       "      <td>139</td>\n",
       "      <td>21.74</td>\n",
       "      <td>103.24</td>\n",
       "      <td>...</td>\n",
       "      <td>482.30</td>\n",
       "      <td>139</td>\n",
       "      <td>1950.0</td>\n",
       "      <td>0.0</td>\n",
       "      <td>0.0</td>\n",
       "      <td>139</td>\n",
       "      <td>2138.85</td>\n",
       "      <td>232610.26</td>\n",
       "      <td>482.30</td>\n",
       "      <td>139</td>\n",
       "    </tr>\n",
       "  </tbody>\n",
       "</table>\n",
       "<p>12 rows × 36 columns</p>\n",
       "</div>"
      ],
      "text/plain": [
       "      sms_count                       calls_duration                           \\\n",
       "           mean      var    std count           mean        var     std count   \n",
       "month                                                                           \n",
       "1         33.78   940.69  30.67     9         428.11   72769.36  269.76     9   \n",
       "2         21.96   716.82  26.77    24         297.12   87919.68  296.51    24   \n",
       "3         32.30  1732.38  41.62    37         489.65  111384.90  333.74    37   \n",
       "4         31.56  1407.29  37.51    55         458.02   71653.87  267.68    55   \n",
       "5         37.85  1624.64  40.31    67         510.33   83870.19  289.60    67   \n",
       "6         41.73  1986.30  44.57    84         479.70   91535.95  302.55    84   \n",
       "7         49.85  2372.04  48.70    91         545.79   94322.28  307.12    91   \n",
       "8         48.44  2171.74  46.60   107         510.78   97956.50  312.98   107   \n",
       "9         52.29  2152.86  46.40   115         539.44  105716.78  325.14   115   \n",
       "10        58.43  2697.18  51.93   123         558.08  106464.58  326.29   123   \n",
       "11        55.79  2476.95  49.77   134         541.38   96570.06  310.76   134   \n",
       "12        60.61  2681.98  51.79   139         592.81  117276.33  342.46   139   \n",
       "\n",
       "      gb_month          ... calls_scs_web           fee                  \\\n",
       "          mean     var  ...           std count    mean  var  std count   \n",
       "month                   ...                                               \n",
       "1        13.22   44.44  ...          0.00     9  1950.0  0.0  0.0     9   \n",
       "2        12.00  109.13  ...         84.70    24  1950.0  0.0  0.0    24   \n",
       "3        17.65  114.35  ...        207.79    37  1950.0  0.0  0.0    37   \n",
       "4        16.96   89.44  ...        196.25    55  1950.0  0.0  0.0    55   \n",
       "5        19.37   95.63  ...        403.32    67  1950.0  0.0  0.0    67   \n",
       "6        18.94   82.39  ...        315.95    84  1950.0  0.0  0.0    84   \n",
       "7        20.51   96.43  ...        446.00    91  1950.0  0.0  0.0    91   \n",
       "8        19.60  105.15  ...        399.70   107  1950.0  0.0  0.0   107   \n",
       "9        19.24   86.26  ...        246.85   115  1950.0  0.0  0.0   115   \n",
       "10       20.07   91.26  ...        386.89   123  1950.0  0.0  0.0   123   \n",
       "11       19.81   93.80  ...        409.38   134  1950.0  0.0  0.0   134   \n",
       "12       21.74  103.24  ...        482.30   139  1950.0  0.0  0.0   139   \n",
       "\n",
       "      total_revenue                           \n",
       "               mean        var     std count  \n",
       "month                                         \n",
       "1           1950.00       0.00    0.00     9  \n",
       "2           1975.00    7173.91   84.70    24  \n",
       "3           2014.86   43175.68  207.79    37  \n",
       "4           2001.82   38515.15  196.25    55  \n",
       "5           2059.70  162669.61  403.32    67  \n",
       "6           2039.29   99823.58  315.95    84  \n",
       "7           2118.13  198917.58  446.00    91  \n",
       "8           2083.18  159761.51  399.70   107  \n",
       "9           2024.35   60937.07  246.85   115  \n",
       "10          2065.85  149685.13  386.89   123  \n",
       "11          2092.16  167588.51  409.38   134  \n",
       "12          2138.85  232610.26  482.30   139  \n",
       "\n",
       "[12 rows x 36 columns]"
      ]
     },
     "execution_count": 48,
     "metadata": {},
     "output_type": "execute_result"
    }
   ],
   "source": [
    "ultra_month_stat = ultra_stat_df.groupby(level=1).agg(['mean', 'var', 'std', 'count'])\n",
    "\n",
    "ultra_month_stat"
   ]
  },
  {
   "cell_type": "code",
   "execution_count": 49,
   "metadata": {},
   "outputs": [
    {
     "data": {
      "image/png": "[encoded data removed]",
      "text/plain": [
       "<Figure size 720x1080 with 3 Axes>"
      ]
     },
     "metadata": {},
     "output_type": "display_data"
    }
   ],
   "source": [
    "fig, (ax1, ax2, ax3) = plt.subplots(3, 1, figsize=(10,15), sharex=True)\n",
    "\n",
    "smart_month_stat['calls_duration']['mean'].plot(kind='bar', color='none', edgecolor='blue',\n",
    "                                             lw=3, ax=ax1, label='smart')\n",
    "ultra_month_stat['calls_duration']['mean'].plot(kind='bar', color='red', alpha=.3, ax=ax1, label='ultra')\n",
    "ax1.set_ylabel('calls duration')\n",
    "ax1.axhline(smart_minutes_limit, 0, 12, lw=3, color='blue')\n",
    "ax1.axhline(ultra_minutes_limit, 0, 12, lw=3, color='red')\n",
    "ax1.legend()\n",
    "ax1.set_ylim(0, 700)\n",
    "\n",
    "smart_month_stat['sms_count']['mean'].plot(kind='bar', color='none', edgecolor='blue',\n",
    "                                           lw=3, ax=ax2, label='smart')\n",
    "ultra_month_stat['sms_count']['mean'].plot(kind='bar', color='red', alpha=.3, ax=ax2, label='ultra')\n",
    "ax2.set_ylabel('sms sent')\n",
    "ax2.axhline(smart_sms_limit, 0, 12, lw=3, color='blue')\n",
    "ax2.axhline(ultra_sms_limit, 0, 12, lw=3, color='red')\n",
    "ax2.legend()\n",
    "ax2.set_ylim(0, 80)\n",
    "\n",
    "smart_month_stat['gb_month']['mean'].plot(kind='bar', color='none', edgecolor='blue',\n",
    "                                          lw=3, ax=ax3, label='smart')\n",
    "ultra_month_stat['gb_month']['mean'].plot(kind='bar', color='red', alpha=.3, ax=ax3, label='ultra')\n",
    "ax3.set_ylabel('Gb used')\n",
    "ax3.axhline(smart_web_limit, 0, 12, lw=3, color='blue')\n",
    "ax3.axhline(ultra_web_limit, 0, 12, lw=3, color='red')\n",
    "ax3.legend()\n",
    "ax3.set_ylim(0, 31)\n",
    "\n",
    "plt.show()"
   ]
  },
  {
   "cell_type": "markdown",
   "metadata": {},
   "source": [
    "<div class=\"alert alert-success\">\n",
    "<b> Комментарий ревьюера ✅ </b>\n",
    "\n",
    "Визуализация на высшем уровне 🔥\n",
    "    \n",
    "Сохрани их, пожалуйста, на этапе доработки, только нужно будет проверить, что бы они получали на вход корректные данные.\n",
    "    \n",
    "\n",
    "</div>"
   ]
  },
  {
   "cell_type": "markdown",
   "metadata": {},
   "source": [
    "<div class=\"alert alert-info\">\n",
    "<b> Комментарий студента</b>\n",
    "\n",
    "Скорректировал\n",
    "\n",
    "</div>"
   ]
  },
  {
   "cell_type": "markdown",
   "metadata": {},
   "source": [
    "- Во всех трех категориях наблюдается тенденция к росту объема использованных услуг с течением времени.\n",
    "\n",
    "- Пользователи тарифа `ultra` (в среднем) приближаются к лимиту только по количеству использованного веб-трафика. Для двух остальных категорий услуг лимиты по тарифу `ultra` не указаны на графиках для удобства восприятия (они лежат сильно выше максимальных значений из данных)."
   ]
  },
  {
   "cell_type": "markdown",
   "metadata": {},
   "source": [
    "## 4. Проверка гипотез <a class=\"anchor\" id=\"section_4\"></a>"
   ]
  },
  {
   "cell_type": "markdown",
   "metadata": {},
   "source": [
    "<div class=\"alert alert-danger\">\n",
    "<b> Комментарий ревьюера ❌</b>\n",
    "\n",
    "Прежде чем проводить статистический тест, необходимо сформулировать нулевую и альтернативную гипотезу, иначе не понятно, что мы проверяем.\n",
    "\n",
    "</div>"
   ]
  },
  {
   "cell_type": "markdown",
   "metadata": {},
   "source": [
    "<div class=\"alert alert-info\">\n",
    "<b> Комментарий студента</b>\n",
    "\n",
    "`Нулевая гипотеза`: средняя выручка с пользователей тарифов Смарт и Ультра не отличается\n",
    "\n",
    "`Альтернативная гипотеза`: средняя выручка с пользователей тарифа Ультра выше, чем с пользователей тарифа Смарт\n",
    "\n",
    "</div>"
   ]
  },
  {
   "cell_type": "code",
   "execution_count": 50,
   "metadata": {},
   "outputs": [],
   "source": [
    "from scipy import stats as st"
   ]
  },
  {
   "cell_type": "code",
   "execution_count": 55,
   "metadata": {},
   "outputs": [
    {
     "name": "stdout",
     "output_type": "stream",
     "text": [
      "Отвергаем нулевую гипотезу при уровне значимости 1%: средняя выручка с пользователей тарифа Ультра выше, чем с пользователей тарифа Смарт\n"
     ]
    }
   ],
   "source": [
    "smart_sample = smart_stat_df['total_revenue']\n",
    "ulra_sample = ultra_stat_df['total_revenue']\n",
    "\n",
    "result_smart_ultra = st.ttest_ind(smart_sample, ulra_sample)\n",
    "\n",
    "alpha = .01\n",
    "\n",
    "# Сформулирую одностороннюю гипотезу\n",
    "# (коммерческий департамент хочет понять, какой тариф приносит больше денег)\n",
    "if (result_smart_ultra.pvalue / 2 < alpha) and (smart_sample.mean() < ulra_sample.mean()):\n",
    "    print(f'Отвергаем нулевую гипотезу при уровне значимости {alpha:.0%}: средняя выручка с пользователей тарифа Ультра выше, чем с пользователей тарифа Смарт')\n",
    "    \n",
    "else:\n",
    "    print(f'Не отвергаем нулевую гипотезу при уровне значимости {alpha:.0%}')"
   ]
  },
  {
   "cell_type": "markdown",
   "metadata": {},
   "source": [
    "<div class=\"alert alert-info\">\n",
    "<b> Комментарий студента</b>\n",
    "\n",
    "В тренажере нам не говорили, что при проверге гипотезы о равенстве средних двух генеральных совокупностей можно проводить односторонние тесты.\n",
    "\n",
    "Однако здесь такой тест мне кажется осмысленным, потому что напрямую дает ответ на главный вопрос в проекте: какой тариф приносит больше денег?\n",
    "\n",
    "</div>"
   ]
  },
  {
   "cell_type": "markdown",
   "metadata": {},
   "source": [
    "***"
   ]
  },
  {
   "cell_type": "markdown",
   "metadata": {},
   "source": [
    "`Нулевая гипотеза`: средняя выручка с пользователей из Москвы и с других пользователей _не_ отличается\n",
    "\n",
    "`Альтернативная гипотеза`: средняя выручка с пользователей из Москвы и с других пользователей отличается"
   ]
  },
  {
   "cell_type": "code",
   "execution_count": 52,
   "metadata": {},
   "outputs": [],
   "source": [
    "moscow_income_df = joined_df.query('city == \"Москва\"')\n",
    "not_moscow_income_df = joined_df.query('city != \"Москва\"')"
   ]
  },
  {
   "cell_type": "code",
   "execution_count": 53,
   "metadata": {},
   "outputs": [
    {
     "name": "stdout",
     "output_type": "stream",
     "text": [
      "p-значение: 0.54\n",
      "Не получилось отвергнуть нулевую гипотезу: средняя выручка в рассматриваеммых группах пользователей не отличается\n"
     ]
    }
   ],
   "source": [
    "result_msk_not_msk = st.ttest_ind(moscow_income_df['total_revenue'], not_moscow_income_df['total_revenue'])\n",
    "\n",
    "alpha = .01\n",
    "\n",
    "print(f'p-значение: {result_msk_not_msk.pvalue:.2}')\n",
    "\n",
    "# Двусторонняя гипотеза\n",
    "if result_msk_not_msk.pvalue < alpha:\n",
    "    print('Отвергаем нулевую гипотезу')\n",
    "\n",
    "else:\n",
    "    print(f'Не получилось отвергнуть нулевую гипотезу: средняя выручка в рассматриваеммых группах пользователей не отличается')"
   ]
  },
  {
   "cell_type": "markdown",
   "metadata": {},
   "source": [
    "<div class=\"alert alert-danger\">\n",
    "<b> Комментарий ревьюера ❌</b>\n",
    "\n",
    "Нулевая гипотеза формулируется из условия равенства. \n",
    "    \n",
    "Проводя статистический тест мы сравниваем величины и считаем `pvalue` — вероятность получить такое равенство случайно. Если эта вероятность больше критической `alpha`, то нулевая гипотеза отвергается.\n",
    "\n",
    "</div>"
   ]
  },
  {
   "cell_type": "markdown",
   "metadata": {},
   "source": [
    "<div class=\"alert alert-info\">\n",
    "<b> Комментарий студента</b>\n",
    "\n",
    "Скорректировал\n",
    "\n",
    "</div>"
   ]
  },
  {
   "cell_type": "markdown",
   "metadata": {},
   "source": [
    "***"
   ]
  },
  {
   "cell_type": "markdown",
   "metadata": {},
   "source": [
    "## 5. Результаты <a class=\"anchor\" id=\"section_5\"></a>"
   ]
  },
  {
   "cell_type": "markdown",
   "metadata": {},
   "source": [
    "<div class=\"alert alert-danger\">\n",
    "<b> Комментарий ревьюера ❌</b>\n",
    "\n",
    "Основной задачей этого проекта является определение перспективного тарифа для телеком компании. В вывод стоит добавить какой тариф по результатам исследования мы можем считать наиболее перспективным и по какому тарифу стоит скорректировать рекламный бюджет коммерческому департаменту.\n",
    "\n",
    "</div>"
   ]
  },
  {
   "cell_type": "markdown",
   "metadata": {},
   "source": [
    "<div class=\"alert alert-info\">\n",
    "<b> Комментарий студента</b>\n",
    "\n",
    "Хочу прочиать твои комментарии по обновленному проекту, после этого сформулирую выводы\n",
    "\n",
    "</div>"
   ]
  },
  {
   "cell_type": "markdown",
   "metadata": {},
   "source": [
    "**Заключительный комментарий ревьюера:**\n",
    "\n",
    "Ты проделал большую работу, но есть некоторые детали, которые надо поправить:\n",
    "\n",
    "<div class=\"alert alert-danger\">\n",
    "\n",
    "1. ~Решить задачу более оптимальным путем.~\n",
    "    \n",
    "1. ~Учитываать при расчете средних значений тех пользователей, которые могли не пользоваться определенными услугами в течении месяца, но являлись клиентами компании. То есть не потерять ноль сообщений (минут, гигабайт) в месяц.~\n",
    "    \n",
    "1. ~Проверить расчет переплаты за интернет-трафик. Исправить ошибку.~\n",
    "    \n",
    "1. Сформулировать нулевые гипотезы из условия равенства, сформулировать альтернативные гипотезы.\n",
    "    \n",
    "1. Дополнить итоговый вывод.\n",
    "    \n",
    "</div>\n",
    "\n",
    "<div class=\"alert alert-warning\">\n",
    "\n",
    "На твое усмотрение, можно:\n",
    "    \n",
    "1. Использовать `apply()` только в случае, когда мы не можем применить методы pandas сразу ко всему DataFrame или Series.\n",
    "    \n",
    "1. Обращаться к датасету с тарифами адресно по ходу расчетов.\n",
    "\n",
    "</div>\n",
    "\n",
    "<div class=\"alert alert-success\">\n",
    "    \n",
    "Прочие полезности:\n",
    "\n",
    "1. Установить окружение Практикума и работать в нем.\n",
    "    \n",
    "1. Написать универсальную функцию для знакомства с данными.\n",
    "    \n",
    "1. На этапе знакомства с данными проверять соответствуют ли данные описанию.\n",
    "    \n",
    "1. Проверять за какой временной период есть данные, если данные за несколько лет, при выделении месяца пользоваться методом `astype('datetime64[M]')`\n",
    "    \n",
    "1. Не выводить весь датафрейм, а пользоваться методами `head()`, `tail()`, `sample()`.\n",
    "    \n",
    "1. Добавить подписи осей на графиках.\n",
    "    \n",
    "1. Добавлять комментарии по логике работы кода, особенно для функций.\n",
    "\n",
    "</div>\n",
    "\n",
    "\n",
    "Возвращаю проект тебе на доработку и жду его на повторное ревью. Если есть какие то вопросы — смело задавай их."
   ]
  }
 ],
 "metadata": {
  "ExecuteTimeLog": [
   {
    "duration": 1153,
    "start_time": "2022-03-10T06:40:40.930Z"
   },
   {
    "duration": 357,
    "start_time": "2022-03-10T06:40:42.085Z"
   },
   {
    "duration": 7,
    "start_time": "2022-03-10T06:40:42.444Z"
   },
   {
    "duration": 15,
    "start_time": "2022-03-10T06:40:42.453Z"
   },
   {
    "duration": 15,
    "start_time": "2022-03-10T06:40:42.469Z"
   },
   {
    "duration": 10,
    "start_time": "2022-03-10T06:40:42.485Z"
   },
   {
    "duration": 6,
    "start_time": "2022-03-10T06:40:42.496Z"
   },
   {
    "duration": 20,
    "start_time": "2022-03-10T06:40:42.504Z"
   },
   {
    "duration": 8,
    "start_time": "2022-03-10T06:40:42.526Z"
   },
   {
    "duration": 4,
    "start_time": "2022-03-10T06:40:42.559Z"
   },
   {
    "duration": 18,
    "start_time": "2022-03-10T06:40:42.565Z"
   },
   {
    "duration": 8,
    "start_time": "2022-03-10T06:40:42.584Z"
   },
   {
    "duration": 5,
    "start_time": "2022-03-10T06:40:42.593Z"
   },
   {
    "duration": 6,
    "start_time": "2022-03-10T06:40:42.600Z"
   },
   {
    "duration": 8,
    "start_time": "2022-03-10T06:40:42.608Z"
   },
   {
    "duration": 218,
    "start_time": "2022-03-10T06:40:42.617Z"
   },
   {
    "duration": 3,
    "start_time": "2022-03-10T06:40:42.837Z"
   },
   {
    "duration": 20,
    "start_time": "2022-03-10T06:40:42.842Z"
   },
   {
    "duration": 42361,
    "start_time": "2022-03-10T06:40:42.864Z"
   },
   {
    "duration": 4,
    "start_time": "2022-03-10T06:41:25.227Z"
   },
   {
    "duration": 27,
    "start_time": "2022-03-10T06:41:25.232Z"
   },
   {
    "duration": 12,
    "start_time": "2022-03-10T06:41:25.260Z"
   },
   {
    "duration": 12,
    "start_time": "2022-03-10T06:41:25.275Z"
   },
   {
    "duration": 4,
    "start_time": "2022-03-10T06:41:25.290Z"
   },
   {
    "duration": 20,
    "start_time": "2022-03-10T06:41:25.296Z"
   },
   {
    "duration": 66,
    "start_time": "2022-03-10T06:41:25.318Z"
   },
   {
    "duration": 4,
    "start_time": "2022-03-10T06:41:25.385Z"
   },
   {
    "duration": 8,
    "start_time": "2022-03-10T06:41:25.391Z"
   },
   {
    "duration": 6,
    "start_time": "2022-03-10T06:41:25.401Z"
   },
   {
    "duration": 62,
    "start_time": "2022-03-10T06:41:25.408Z"
   },
   {
    "duration": 31,
    "start_time": "2022-03-10T06:41:25.472Z"
   },
   {
    "duration": 18,
    "start_time": "2022-03-10T06:41:25.505Z"
   },
   {
    "duration": 55,
    "start_time": "2022-03-10T06:41:25.524Z"
   },
   {
    "duration": 610,
    "start_time": "2022-03-10T06:41:25.581Z"
   },
   {
    "duration": 5,
    "start_time": "2022-03-10T06:41:26.194Z"
   },
   {
    "duration": 11,
    "start_time": "2022-03-10T06:41:26.201Z"
   },
   {
    "duration": 3,
    "start_time": "2022-03-10T06:41:26.214Z"
   },
   {
    "duration": 45,
    "start_time": "2022-03-10T06:41:26.218Z"
   },
   {
    "duration": 29,
    "start_time": "2022-03-10T06:41:26.264Z"
   },
   {
    "duration": 4,
    "start_time": "2022-03-10T06:41:26.295Z"
   },
   {
    "duration": 27,
    "start_time": "2022-03-10T06:41:26.300Z"
   },
   {
    "duration": 47,
    "start_time": "2022-03-10T06:41:26.328Z"
   },
   {
    "duration": 265,
    "start_time": "2022-03-10T06:41:26.376Z"
   },
   {
    "duration": 7,
    "start_time": "2022-03-10T06:41:26.643Z"
   },
   {
    "duration": 5,
    "start_time": "2022-03-10T06:41:26.659Z"
   },
   {
    "duration": 4,
    "start_time": "2022-03-10T06:41:26.666Z"
   },
   {
    "duration": 27,
    "start_time": "2022-03-10T06:41:26.671Z"
   },
   {
    "duration": 63,
    "start_time": "2022-03-10T06:41:26.700Z"
   },
   {
    "duration": 5,
    "start_time": "2022-03-10T06:41:26.765Z"
   },
   {
    "duration": 93,
    "start_time": "2022-03-10T06:41:26.772Z"
   },
   {
    "duration": 264,
    "start_time": "2022-03-10T06:41:26.866Z"
   },
   {
    "duration": 5,
    "start_time": "2022-03-10T06:41:27.131Z"
   },
   {
    "duration": 9,
    "start_time": "2022-03-10T06:41:27.137Z"
   },
   {
    "duration": 13,
    "start_time": "2022-03-10T06:41:27.147Z"
   },
   {
    "duration": 15,
    "start_time": "2022-03-10T06:41:27.162Z"
   },
   {
    "duration": 4,
    "start_time": "2022-03-10T06:41:27.179Z"
   },
   {
    "duration": 8,
    "start_time": "2022-03-10T06:41:27.185Z"
   },
   {
    "duration": 661,
    "start_time": "2022-03-10T06:41:27.194Z"
   },
   {
    "duration": 354,
    "start_time": "2022-03-10T06:41:27.857Z"
   },
   {
    "duration": 33,
    "start_time": "2022-03-10T06:41:28.213Z"
   },
   {
    "duration": 40,
    "start_time": "2022-03-10T06:41:28.247Z"
   },
   {
    "duration": 1020,
    "start_time": "2022-03-10T06:41:28.289Z"
   },
   {
    "duration": 2,
    "start_time": "2022-03-10T06:41:29.311Z"
   },
   {
    "duration": 9,
    "start_time": "2022-03-10T06:41:29.315Z"
   },
   {
    "duration": 35,
    "start_time": "2022-03-10T06:41:29.325Z"
   },
   {
    "duration": 8,
    "start_time": "2022-03-10T06:41:29.362Z"
   },
   {
    "duration": 6,
    "start_time": "2022-03-10T06:41:29.372Z"
   },
   {
    "duration": 977,
    "start_time": "2022-03-10T07:24:46.280Z"
   },
   {
    "duration": 2402,
    "start_time": "2022-03-10T07:29:43.584Z"
   },
   {
    "duration": 8,
    "start_time": "2022-03-10T08:01:10.122Z"
   },
   {
    "duration": 9,
    "start_time": "2022-03-10T08:53:37.237Z"
   },
   {
    "duration": 5,
    "start_time": "2022-03-10T08:55:22.164Z"
   },
   {
    "duration": 6,
    "start_time": "2022-03-10T08:55:54.287Z"
   },
   {
    "duration": 6,
    "start_time": "2022-03-10T08:56:44.478Z"
   },
   {
    "duration": 6,
    "start_time": "2022-03-10T08:57:04.375Z"
   },
   {
    "duration": 7,
    "start_time": "2022-03-10T08:57:22.605Z"
   },
   {
    "duration": 5,
    "start_time": "2022-03-10T08:57:37.437Z"
   },
   {
    "duration": 19,
    "start_time": "2022-03-10T09:21:29.420Z"
   },
   {
    "duration": 4,
    "start_time": "2022-03-10T09:27:12.881Z"
   },
   {
    "duration": 4,
    "start_time": "2022-03-10T09:27:27.551Z"
   },
   {
    "duration": 9,
    "start_time": "2022-03-10T09:29:18.526Z"
   },
   {
    "duration": 6,
    "start_time": "2022-03-10T09:31:04.634Z"
   },
   {
    "duration": 239,
    "start_time": "2022-03-10T09:32:22.618Z"
   },
   {
    "duration": 1114,
    "start_time": "2022-03-10T09:32:52.300Z"
   },
   {
    "duration": 361,
    "start_time": "2022-03-10T09:32:53.416Z"
   },
   {
    "duration": 7,
    "start_time": "2022-03-10T09:32:53.779Z"
   },
   {
    "duration": 31,
    "start_time": "2022-03-10T09:32:53.788Z"
   },
   {
    "duration": 17,
    "start_time": "2022-03-10T09:32:53.821Z"
   },
   {
    "duration": 19,
    "start_time": "2022-03-10T09:32:53.840Z"
   },
   {
    "duration": 28,
    "start_time": "2022-03-10T09:32:53.861Z"
   },
   {
    "duration": 27,
    "start_time": "2022-03-10T09:32:53.891Z"
   },
   {
    "duration": 8,
    "start_time": "2022-03-10T09:32:53.921Z"
   },
   {
    "duration": 21,
    "start_time": "2022-03-10T09:32:53.931Z"
   },
   {
    "duration": 36,
    "start_time": "2022-03-10T09:32:53.954Z"
   },
   {
    "duration": 29,
    "start_time": "2022-03-10T09:32:53.992Z"
   },
   {
    "duration": 23,
    "start_time": "2022-03-10T09:32:54.023Z"
   },
   {
    "duration": 22,
    "start_time": "2022-03-10T09:32:54.047Z"
   },
   {
    "duration": 26,
    "start_time": "2022-03-10T09:32:54.071Z"
   },
   {
    "duration": 210,
    "start_time": "2022-03-10T09:32:54.098Z"
   },
   {
    "duration": 3,
    "start_time": "2022-03-10T09:32:54.310Z"
   },
   {
    "duration": 22,
    "start_time": "2022-03-10T09:32:54.314Z"
   },
   {
    "duration": 44066,
    "start_time": "2022-03-10T09:32:54.338Z"
   },
   {
    "duration": 4,
    "start_time": "2022-03-10T09:33:38.406Z"
   },
   {
    "duration": 27,
    "start_time": "2022-03-10T09:33:38.411Z"
   },
   {
    "duration": 22,
    "start_time": "2022-03-10T09:33:38.440Z"
   },
   {
    "duration": 19,
    "start_time": "2022-03-10T09:33:38.464Z"
   },
   {
    "duration": 15,
    "start_time": "2022-03-10T09:33:38.484Z"
   },
   {
    "duration": 25,
    "start_time": "2022-03-10T09:33:38.501Z"
   },
   {
    "duration": 45,
    "start_time": "2022-03-10T09:33:38.528Z"
   },
   {
    "duration": 4,
    "start_time": "2022-03-10T09:33:38.578Z"
   },
   {
    "duration": 20,
    "start_time": "2022-03-10T09:33:38.585Z"
   },
   {
    "duration": 27,
    "start_time": "2022-03-10T09:33:38.607Z"
   },
   {
    "duration": 52,
    "start_time": "2022-03-10T09:33:38.635Z"
   },
   {
    "duration": 31,
    "start_time": "2022-03-10T09:33:38.689Z"
   },
   {
    "duration": 17,
    "start_time": "2022-03-10T09:33:38.722Z"
   },
   {
    "duration": 43,
    "start_time": "2022-03-10T09:33:38.741Z"
   },
   {
    "duration": 599,
    "start_time": "2022-03-10T09:33:38.785Z"
   },
   {
    "duration": 4,
    "start_time": "2022-03-10T09:33:39.386Z"
   },
   {
    "duration": 11,
    "start_time": "2022-03-10T09:33:39.392Z"
   },
   {
    "duration": 4,
    "start_time": "2022-03-10T09:33:39.405Z"
   },
   {
    "duration": 30,
    "start_time": "2022-03-10T09:33:39.411Z"
   },
   {
    "duration": 42,
    "start_time": "2022-03-10T09:33:39.442Z"
   },
   {
    "duration": 4,
    "start_time": "2022-03-10T09:33:39.486Z"
   },
   {
    "duration": 29,
    "start_time": "2022-03-10T09:33:39.492Z"
   },
   {
    "duration": 51,
    "start_time": "2022-03-10T09:33:39.522Z"
   },
   {
    "duration": 263,
    "start_time": "2022-03-10T09:33:39.575Z"
   },
   {
    "duration": 6,
    "start_time": "2022-03-10T09:33:39.839Z"
   },
   {
    "duration": 4,
    "start_time": "2022-03-10T09:33:39.859Z"
   },
   {
    "duration": 3,
    "start_time": "2022-03-10T09:33:39.865Z"
   },
   {
    "duration": 26,
    "start_time": "2022-03-10T09:33:39.870Z"
   },
   {
    "duration": 33,
    "start_time": "2022-03-10T09:33:39.898Z"
   },
   {
    "duration": 26,
    "start_time": "2022-03-10T09:33:39.933Z"
   },
   {
    "duration": 31,
    "start_time": "2022-03-10T09:33:39.961Z"
   },
   {
    "duration": 326,
    "start_time": "2022-03-10T09:33:39.994Z"
   },
   {
    "duration": 5,
    "start_time": "2022-03-10T09:33:40.321Z"
   },
   {
    "duration": 7,
    "start_time": "2022-03-10T09:33:40.328Z"
   },
   {
    "duration": 6,
    "start_time": "2022-03-10T09:33:40.336Z"
   },
   {
    "duration": 16,
    "start_time": "2022-03-10T09:33:40.344Z"
   },
   {
    "duration": 6,
    "start_time": "2022-03-10T09:33:40.361Z"
   },
   {
    "duration": 7,
    "start_time": "2022-03-10T09:33:40.369Z"
   },
   {
    "duration": 689,
    "start_time": "2022-03-10T09:33:40.377Z"
   },
   {
    "duration": 7,
    "start_time": "2022-03-10T09:33:41.067Z"
   },
   {
    "duration": 311,
    "start_time": "2022-03-10T09:33:41.075Z"
   },
   {
    "duration": -5069,
    "start_time": "2022-03-10T09:33:46.457Z"
   },
   {
    "duration": -5070,
    "start_time": "2022-03-10T09:33:46.459Z"
   },
   {
    "duration": -5071,
    "start_time": "2022-03-10T09:33:46.461Z"
   },
   {
    "duration": -5072,
    "start_time": "2022-03-10T09:33:46.462Z"
   },
   {
    "duration": -5073,
    "start_time": "2022-03-10T09:33:46.464Z"
   },
   {
    "duration": -5073,
    "start_time": "2022-03-10T09:33:46.465Z"
   },
   {
    "duration": -5073,
    "start_time": "2022-03-10T09:33:46.466Z"
   },
   {
    "duration": -5078,
    "start_time": "2022-03-10T09:33:46.472Z"
   },
   {
    "duration": -5079,
    "start_time": "2022-03-10T09:33:46.474Z"
   },
   {
    "duration": 11,
    "start_time": "2022-03-10T09:36:45.397Z"
   },
   {
    "duration": 17,
    "start_time": "2022-03-10T09:37:28.792Z"
   },
   {
    "duration": 338,
    "start_time": "2022-03-10T09:37:50.215Z"
   },
   {
    "duration": 331,
    "start_time": "2022-03-10T09:37:57.051Z"
   },
   {
    "duration": 32,
    "start_time": "2022-03-10T09:37:57.384Z"
   },
   {
    "duration": 48,
    "start_time": "2022-03-10T09:37:57.419Z"
   },
   {
    "duration": 960,
    "start_time": "2022-03-10T09:37:57.469Z"
   },
   {
    "duration": 2,
    "start_time": "2022-03-10T09:37:58.431Z"
   },
   {
    "duration": 9,
    "start_time": "2022-03-10T09:37:58.435Z"
   },
   {
    "duration": 30,
    "start_time": "2022-03-10T09:37:58.446Z"
   },
   {
    "duration": 8,
    "start_time": "2022-03-10T09:37:58.477Z"
   },
   {
    "duration": 15,
    "start_time": "2022-03-10T09:37:58.487Z"
   },
   {
    "duration": 9,
    "start_time": "2022-03-10T09:49:28.637Z"
   },
   {
    "duration": 9,
    "start_time": "2022-03-10T09:51:09.164Z"
   },
   {
    "duration": 5,
    "start_time": "2022-03-10T09:59:33.970Z"
   },
   {
    "duration": 10,
    "start_time": "2022-03-10T10:01:24.685Z"
   },
   {
    "duration": 6,
    "start_time": "2022-03-10T10:02:55.355Z"
   },
   {
    "duration": 7455,
    "start_time": "2022-03-10T10:04:27.481Z"
   },
   {
    "duration": 5,
    "start_time": "2022-03-10T10:04:40.457Z"
   },
   {
    "duration": 9,
    "start_time": "2022-03-10T10:09:07.141Z"
   },
   {
    "duration": 11,
    "start_time": "2022-03-10T10:23:48.482Z"
   },
   {
    "duration": 1171,
    "start_time": "2022-03-10T11:43:01.069Z"
   },
   {
    "duration": 391,
    "start_time": "2022-03-10T11:43:02.242Z"
   },
   {
    "duration": 8,
    "start_time": "2022-03-10T11:43:02.637Z"
   },
   {
    "duration": 20,
    "start_time": "2022-03-10T11:43:02.647Z"
   },
   {
    "duration": 17,
    "start_time": "2022-03-10T11:43:02.669Z"
   },
   {
    "duration": 7,
    "start_time": "2022-03-10T11:43:02.688Z"
   },
   {
    "duration": 6,
    "start_time": "2022-03-10T11:43:02.698Z"
   },
   {
    "duration": 28,
    "start_time": "2022-03-10T11:43:02.706Z"
   },
   {
    "duration": 8,
    "start_time": "2022-03-10T11:43:02.760Z"
   },
   {
    "duration": 8,
    "start_time": "2022-03-10T11:43:02.769Z"
   },
   {
    "duration": 18,
    "start_time": "2022-03-10T11:43:02.779Z"
   },
   {
    "duration": 9,
    "start_time": "2022-03-10T11:43:02.798Z"
   },
   {
    "duration": 6,
    "start_time": "2022-03-10T11:43:02.808Z"
   },
   {
    "duration": 50,
    "start_time": "2022-03-10T11:43:02.815Z"
   },
   {
    "duration": 12,
    "start_time": "2022-03-10T11:43:02.867Z"
   },
   {
    "duration": 219,
    "start_time": "2022-03-10T11:43:02.881Z"
   },
   {
    "duration": 5,
    "start_time": "2022-03-10T11:43:03.101Z"
   },
   {
    "duration": 7,
    "start_time": "2022-03-10T11:43:03.107Z"
   },
   {
    "duration": 44537,
    "start_time": "2022-03-10T11:43:03.116Z"
   },
   {
    "duration": 4,
    "start_time": "2022-03-10T11:43:47.659Z"
   },
   {
    "duration": 30,
    "start_time": "2022-03-10T11:43:47.665Z"
   },
   {
    "duration": 18,
    "start_time": "2022-03-10T11:43:47.699Z"
   },
   {
    "duration": 39,
    "start_time": "2022-03-10T11:43:47.720Z"
   },
   {
    "duration": 18,
    "start_time": "2022-03-10T11:43:47.761Z"
   },
   {
    "duration": 34,
    "start_time": "2022-03-10T11:43:47.781Z"
   },
   {
    "duration": 36,
    "start_time": "2022-03-10T11:43:47.817Z"
   },
   {
    "duration": 5,
    "start_time": "2022-03-10T11:43:47.855Z"
   },
   {
    "duration": 53,
    "start_time": "2022-03-10T11:43:47.862Z"
   },
   {
    "duration": 23,
    "start_time": "2022-03-10T11:43:47.916Z"
   },
   {
    "duration": 73,
    "start_time": "2022-03-10T11:43:47.941Z"
   },
   {
    "duration": 31,
    "start_time": "2022-03-10T11:43:48.016Z"
   },
   {
    "duration": 18,
    "start_time": "2022-03-10T11:43:48.049Z"
   },
   {
    "duration": 31,
    "start_time": "2022-03-10T11:43:48.069Z"
   },
   {
    "duration": 622,
    "start_time": "2022-03-10T11:43:48.101Z"
   },
   {
    "duration": 5,
    "start_time": "2022-03-10T11:43:48.724Z"
   },
   {
    "duration": 20,
    "start_time": "2022-03-10T11:43:48.730Z"
   },
   {
    "duration": 7,
    "start_time": "2022-03-10T11:43:48.752Z"
   },
   {
    "duration": 29,
    "start_time": "2022-03-10T11:43:48.761Z"
   },
   {
    "duration": 31,
    "start_time": "2022-03-10T11:43:48.792Z"
   },
   {
    "duration": 11,
    "start_time": "2022-03-10T11:43:48.825Z"
   },
   {
    "duration": 44,
    "start_time": "2022-03-10T11:43:48.838Z"
   },
   {
    "duration": 23,
    "start_time": "2022-03-10T11:43:48.884Z"
   },
   {
    "duration": 278,
    "start_time": "2022-03-10T11:43:48.910Z"
   },
   {
    "duration": 6,
    "start_time": "2022-03-10T11:43:49.190Z"
   },
   {
    "duration": 29,
    "start_time": "2022-03-10T11:43:49.198Z"
   },
   {
    "duration": 9,
    "start_time": "2022-03-10T11:43:49.229Z"
   },
   {
    "duration": 43,
    "start_time": "2022-03-10T11:43:49.240Z"
   },
   {
    "duration": 40,
    "start_time": "2022-03-10T11:43:49.286Z"
   },
   {
    "duration": 68,
    "start_time": "2022-03-10T11:43:49.328Z"
   },
   {
    "duration": 47,
    "start_time": "2022-03-10T11:43:49.398Z"
   },
   {
    "duration": 259,
    "start_time": "2022-03-10T11:43:49.447Z"
   },
   {
    "duration": 6,
    "start_time": "2022-03-10T11:43:49.707Z"
   },
   {
    "duration": 27,
    "start_time": "2022-03-10T11:43:49.714Z"
   },
   {
    "duration": 18,
    "start_time": "2022-03-10T11:43:49.743Z"
   },
   {
    "duration": 9,
    "start_time": "2022-03-10T11:43:49.762Z"
   },
   {
    "duration": 29,
    "start_time": "2022-03-10T11:43:49.772Z"
   },
   {
    "duration": 29,
    "start_time": "2022-03-10T11:43:49.803Z"
   },
   {
    "duration": 665,
    "start_time": "2022-03-10T11:43:49.833Z"
   },
   {
    "duration": 392,
    "start_time": "2022-03-10T11:43:50.500Z"
   },
   {
    "duration": 34,
    "start_time": "2022-03-10T11:43:50.894Z"
   },
   {
    "duration": 66,
    "start_time": "2022-03-10T11:43:50.930Z"
   },
   {
    "duration": 1012,
    "start_time": "2022-03-10T11:43:50.998Z"
   },
   {
    "duration": 3,
    "start_time": "2022-03-10T11:43:52.011Z"
   },
   {
    "duration": 19,
    "start_time": "2022-03-10T11:43:52.016Z"
   },
   {
    "duration": 39,
    "start_time": "2022-03-10T11:43:52.037Z"
   },
   {
    "duration": 10,
    "start_time": "2022-03-10T11:43:52.078Z"
   },
   {
    "duration": 8,
    "start_time": "2022-03-10T11:43:52.093Z"
   }
  ],
  "kernelspec": {
   "display_name": "Python 3",
   "language": "python",
   "name": "python3"
  },
  "language_info": {
   "codemirror_mode": {
    "name": "ipython",
    "version": 3
   },
   "file_extension": ".py",
   "mimetype": "text/x-python",
   "name": "python",
   "nbconvert_exporter": "python",
   "pygments_lexer": "ipython3",
   "version": "3.7.12"
  },
  "toc": {
   "base_numbering": 1,
   "nav_menu": {},
   "number_sections": true,
   "sideBar": true,
   "skip_h1_title": true,
   "title_cell": "Table of Contents",
   "title_sidebar": "Contents",
   "toc_cell": false,
   "toc_position": {},
   "toc_section_display": true,
   "toc_window_display": false
  }
 },
 "nbformat": 4,
 "nbformat_minor": 4
}
